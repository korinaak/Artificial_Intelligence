{
  "cells": [
    {
      "cell_type": "markdown",
      "metadata": {
        "id": "CCcGFAb8nULW"
      },
      "source": [
        "# Τεχνητή Νοημοσύνη: Εργαστηριακή Άσκηση 1\n",
        "\n",
        "    \n",
        "\n",
        "---\n",
        "\n",
        "\n",
        "\n",
        "Ο στόχος της εργασίας είναι η εφαρμογή αλγορίθμων αναζήτησης και εύρεσης καλύτερου μονοπατιού σε λαβύρινθο διαστάσεων $N\\times N$\n"
      ]
    },
    {
      "cell_type": "markdown",
      "metadata": {
        "id": "PPcLy1P7naLP"
      },
      "source": [
        "# Εκφώνηση\n",
        "\n",
        "## Μέρος 1\n",
        "Ο στόχος του πρώτου μέρους είναι η κατασκευή **λαβυρίνθων**. [Σε αυτό το άρθρο της Wikipedia](https://en.wikipedia.org/wiki/Maze_generation_algorithm) μπορείτε να βρείτε διάφορους αλγορίθμους για αυτό το σκοπό, συμπεριλαμβανομένου κι αυτού που χρησιμοποιείται παρακάτω. Προσέξτε ότι οι αλγόριθμοι του παραπάνω άρθρου κατασκευάζουν ένα μόνο μονοπάτι από κάθε σημείο του λαβυρίνθου προς οποιοδήποτε άλλο (η δομή του λαβυρίνθου έχει μορφή συνεκτικού δέντρου). Καλείστε να συμπληρώσετε τον κώδικα στα σημεία που λείπει ώστε οι λαβύρινθοι που κατασκευάζει τυχαία να έχουν μεταβλητή πυκνότητα εμποδίων/τοίχων (καθορίζεται από την παράμετρο threshold). Όλοι οι χάρτες θα πρέπει να έχουν τουλάχιστον ένα μονοπάτι μεταξύ ενός σημείου αφετηρίας (S) και ενός σημείου τερματισμού (F).\n",
        "\n",
        "Σε όλα τα ερωτήματα φροντίστε να χρησιμοποιήσετε **δομημένο** κώδικα, με **σχόλια** που επισημαίνουν τη λογική του.\n",
        "\n",
        "\n",
        "### Παραδείγματα λαβυρίνθων\n",
        "![index1.png](data:image/png;base64,iVBORw0KGgoAAAANSUhEUgAAAOsAAADrCAYAAACICmHVAAAABHNCSVQICAgIfAhkiAAAAAlwSFlzAAALEgAACxIB0t1+/AAAADh0RVh0U29mdHdhcmUAbWF0cGxvdGxpYiB2ZXJzaW9uMy4yLjIsIGh0dHA6Ly9tYXRwbG90bGliLm9yZy+WH4yJAAADhUlEQVR4nO3dwW0UMQCGURvRB0VsBXRBi+mCCuiBOz0MlxyDYJF3x9/se8ckGo3W+uRIkf7M4zgGsL9PZ78A8G/EChFihQixQoRYIUKsEPH5nh+ec/o7DzzYcRzzo6+7WSFCrBAhVogQK0SIFSLEChFihQixQoRYIUKsECFWiBArRIgVIsQKEWKFCLFChFghQqwQcdesy2o7/zeA29vXpc/78e370uft/Nm9mjk/XGFZzs0KEWKFCLFChFghQqwQIVaIECtEiBUixAoRYoUIsUKEWCFCrBAhVogQK0SIFSLEChFihQixQsSpG0yrPWsL54pe6bOr7le5WSFCrBAhVogQK0SIFSLEChFihQixQoRYIUKsECFWiBArRIgVIsQKEWKFCLFChFghQqwQcalZl53nOl5pNmWMvc+iys0KEWKFCLFChFghQqwQIVaIECtEiBUixAoRYoUIsUKEWCFCrBAhVogQK0SIFSLEChFihQixQsSlNphW7hzZENqLs3WzQoZYIUKsECFWiBArRIgVIsQKEWKFCLFChFghQqwQIVaIECtEiBUixAoRYoUIsUKEWCFCrBBxqQ2mnbd1dn63Ap+fmxUyxAoRYoUIsUKEWCFCrBAhVogQK0SIFSLEChFihQixQoRYIUKsECFWiBArRIgVIsQKEWKFiEttMM05z34FHmTl2Vb3nNysECFWiBArRIgVIsQKEWKFCLFChFghQqwQIVaIECtEiBUixAoRYoUIsUKEWCFCrBAhVogQK0RcaoOpuq3D360827fbbdmznsnNChFihQixQoRYIUKsECFWiBArRIgVIsQKEWKFCLFChFghQqwQIVaIECtEiBUixAoRYoUIsULEpTaY5pxnvwLvVu9hOVs3K2SIFSLEChFihQixQoRYIUKsECFWiBArRIgVIsQKEWKFCLFChFghQqwQIVaIECtEiBUiLjXrsnpKhH3sfLbPmpxxs0KEWCFCrBAhVogQK0SIFSLEChFihQixQoRYIUKsECFWiBArRIgVIsQKEWKFCLFChFghQqwQceoG07O2a+AK3KwQIVaIECtEiBUixAoRYoUIsUKEWCFCrBAhVogQK0SIFSLEChFihQixQoRYIUKsECFWiBArRNy7wfRrjPHzES8CjDHG+PKnb8zjOJ75IsB/8mswRIgVIsQKEWKFCLFChFghQqwQIVaIECtE/AZROUHZqFYHAAAAAABJRU5ErkJggg==)\n",
        "![index2.png](data:image/png;base64,iVBORw0KGgoAAAANSUhEUgAAAOsAAADrCAYAAACICmHVAAAABHNCSVQICAgIfAhkiAAAAAlwSFlzAAALEgAACxIB0t1+/AAAADh0RVh0U29mdHdhcmUAbWF0cGxvdGxpYiB2ZXJzaW9uMy4yLjIsIGh0dHA6Ly9tYXRwbG90bGliLm9yZy+WH4yJAAAEvklEQVR4nO3d0W0bRxRA0WWQPlKEKkgXadFduAL3kP/0wPwKiBQu7eHwXeqcz9iIhyNfjIE3u7xcr9cDmO+3Zy8AOEesECFWiBArRIgVIsQKEb/f85svl4s5DzzY9Xq9fPTfnawQIVaIECtEiBUixAoRYoUIsULEXXPWMzxyB5+7XD4coZ7iZIUIsUKEWCFCrBAhVogQK0SIFSKWz1lvOTNnOjOr/ZV51Ve2am9v/X++6s/nkfcMnKwQIVaIECtEiBUixAoRYoUIsUKEWCFi+6WInVYMqN++/Xnz9/z46/vD13FW6TLCrgsaqzx7b52sECFWiBArRIgVIsQKEWKFCLFChFghYuSliF3D52cPud+bNPx/Na+yt05WiBArRIgVIsQKEWKFCLFChFghQqwQsf1SRGH4/N6ur/JYtS9T9nfKOl6JkxUixAoRYoUIsUKEWCFCrBAhVohYPmed9ED3FKv2ZNfM9ww/5/2crBAhVogQK0SIFSLEChFihQixQoRYIWL5pQgPHf/XpD2ZtBbu42SFCLFChFghQqwQIVaIECtEiBUixAoR29/Iv/MNA7cuAEx624G1cIuTFSLEChFihQixQoRYIUKsECFWiMh+8/muWeCkh7Wt5ee8ytzYyQoRYoUIsUKEWCFCrBAhVogQK0SIFSKWX4pYMYAuDdyPY9bQfcpazqzjzM95yueZwMkKEWKFCLFChFghQqwQIVaIECtEiBUill+KqF1o2GHSnkxayxkr1rvqYsWz987JChFihQixQoRYIUKsECFWiBArRIgVIrZ/fcaqNwiUTBrKT3rzwivuyyP/7jpZIUKsECFWiBArRIgVIsQKEWKFiO1z1kl2zXMnzY0nrWWSwr44WSFCrBAhVogQK0SIFSLEChFihQixQsSXvhTxig9irzBpLZM8e1+crBAhVogQK0SIFSLEChFihQixQoRYIWL7pYhJT+RPWssZpTdbfMVvXjiO25/pVy5WOFkhQqwQIVaIECtEiBUixAoRYoUIsULE9ksRz37a/r1Ja1ll12fadaFhxeWKV7mg4WSFCLFChFghQqwQIVaIECtEiBUiRr6Rv/SQ9SqvNh9dZcV6a5/5M05WiBArRIgVIsQKEWKFCLFChFghQqwQMfJSxBmTLhHcWsuqofyuzzzpofxJa3k2JytEiBUixAoRYoUIsUKEWCFCrBAhVojYfili51P7j/zK+NUmXZyovVmhtt6f5WSFCLFChFghQqwQIVaIECtEiBUivvQ3n++y6jOvmCfuWsvObxuf9HfqkTNfJytEiBUixAoRYoUIsUKEWCFCrBAhVogY+Ub+XQ8Tr/pzSpcVanbtbWHfnKwQIVaIECtEiBUixAoRYoUIsUKEWCFi5KWISW8z2LGOsya9EWGF2kWQZ1+ucLJChFghQqwQIVaIECtEiBUixAoRYoWI7ZciJj2RP+mywqR9qfn29va/v/4qe+tkhQixQoRYIUKsECFWiBArRIgVIi73zKAul8trDKxgsOv1+uHg3skKEWKFCLFChFghQqwQIVaIECtEiBUi7n34/J/jOP5+xEKA4ziO44/PfuGuG0zA8/hnMESIFSLEChFihQixQoRYIUKsECFWiBArRPwLUNQF44aEdWwAAAAASUVORK5CYII=)\n",
        "![index3.png](data:image/png;base64,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)"
      ]
    },
    {
      "cell_type": "markdown",
      "metadata": {
        "id": "hrKnkVsr61N-"
      },
      "source": [
        "## Μέρος 2\n",
        "\n",
        "Στο δεύτερο μέρος της εργασίας καλείστε να υλοποιήσετε διάφορους αλγορίθμους εύρεσης συντομότερων μονοπατιών μεταξύ δυο κόμβων για τους λαβυρίνθους που παράγονται από τον κώδικα του πρώτου μέρους. Παράλληλα καλείστε να κατασκευάσετε και διάφορες συναρτήσεις κόστους τόσο για την μέτρηση των πραγματικών αποστάσεων όσο και για την εκτίμηση των αποστάσεων από έναν κόμβο στον κόμβο στόχο (heuristic). Επίσης μπορείτε να πειραματιστείτε με οποιαδήποτε από τις παραμέτρους κάθε αλγορίθμου με σκοπό να μελετήσετε το πώς οι αλλαγές αυτές επηρεάζουν την πολυπλοκότητα, τον χρόνο καθώς και βέλτιστο μονοπάτι. Οι παραπάνω αλγόριθμοι καθώς και οι παραλλαγές τους θα τρέξουν σε λαβυρίνθους με διαφορετικά μεγέθη. Υλοποιήστε τους αλγορίθμους στο κελί κώδικα του Μέρους 2.<br>\n",
        "\n",
        "Η γενική μορφή της συνάρτησης κόστους στον αλγόριθμο Α* είναι:\n",
        "$$f(n)=g(n)+h(n)$$\n",
        "Παραπάνω, η συνάρτηση $g(n)$ δίνει την πραγματική απόσταση από το σημείο εκκίνησης μέχρι τον κόμβο $n$, και η συνάρτηση $h(n)$ αποτελεί μια ευριστική της απόστασης από τον κόμβο $n$ μέχρι τον στόχο. Σας ζητείται να πειραματιστείτε με τις εξής επιλογές για τις δύο συναρτήσεις:\n",
        "* $g(n)=0$ και $h(n)=\\{\\text{manhattan}(n),\\text{euclidean}(n)\\}$. Ποιος αλγόριθμος αναζήτησης προκύπτει; Μπορεί να βρει πάντα το βέλτιστο μονοπάτι;\n",
        "* $g(n)=1$ και $h(n)=0$. Ποιος αλγόριθμος αναζήτησης προκύπτει; Μπορεί να βρει πάντα το βέλτιστο μονοπάτι;\n",
        "* $g(n)=1$ και $h(n)=\\{\\text{manhattan}(n),\\text{euclidean}(n)\\}$. Ποιος αλγόριθμος αναζήτησης προκύπτει; Μπορεί να βρει πάντα το βέλτιστο μονοπάτι;\n",
        "\n",
        "Μπορείτε να προτείνετε και άλλες ευριστικές συναρτήσεις εκτός από τις αποστάσεις manhattan και euclidean;"
      ]
    },
    {
      "cell_type": "markdown",
      "metadata": {
        "id": "HBVzpYPF9WC_"
      },
      "source": [
        "## Μέρος 3\n",
        "\n",
        "Στο τρίτο μέρος καλείστε να υλοποιήσετε μια συγκριτική μελέτη των αλγορίθμων που κατασκευάσατε στο Μέρος 2 με σκοπό να καταλήξετε σε ορισμένα συμπεράσματα. Οι αλγόριθμοι θα συγκρίνονται με βάση την πολυπλοκότητά τους και το κατά πόσο μπορούν να βρούν το βέλτιστο μονοπάτι.\n",
        "\n",
        "Για να κρίνουμε τον τρόπο με τον οποίο το μέγεθος του λαβύρινθου επηρεάζει τους αλγορίθμους, κατασκευάζουμε χάρτες με διάσταση $N=[10,20,\\ldots,100]$. Για κάθε παραμετροποίηση προτείνεται να κατασκευάζετε 100 διαφορετικούς χάρτες, στους οποίους θα εκτελείτε τους παραπάνω αλγορίθμους.\n",
        "\n",
        "Έπειτα, ζητείται να συλλέξετε τα εξής χαρακτηριστικά:\n",
        " * το μήκος του ελάχιστου μονοπατιού που εξάγει ο εκάστοτε αλγόριθμος.\n",
        " * το πλήθος των επεκτεταμένων κόμβων (expanded nodes) του κάθε αλγορίθμου, που αποτελεί μέτρο της πολυπλοκότητάς του.\n",
        "\n",
        " Για να σας είναι εύκολο να εξάγετε συμπεράσματα από τις παραπάνω παραμετροποιήσεις, ζητείται να κατασκευάσετε δύο γραφικές παραστάσεις:\n",
        " * το μήκος του ελάχιστου μονοπατιού συναρτήσει του μεγέθους του χάρτη\n",
        " * το πλήθος των expanded nodes συναρτήσει του μεγέθους του χάρτη\n",
        "\n",
        "\n",
        "\n",
        " Σας ζητείται σχολιάσετε τις παραπάνω γραφικές παραστάσεις, και συγκεκριμένα το πώς μεταβάλλεται η συμπεριφορά των αλγορίθμων συναρτήσει του $N$.\n",
        "\n",
        " Σημειώνουμε τα παρακάτω:\n",
        "\n",
        " * Σε όλα τα παραπάνω πειράματα μπορείτε να λάβετε σαν σημείο εκκίνησης το $(1,1)$ και σαν σημείο τερματισμού το $(N-2,N-2)$. Εναλλακτικά, μπορείτε να πειραματισθείτε με τυχαία σημεία εκκινησης και τερματισμού.\n",
        " * Αν και οι χάρτες παράγονται τυχαία, η εκτέλεση αλγορίθμων σε διαφορετικούς χάρτες παράγει μη συγκρίσιμα αποτελέσματα.\n",
        " * Για λόγους ευκολίας σύγκρισης, προτείνεται να τοποθετήσετε πολλαπλές γραφικές παραστάσεις στο ίδιο σύστημα αξόνων, όπου αυτό είναι εφικτό.\n",
        "\n",
        "**Visualization**: Παράλληλα με τα παραπάνω σάς δίνεται έτοιμη και μια κλάση η όποια κατασκευάζει ένα animation της αναζήτησης το οποίο υλοποιεί κάθε αλγόριθμος. Για την χρήση της κλάσης αυτής πρέπει να κάνετε τα εξής 4 βήματα:\n",
        "\n",
        "1.\tΔημιουργία ενός instance της κλάσης εκτελώντας την παρακάτω εντολή: `visualization(Start, Goal)`. Η εντολή αυτή δημιουργεί ένα αντικείμενο τύπου visualization.\n",
        "2.\tΤο βίντεο που παράγεται κάθε φορά ουσιαστικά αποτελείται από stacked frames. Συνεπώς σε κάθε βήμα εκτέλεσης όπου δηλαδή θέλουμε να προσθέσουμε ένα frame στο βίντεο πρέπει να καλέσουμε την μέθοδο της κλάσης: `draw_step(grid, frontier, expanded_nodes)` όπου το πρώτο όρισμα είναι ένας χάρτης (τύπου Maze) το δεύτερο μια λίστα με το μέτωπο της αναζήτηση ενώ το τρίτο μια λίστα με τους κόμβους οι όποιοι έχουν ήδη επεκταθεί από τον αλγόριθμο.\n",
        "3.\t(Προαιρετικό) Αν θέλουμε να προσθέσουμε στο animation και το βέλτιστο μονοπάτι που βρήκε ο αλγόριθμός μας μπορούμε να καλέσουμε την μέθοδο add_path(path) η οποία δέχεται σαν όρισμα μια λίστα με όλους τους κόμβους που ανήκουν στο βέλτιστο μονοπάτι (συμπεριλαμβανομένων και των κόμβων αρχής και τέλους).\n",
        "4.\tΤέλος καλούμε την συνάρτηση `show_gif()` η όποια εμφανίζει το animation. Επίσης μπορούμε και να αποθηκεύσουμε το gif καλώντας την συνάρτηση `save_gif (filename)` (το αρχείο πρέπει να έχει κατάληξη .gif) καθώς επίσης μπορούμε να εμφανίσουμε μόνο το τελευταίο frame καλώντας την συνάρτηση `show_last_frame()` στο όποιο (αν έχουν γίνει όλα όπως παραπάνω) θα φαίνονται όλοι οι κόμβοι οι οποίοι έχουν επεκταθεί από τον αλγόριθμο, το τελευταίο μέτωπο και (προαιρετικά) και το βέλτιστο μονοπάτι.\n",
        "\n",
        "Μπορείτε να καταλήξετε στα ίδια συμπεράσματα όσον αφορά την πολυπλοκότητα των αλγορίθμων παρατηρώντας το visualization;\n"
      ]
    },
    {
      "cell_type": "markdown",
      "metadata": {
        "id": "8QaZkm0nPnR6"
      },
      "source": [
        "## Μέρος 4\n",
        "\n",
        "Στο τέταρτο μέρος της εργασίας στο λαβύρινθο υπάρχει ένα φάντασμα 👻! Ο στόχος είναι να φτάσουμε στο σημείο τερματισμού αποφεύγοντας το φάντασμα, το οποίο μας κυνηγάει τρέχοντας σε κάθε βήμα τον δικό του Α*. Ο κώδικας που τρέχει το φάντασμα ''Agent'' σας δίνεται έτοιμος.\n",
        "\n",
        "Για την αποφυγή του φαντάσματος θα υλοποιήσουμε τον αλγόριθμο ΑΒ. Συγκεκριμένα, σας δίνεται η κλάση ''ΑΒagent'' στην οποία καλείστε να συμπληρώσετε τις κινήσεις του minimizing_player (όπως διδαχθήκατε στο μάθημα), δεδομένων των αντίστοιχων κινήσεων του maximizing_player. Στα πλαίσια του αλγορίθμου αυτού θα χρειαστεί να ορίσετε μια ευριστική συνάρτηση η οποία εκτιμά το κόστος της επόμενης κατάστασης συνυπολογίζοντας την απόσταση τόσο από το στόχο και από το φάντασμα.\n",
        "\n",
        "Περιγράψτε στο κατάλληλο markdown κελί τη συλλογιστική πορεία για τις επιλογές σας όσον αφορά την ευριστική. Πώς υπολογίσατε τις αποστάσεις (με εκτίμηση/πραγματική μετρική); Αναφέρετε αναλυτικά τα αποτέλεσματα και τις παρατηρήσεις σας σχετικά με τις παραπάνω επιλογές. Μεγαλύτερη σημασία έχει ο πειραματισμός και η αναφορά των αποτελεσμάτων, όσον αφορά αφορά την ευριστική, παρά η αναζήτηση της καλύτερης συνάρτησης. Ως αποτελέσματα ζητείται να παραθέσετε: χαρακτηριστικά gifs και χρόνους εκτέλεσης. Δικαιολογείστε γιατί ο αλγόριθμός σας δουλεύει ορθά.\n",
        "\n",
        "**ΠΡΟΣΟΧΗ!** Στο 4ο μέρος οι λαβύρινθοι που θα χρησιμοποιήσετε πρέπει να είναι αραιοί ως προς τα εμπόδια. Αν τα υπάρχοντα μονοπάτια προς το στόχο είναι λίγα, θα είναι δύσκολο να ξεφύγετε από το φάντασμα ανεξαρτήτως υλοποίησης."
      ]
    },
    {
      "cell_type": "markdown",
      "metadata": {
        "id": "nqTnPBPM_RrH"
      },
      "source": [
        "## Μέρος 5 (bonus)\n",
        "\n",
        "Στο πέμπτο και τελευταίο μέρος της εργασίας σάς δίνεται η δυνατότητα να κατασκευάσετε λαβυρίνθους με το χέρι, ζωγραφίζοντας. Για το σκοπό αυτό σας δίνεται η συνάρτηση draw(filename='filename.png') η οποία παράγει ένα interactive grid ώστε να σχηματίσετε το λαβύρινθο. Θεωρήστε ως μαύρο το χρώμα του εμποδίου, πράσινο την αφετηρία και κόκκινο το στόχο, και πατήστε finish για να ολοκληρωθεί η εκτέλεση του τρέχοντος κελιού. Σε περίπτωση που θέλετε να παράξετε νέο λαβύρινθο, απλά ξανατρέξτε το κελί, επιλέξτε τα τετράγωνα και πατήστε finish. Κάθε εκτέλεση αποθηκεύει την εικόνα σε μορφή png σε όνομα που μπορείτε να καθορίσετε μέσω του filename (τοποθετώντας και την κατάληξη .png) κατά την κλήση της συνάρτησης.  \n",
        "\n",
        "Καλείστε λοιπόν να **κατασκευάσετε** και να **σχολιάσετε** τους παρακάτω 5 λαβυρίνθους, οι οποίοι θα ικανοποιούν τις παρακάτω συνθήκες:\n",
        "\n",
        "\n",
        "*   **Λαβύρινθος 1**: Ο Hill-climbing δεν βρίσκει μονοπάτι από την αφετηρία στο στόχο.\n",
        "*   **Λαβύρινθος 2**: Ο Α* αργεί όσο το δυνατόν περισσότερο να βρει το βέλτιστο μονοπάτι ανεξαρτήτως της μετρικής απόστασης που χρησιμοποιείται ως ευριστική. Σε τι είδους μονοπάτι η επιλογή διαφορετικής μετρικής απόστασης (Ευκλίδεια/Manhattan) ως ευριστικής οδηγεί τον Α* να βρίσκει το μονοπάτι πιο γρήγορα;\n",
        "*   **Λαβύρινθος 3**: Ο αλγόριθμος άπληστης αναζήτησης πρώτα στο καλύτερο (greedy best first) αργεί σημαντικά περισσότερο από τον Α* για να καταλήξει στο στόχο. Σε ποια περίπτωση οι δύο αλγόριθμοι θα συμπεριφέρονταν με τον ίδιο τρόπο;\n",
        "*   **Λαβύρινθος 4**: Ο Α* καταφέρνει να βρει το μονοπάτι προς το στόχο σημαντικά πιο γρήγορα από τον Dijkstra. Ο χώρος πρέπει αναγκαστικά να περιέχει εμπόδια. Πώς επηρεάζει το μέγεθος/είδος του εμποδίου τον αριθμό βημάτων που χρειάζεται ο Dijsktra και πώς τον αριθμό βημάτων του Α*;\n",
        "*   **Λαβύρινθος 5**: Ο Α* και ο Dijkstra φτάνουν στο στόχο πραγματοποιώντας τον ίδιο ακριβώς αριθμό βημάτων για την προσέγγιση της βέλτιστης διαδρομής. Σημείωση: **αγνοήστε** την τετριμμένη περίπτωση όπου ο Α* συμπεριφέρεται όπως ο Dijkstra (h(n)=0).\n",
        "\n",
        "\n",
        "Ο Α* σε όλες τις περιπτώσεις πραγματοποιεί τη βέλτιστη δυνατή αναζήτηση.   \n",
        "\n",
        "\n",
        "Για κάθε λαβύρινθο που σχηματίζετε, δώστε μια σύντομη εξήγηση για την επιλογή σας.  \n",
        "\n",
        "**ΠΡΟΣΟΧΗ:** το output των κελιών που σχηματίζετε διατηρείται για περιορισμένο χρονικό διάστημα στο notebook, γι αυτό καλείστε να αποθηκεύσετε τη φωτογραφία (το πραγματοποιεί η συνάρτηση draw()) και να τη μεταφέρετε στο ανάλογο markdown ώστε να μπορέσουμε να την αξιολογήσουμε.\n",
        "\n",
        "\n",
        "Στη συνέχεια, καλείστε να τρέξετε τους αλγορίθμους pathfinding πάνω στους χάρτες που σχηματίσατε. Για το σκοπό αυτό, μετά την εκτέλεση της draw() καλείτε τη συνάρτηση draw_grid() που μετατρέπει την εικόνα που σχηματίσατε σε χάρτη πάνω στον οποίο μπορούν να τρέξουν οι αλγόριθμοι με χρήση της συνάρτησης pathfinder(). Χρειάζεται να επιλέξετε κατάλληλα τα ορίσματα της pathfinder ώστε να καλέσετε το σωστό αλγόριθμο αναζήτησης σε κάθε ερώτημα. Εκτελέστε τα αντίστοιχα κελιά με τον κώδικα που σας δίνεται και παρουσιάστε την έξοδο αυτών. Φυσικά, εάν ένα ερώτημα περιλαμβάνει την εκτέλεση περισσότερων του ενός αλγορίθμου, αντιγράφετε τα αντίστοιχα κελιά για κάθε αλγόριθμο και τοποθετείτε τα σωστά ορίσματα. Τέλος, η show_gif() σάς παρουσιάζει το animation, όπως και στο Μέρος 3.\n",
        "**Παρατήρηση:** εφόσον δε σας δίνεται/δεν έχετε υλοποιήσει τον Hill climbing, δε σας ζητείται να τον τρέξετε στο χάρτη που θα σχηματίσετε."
      ]
    },
    {
      "cell_type": "markdown",
      "metadata": {
        "id": "k4B8EEBhClt2"
      },
      "source": [
        "## Κώδικας visualization\n"
      ]
    },
    {
      "cell_type": "code",
      "execution_count": 1,
      "metadata": {
        "id": "fH9jHuU-Chps"
      },
      "outputs": [],
      "source": [
        "import numpy as np\n",
        "import matplotlib.pyplot as plt\n",
        "import matplotlib.animation as animation\n",
        "from matplotlib.animation import PillowWriter\n",
        "from IPython.display import HTML\n",
        "\n",
        "class visualization:\n",
        "    def __init__(self, S, F):\n",
        "        '''\n",
        "          Η μέθοδος αυτή αρχικοποιεί ένα αντικείμενο τύπου visualization.\n",
        "          Είσοδος:\n",
        "          -> S: το σημείο εκκίνσης της αναζήτησης\n",
        "          -> F: το σημείο τερματισμού\n",
        "        '''\n",
        "        self.S = S\n",
        "        self.F = F\n",
        "        self.images = []\n",
        "\n",
        "    def draw_step(self, grid, frontier, expanded_nodes):\n",
        "        '''\n",
        "          Η συνάρτηση αυτή καλείται για να σχεδιαστεί ένα frame στο animation (πρακτικά έπειτα από την επέκταση κάθε κόμβου)\n",
        "          Είσοδος:\n",
        "          -> grid: Ένα χάρτης τύπου grid\n",
        "          -> frontier: Μια λίστα με τους κόμβους που ανήκουν στο μέτωπο της αναζήτησης\n",
        "          -> expanded_nodes: Μια λίστα με τους κόμβους που έχουν ήδη επεκταθεί\n",
        "          Επιστρέφει: None\n",
        "          Η συνάρτηση αυτή πρέπει να καλεστεί τουλάχιστον μια φορά για να μπορέσει να σχεδιαστει ένα animation (πρεπεί το animation να έχει τουλάχιστον ένα frame).\n",
        "        '''\n",
        "        image = np.zeros((grid.N, grid.N, 3), dtype=int)\n",
        "        image[~grid.grid] = [0, 0, 0]\n",
        "        image[grid.grid] = [255, 255, 255]\n",
        "        # Use this to treat 1/True as obstacles\n",
        "        # image[grid.grid] = [0, 0, 0]\n",
        "        # image[~grid.grid] = [255, 255, 255]\n",
        "\n",
        "        for node in expanded_nodes:\n",
        "            image[node] = [0, 0, 128]\n",
        "\n",
        "        for node in frontier:\n",
        "            image[node] = [0, 225, 0]\n",
        "\n",
        "        image[self.S] = [50, 168, 64]\n",
        "        image[self.F] = [168, 50, 50]\n",
        "        self.images.append(image)\n",
        "\n",
        "    def add_path(self, path):\n",
        "        '''\n",
        "          Η συνάρτηση αυτή προσθέτει στο τελευταίο frame το βέλτιστο μονοπάτι.\n",
        "          Είσοδος:\n",
        "          -> path: Μια λίστα η όποια περιέχει το βέλτιστο μονοπάτι (η οποία πρέπει να περιέχει και τον κόμβο αρχή και τον κόμβο στόχο)\n",
        "          Έξοδος: None\n",
        "        '''\n",
        "        for n in path[1:-1]:\n",
        "            image = np.copy(self.images[-1])\n",
        "            image[n] = [66, 221, 245]\n",
        "            self.images.append(image)\n",
        "        for _ in range (100):\n",
        "            self.images.append(image)\n",
        "\n",
        "    def create_gif(self, fps = 30, repeat_delay = 2000):\n",
        "        if len(self.images) == 0:\n",
        "            raise EmptyStackOfImages(\"Error! You have to call 'draw_step' at  first.\")\n",
        "        fig = plt.figure()\n",
        "        plt.axis('off')\n",
        "        ims = []\n",
        "        for img in self.images:\n",
        "            img = plt.imshow(img)\n",
        "            ims.append([img])\n",
        "        ani = animation.ArtistAnimation(fig, ims, interval=1000//fps, blit=True, repeat_delay= repeat_delay)\n",
        "        plt.close(fig)\n",
        "        return ani\n",
        "\n",
        "    def save_gif(self, filename, fps = 30):\n",
        "        '''\n",
        "            Η συνάρτηση αυτή ξαναδημιουργεί και αποθηκεύει το animation σε ένα αρχείο.\n",
        "            Είσοδος:\n",
        "            -> Το όνομα του αρχείου με κατάληξη .gif\n",
        "            Έξοδος: (None)\n",
        "        '''\n",
        "        ani = self.create_gif(fps)\n",
        "        writer = PillowWriter(fps= fps)\n",
        "        ani.save(filename, writer=writer)\n",
        "\n",
        "    def show_gif(self, fps= 30, repeat_delay = 2000):\n",
        "        '''\n",
        "            Η συνάρτηση αυτή εμφανίζει inline το animation.\n",
        "            Είσοδος:\n",
        "            -> fps: τα frames per second\n",
        "            Έξοδος: Το αντικείμενο που παίζει το animation\n",
        "            Exceptions: EmptyStackOfImages αν το animation δεν έχει ούτε ένα frame, δηλαδή αν η draw_step δεν έχει καλεστεί ποτέ.\n",
        "        '''\n",
        "        ani = self.create_gif(fps, repeat_delay)\n",
        "        # return HTML(ani.to_html5_video())\n",
        "        return HTML(ani.to_jshtml())\n",
        "\n",
        "    def show_last_frame(self):\n",
        "        '''\n",
        "            Η μέθοδος αυτή εμφανίζει inline το τελευταίο frame που έχει δημιουργήθει.\n",
        "            Είσοδος:\n",
        "            Έξοδος: Το αντικείμενο που εμφανίζει την εικόνα.\n",
        "            Exceptions: EmptyStackOfImages αν το animation δεν έχει ούτε ένα frame, δηλαδή αν η draw_step δεν έχει καλεστεί ποτέ.\n",
        "        '''\n",
        "        if len(self.images) == 0:\n",
        "            raise EmptyStackOfImages(\"Error! You have to call 'draw_step' at  first.\")\n",
        "        else:\n",
        "            plt.imshow(self.images[-1])\n",
        "\n",
        "\n",
        "class EmptyStackOfImages(Exception):\n",
        "    pass"
      ]
    },
    {
      "cell_type": "markdown",
      "metadata": {
        "id": "HTjP864PLeRW"
      },
      "source": [
        "## Μέρος 1"
      ]
    },
    {
      "cell_type": "code",
      "execution_count": 2,
      "metadata": {
        "id": "t-BBg2eWAFN4"
      },
      "outputs": [],
      "source": [
        "%matplotlib inline\n",
        "import numpy as np\n",
        "from queue import LifoQueue\n",
        "import  random\n",
        "import matplotlib.pyplot as plt\n",
        "\n",
        "\n",
        "class Maze:\n",
        "    def __init__(self, N, S, F, threshold=0.02):\n",
        "\n",
        "      \"\"\"\n",
        "      N: integer that indicates the size of the NxN grid of the maze\n",
        "      S: pair of integers that indicates the coordinates of the starting point (S)\n",
        "      F: pair of integers that indicates the coordinates of the finish point (F)\n",
        "      You can add any other parameters you want to customize maze creation (e.g. variables that\n",
        "      control the creation of additional paths)\n",
        "      \"\"\"\n",
        "\n",
        "      assert N > 2\n",
        "\n",
        "      ## Make sure start and end are within the grid\n",
        "\n",
        "      assert S < (N-1, N-1)\n",
        "      assert F < (N-1, N-1)\n",
        "\n",
        "      assert S > (0, 0)\n",
        "      assert F > (0, 0)\n",
        "\n",
        "      # Add here any additional constraints your implementation may have\n",
        "\n",
        "      assert N % 2 == 1\n",
        "      assert S[0] % 2 == 1\n",
        "      assert S[1] % 2 == 1\n",
        "      assert F[0] % 2 == 1\n",
        "      assert F[1] % 2 == 1\n",
        "\n",
        "      self.N = N\n",
        "      self.S = S\n",
        "      self.F = F\n",
        "\n",
        "      # Keep track of the agents in the Maze\n",
        "      self.agents=[]\n",
        "\n",
        "      ## Initialize grid\n",
        "\n",
        "      self.grid = np.zeros((N, N), dtype=bool)\n",
        "\n",
        "      def neighbors(node, N, visited, threshold):\n",
        "        \"\"\"\n",
        "        Returns all neighbors of a node that are either unvisited, or they are visited but\n",
        "        there is a wall between the node and the neighbor and the neighbor passes a random test.\n",
        "        \"\"\"\n",
        "\n",
        "        l = []\n",
        "        x, y = node\n",
        "\n",
        "        # first condition in all checks is for boundaries\n",
        "        # neighbors are +-2 in x or y\n",
        "        # walls are +-1\n",
        "\n",
        "        if x > 2 and (not visited[x-2, y] or (not visited[x-1,y] and random.uniform(0,1) <= threshold)):\n",
        "            l.append((x-2, y))\n",
        "        ### YOUR CODE HERE \\/\n",
        "        if x < N - 2 and (not visited[x+2, y] or (not visited[x+1, y] and random.uniform(0,1) <= threshold)):\n",
        "            l.append((x+2, y))\n",
        "        if y > 2 and (not visited[x, y-2] or (not visited[x, y-1] and random.uniform(0,1) <= threshold)):\n",
        "            l.append((x, y-2))\n",
        "        if y < N - 2 and (not visited[x, y+2] or (not visited[x, y+1] and random.uniform(0,1) <= threshold)):\n",
        "            l.append((x, y+2))\n",
        "        ### YOUR CODE HERE /\\\n",
        "        return l\n",
        "\n",
        "      stack = []\n",
        "      stack.append(self.S)\n",
        "      self.grid[self.S] = True\n",
        "\n",
        "      while stack:\n",
        "          current_node = stack.pop()\n",
        "          # get all unvisited neighbors (and some visited ones with a random chance)\n",
        "          n = neighbors(current_node, self.N, self.grid, threshold)\n",
        "          if len(n):\n",
        "              stack.append(current_node)\n",
        "\n",
        "              ### YOUR CODE HERE \\/\n",
        "              nextNeighbor = random.randint(0,len(n)-1)  # select a random neighbor\n",
        "              next_node = n[nextNeighbor]\n",
        "              ### YOUR CODE HERE /\\\n",
        "\n",
        "              ### YOUR CODE HERE \\/\n",
        "              # break the wall between current and next node\n",
        "              if current_node[0] == next_node[0]:\n",
        "                self.grid[(current_node[0],max(current_node[1],next_node[1])-1)] = True\n",
        "              else:\n",
        "                self.grid[(max(current_node[0],next_node[0])-1,current_node[1])] = True\n",
        "              ### YOUR CODE HERE /\\\n",
        "\n",
        "              # mark next node as visited and add it to the stack\n",
        "              self.grid[next_node] = True\n",
        "              stack.append(next_node)\n",
        "\n",
        "\n",
        "\n",
        "    def adjacent_no_walls(self, node):\n",
        "      x, y = node\n",
        "      ret = []\n",
        "      if x - 1 > -1 and self.grid[x-1,y]:\n",
        "        ret.append((x-1,y))\n",
        "      if x + 1 < self.N and self.grid[x+1,y]:\n",
        "        ret.append((x+1,y))\n",
        "      if y - 1 > -1 and self.grid[x,y-1]:\n",
        "        ret.append((x,y-1))\n",
        "      if y + 1 < self.N and self.grid[x,y+1]:\n",
        "        ret.append((x,y+1))\n",
        "      return ret\n",
        "\n",
        "\n",
        "\n",
        "    def draw_map(self, path=None,return_image=False):\n",
        "        \"\"\"\n",
        "        Draws the maze as an image. Considers grid values of 0/False to represent obstacles and\n",
        "        values of 1/True to represent empty cells, but this can be customized. Obstacles are painted\n",
        "        black and empty cells are painted white. Starting point is painted green and finish point red.\n",
        "        Optionally accepts as a parameter a path within the maze which is painted blue.\n",
        "        \"\"\"\n",
        "        image = np.zeros((self.N, self.N, 3), dtype=int)\n",
        "        image[~self.grid] = [0, 0, 0]\n",
        "        image[self.grid] = [255, 255, 255]\n",
        "        # Use this to treat 1/True as obstacles\n",
        "        # image[self.grid] = [0, 0, 0]\n",
        "        # image[~self.grid] = [255, 255, 255]\n",
        "\n",
        "        image[self.S] = [50, 168, 64]\n",
        "        image[self.F] = [168, 50, 50]\n",
        "        if path:\n",
        "            for n in path[1:-1]:\n",
        "                image[n] = [66, 221, 245]\n",
        "\n",
        "        if len(self.agents)>0:\n",
        "          for a in self.agents:\n",
        "            image[a.location]=a.color\n",
        "\n",
        "        if return_image:\n",
        "          return image\n",
        "        else:\n",
        "          plt.imshow(image)\n",
        "          plt.xticks([])\n",
        "          plt.yticks([])\n",
        "          plt.show()\n",
        ""
      ]
    },
    {
      "cell_type": "code",
      "execution_count": 30,
      "metadata": {
        "colab": {
          "base_uri": "https://localhost:8080/",
          "height": 1000
        },
        "id": "9LK61zuVBCi2",
        "outputId": "61d020c7-8075-4a02-d811-6778a10f8446"
      },
      "outputs": [
        {
          "output_type": "display_data",
          "data": {
            "text/plain": [
              "<Figure size 640x480 with 1 Axes>"
            ],
            "image/png": "[encoded data removed]"
          },
          "metadata": {}
        },
        {
          "output_type": "display_data",
          "data": {
            "text/plain": [
              "<Figure size 640x480 with 1 Axes>"
            ],
            "image/png": "[encoded data removed]"
          },
          "metadata": {}
        },
        {
          "output_type": "display_data",
          "data": {
            "text/plain": [
              "<Figure size 640x480 with 1 Axes>"
            ],
            "image/png": "[encoded data removed]"
          },
          "metadata": {}
        }
      ],
      "source": [
        "for N, S, F in (11, (1, 3), (7, 9)), (25, (3, 7), (23, 19)), (51, (9, 3), (41, 41)):\n",
        "    map = Maze(N, S, F, threshold=2/(N*np.log(N)))\n",
        "    map.draw_map()"
      ]
    },
    {
      "cell_type": "markdown",
      "metadata": {
        "id": "7XhekogLCJ1i"
      },
      "source": [
        "## Μέρος 2\n"
      ]
    },
    {
      "cell_type": "code",
      "execution_count": 3,
      "metadata": {
        "id": "dXgXz9ZbCR2y"
      },
      "outputs": [],
      "source": [
        "from queue import PriorityQueue\n",
        "\n",
        "class pathfinder:\n",
        "    def __init__(self, S, F, grid, c, h,visualize=True):\n",
        "        self.S = S\n",
        "        self.F = F\n",
        "        self.grid = grid\n",
        "        self.cost = c\n",
        "        self.heuristic = h\n",
        "        self.no_expanded_nodes = 0\n",
        "\n",
        "        #for visualization\n",
        "        self.visualize=visualize\n",
        "        self.vis = visualization(S, F)\n",
        "        self.find_path()\n",
        "\n",
        "\n",
        "    def find_path(self):\n",
        "        frontier = PriorityQueue()\n",
        "        frontier.put((0, self.S))\n",
        "        came_from = {}\n",
        "        cost_so_far = {}\n",
        "        came_from[self.S] = None\n",
        "        cost_so_far[self.S] = 0\n",
        "        self.no_expanded_nodes = 0\n",
        "\n",
        "        while not frontier.empty():\n",
        "            current = frontier.get()[1]\n",
        "            if current == self.F:\n",
        "                break\n",
        "            self.no_expanded_nodes += 1\n",
        "\n",
        "            for next in  self.grid.adjacent_no_walls(current):\n",
        "                ### YOUR CODE HERE \\/ (cost so far+cost to next)\n",
        "\n",
        "                new_cost = cost_so_far[current] + self.heuristic(next,self.F)\n",
        "\n",
        "                ### YOUR CODE HERE /\\\n",
        "\n",
        "                if next not in cost_so_far or new_cost < cost_so_far[next]:\n",
        "                    cost_so_far[next] = new_cost\n",
        "\n",
        "                    ### YOUR CODE HERE \\/ (c+h)\n",
        "                    priority = new_cost\n",
        "                    ### YOUR CODE HERE /\\\n",
        "                    frontier.put((priority, next))\n",
        "                    came_from[next] = current\n",
        "                #for animation\n",
        "                #find frontier and expanded nodes\n",
        "                restore = []\n",
        "                while not frontier.empty():\n",
        "                    node = frontier.get()\n",
        "                    restore.append(node)\n",
        "                for node in restore:\n",
        "                    frontier.put(node)\n",
        "                exp = []\n",
        "                #find expanded nodes\n",
        "                for v in came_from:\n",
        "                    if v:\n",
        "                        exp.append(v)\n",
        "                if self.visualize:\n",
        "                  self.vis.draw_step(self.grid, [r[1] for r in restore], exp)\n",
        "\n",
        "\n",
        "        # follow backlinks to build path\n",
        "        # current = self.F\n",
        "        path = []\n",
        "        while current != self.S:\n",
        "            path.append(current)\n",
        "            if current not in came_from:\n",
        "              self.grid.draw_map()\n",
        "            current = came_from[current]\n",
        "        path.append(self.S)\n",
        "        path.reverse()\n",
        "\n",
        "        self.path = path\n",
        "\n",
        "    def get_path(self):\n",
        "        return self.path\n",
        "\n",
        "    def get_complexity(self):\n",
        "        return self.no_expanded_nodes\n"
      ]
    },
    {
      "cell_type": "code",
      "execution_count": 4,
      "metadata": {
        "id": "Xmmp_4lAOERH"
      },
      "outputs": [],
      "source": [
        "import math\n",
        "\n",
        "## A heuristic\n",
        "def euclidean(a, b):\n",
        "    return math.sqrt((a[0] - b[0])**2 + (a[1] - b[1])**2)\n",
        "\n",
        "# Add more heuristics here\n",
        "\n",
        "### YOUR CODE HERE \\/\n",
        "def manhattan(a,b):\n",
        "  return ((abs(a[0]-b[0])+(abs(a[1]-b[1]))))\n",
        "\n",
        "### YOUR CODE HERE /\\"
      ]
    },
    {
      "cell_type": "code",
      "execution_count": 5,
      "metadata": {
        "id": "fwcVPbRACUIz"
      },
      "outputs": [],
      "source": [
        "## Create a 41x41 maze\n",
        "N = 41\n",
        "S = (5, 9)\n",
        "F = (37, 37)\n",
        "\n",
        "map = Maze(N, S, F)"
      ]
    },
    {
      "cell_type": "code",
      "execution_count": 6,
      "metadata": {
        "colab": {
          "base_uri": "https://localhost:8080/",
          "height": 441
        },
        "id": "YOCQHk9M1Yrl",
        "outputId": "72a8e9cf-038b-4fbc-a339-a17d6e583f76"
      },
      "outputs": [
        {
          "output_type": "display_data",
          "data": {
            "text/plain": [
              "<Figure size 640x480 with 1 Axes>"
            ],
            "image/png": "[encoded data removed]"
          },
          "metadata": {}
        },
        {
          "output_type": "stream",
          "name": "stdout",
          "text": [
            "CPU times: user 907 ms, sys: 79.6 ms, total: 987 ms\n",
            "Wall time: 2.05 s\n"
          ]
        }
      ],
      "source": [
        "%%time\n",
        "## Find and visualize the path\n",
        "pf = pathfinder(S, F, map, lambda x, y: 1, lambda x, y: 0)\n",
        "map.draw_map(pf.get_path())"
      ]
    },
    {
      "cell_type": "code",
      "execution_count": 7,
      "metadata": {
        "colab": {
          "base_uri": "https://localhost:8080/"
        },
        "id": "_K4xHgp7olwp",
        "outputId": "4ea1e051-c0d2-4103-9f14-96609dcba960"
      },
      "outputs": [
        {
          "output_type": "stream",
          "name": "stdout",
          "text": [
            "Number of expanded nodes: 641\n"
          ]
        }
      ],
      "source": [
        "expanded_nodes = pf.get_complexity()\n",
        "print('Number of expanded nodes:', expanded_nodes)"
      ]
    },
    {
      "cell_type": "code",
      "execution_count": 8,
      "metadata": {
        "colab": {
          "base_uri": "https://localhost:8080/",
          "height": 441
        },
        "id": "--yjHv6503F_",
        "outputId": "e4859144-3328-4fe3-f5b1-a003aa085498"
      },
      "outputs": [
        {
          "output_type": "display_data",
          "data": {
            "text/plain": [
              "<Figure size 640x480 with 1 Axes>"
            ],
            "image/png": "[encoded data removed]"
          },
          "metadata": {}
        },
        {
          "output_type": "stream",
          "name": "stdout",
          "text": [
            "CPU times: user 239 ms, sys: 36.1 ms, total: 275 ms\n",
            "Wall time: 246 ms\n"
          ]
        }
      ],
      "source": [
        "%%time\n",
        "pf = pathfinder(S, F, map, lambda x, y: 1, manhattan)\n",
        "map.draw_map(pf.get_path())"
      ]
    },
    {
      "cell_type": "code",
      "execution_count": 9,
      "metadata": {
        "colab": {
          "base_uri": "https://localhost:8080/"
        },
        "id": "BFF5rMAHooqz",
        "outputId": "38bc9818-8c19-439b-a5c4-2af9abdf9ca2"
      },
      "outputs": [
        {
          "output_type": "stream",
          "name": "stdout",
          "text": [
            "Number of expanded nodes: 366\n"
          ]
        }
      ],
      "source": [
        "expanded_nodes = pf.get_complexity()\n",
        "print('Number of expanded nodes:', expanded_nodes)"
      ]
    },
    {
      "cell_type": "code",
      "execution_count": 10,
      "metadata": {
        "colab": {
          "base_uri": "https://localhost:8080/",
          "height": 441
        },
        "id": "WQSXlPPO07cN",
        "outputId": "ac250195-447f-4380-9c40-18c8f25b7ee2"
      },
      "outputs": [
        {
          "output_type": "display_data",
          "data": {
            "text/plain": [
              "<Figure size 640x480 with 1 Axes>"
            ],
            "image/png": "[encoded data removed]"
          },
          "metadata": {}
        },
        {
          "output_type": "stream",
          "name": "stdout",
          "text": [
            "CPU times: user 418 ms, sys: 21.2 ms, total: 439 ms\n",
            "Wall time: 1.05 s\n"
          ]
        }
      ],
      "source": [
        "%%time\n",
        "pf = pathfinder(S, F, map, lambda x, y: 0, euclidean)\n",
        "map.draw_map(pf.get_path())"
      ]
    },
    {
      "cell_type": "code",
      "execution_count": 11,
      "metadata": {
        "colab": {
          "base_uri": "https://localhost:8080/"
        },
        "id": "f-0DySwVoqwm",
        "outputId": "bcac4ad9-bcfe-4eb9-ac61-8a6985abe5e0"
      },
      "outputs": [
        {
          "output_type": "stream",
          "name": "stdout",
          "text": [
            "Number of expanded nodes: 370\n"
          ]
        }
      ],
      "source": [
        "expanded_nodes = pf.get_complexity()\n",
        "print('Number of expanded nodes:', expanded_nodes)"
      ]
    },
    {
      "cell_type": "markdown",
      "source": [
        "  Από το πρώτο μερος της άσκησης, παρατηρούμε οτι όταν g(n)=1 και h(n)=0 έχουμε τον αλγόριθμο dikjstra ο οποίος βρίσκει το βέλτιστο μονοπάτι αφού εξερευνεί όλα τα πιθανά μονοπάτια και κρατάει το βέλτιστο.\n",
        "  Όταν έχουμε g(n)=0 και h(n)={manhattan,euclidean} έχουμε τον αλγόριθμο best first ο οποίος δεν βρίσκει πάντα το βέλτιστο μονοπάτι αφού δεν γνωρίζει το πραγματικό κόστος και κοιτάζει μόνο την ευριστική.\n",
        "  Και για την περίπτωση g(n)=1 και h(n)={manhattan,euclidean} έχουμε τον αλγόριθμο A* ο οποιος βρίσκει την βέλτιστη λύση."
      ],
      "metadata": {
        "id": "9qNkSB2qHjqM"
      }
    },
    {
      "cell_type": "markdown",
      "metadata": {
        "id": "XmmqhRLfEjKj"
      },
      "source": [
        "## Μέρος 3\n",
        "\n",
        "Στο παρακάτω κελί σάς δίνεται ένα παράδειγμα για την κατασκευή γραφικών παραστάσεων. Θα πρέπει να κατασκευάσετε τις δύο γραφικές παραστάσεις σύμφωνα με τα ζητούμενα της άσκησης."
      ]
    },
    {
      "cell_type": "code",
      "execution_count": 12,
      "metadata": {
        "colab": {
          "base_uri": "https://localhost:8080/",
          "height": 452
        },
        "id": "j_wp8ZuWtwEw",
        "outputId": "de4a645a-7209-46e9-906b-7168a2d74c95"
      },
      "outputs": [
        {
          "output_type": "display_data",
          "data": {
            "text/plain": [
              "<Figure size 640x480 with 1 Axes>"
            ],
            "image/png": "[encoded data removed]"
          },
          "metadata": {}
        }
      ],
      "source": [
        "path_lengths_a = [1,2,3,4,5,6,7,8,9]\n",
        "path_lengths_b = [1,1,2,3,5,8,13,21,34]\n",
        "map_sizes = [10,20,30,40,50,60,70,80,90]\n",
        "\n",
        "plt.plot(map_sizes, path_lengths_a)\n",
        "plt.plot(map_sizes, path_lengths_b )\n",
        "plt.legend(['algorithm A', 'algorithm B'])\n",
        "plt.title('Path length vs map size')\n",
        "plt.show()"
      ]
    },
    {
      "cell_type": "code",
      "execution_count": 31,
      "metadata": {
        "colab": {
          "base_uri": "https://localhost:8080/"
        },
        "id": "U2JL2snN-pEL",
        "outputId": "cf73c9e3-72c2-4972-c68b-beee90dfdeca"
      },
      "outputs": [
        {
          "output_type": "stream",
          "name": "stdout",
          "text": [
            "map size 9\n",
            "map size 19\n",
            "map size 29\n",
            "map size 39\n",
            "map size 49\n",
            "map size 59\n",
            "map size 69\n",
            "map size 79\n",
            "map size 89\n",
            "map size 99\n"
          ]
        }
      ],
      "source": [
        "### YOUR CODE HERE \\/\n",
        "map_sizes=[9,19,29,39,49,59,69,79,89,99]\n",
        "expanded_nodes={\"dijkstra\":[],\"bestfirst_man\":[],\"bestfirst_euc\":[],\"astar_man\":[],\"astar_euc\":[]}\n",
        "shortest_path_len={\"dijkstra\":[],\"bestfirst_man\":[],\"bestfirst_euc\":[],\"astar_man\":[],\"astar_euc\":[]}\n",
        "\n",
        "def calculations(map_size):\n",
        "  complexity = {\"dijkstra\":0,\"bestfirst_man\":0,\"bestfirst_euc\":0,\"astar_man\":0,\"astar_euc\":0}\n",
        "  path = {\"dijkstra\":0,\"bestfirst_man\":0,\"bestfirst_euc\":0,\"astar_man\":0,\"astar_euc\":0}\n",
        "\n",
        "  for i in range(10):\n",
        "    #create the map and define as start the first cell and end the N-2 cell\n",
        "    N=map_size\n",
        "    S=(1,1)\n",
        "    F=(map_size-2,map_size-2)\n",
        "    map = Maze(N,S,F)\n",
        "\n",
        "    pf=pathfinder(S,F,map,lambda x,y: 1,lambda x,y:0)\n",
        "    complexity[\"dijkstra\"] += pf.get_complexity()\n",
        "    path[\"dijkstra\"] += len(pf.get_path())\n",
        "\n",
        "    pf=pathfinder(S,F,map,lambda x,y: 0, manhattan)\n",
        "    complexity[\"bestfirst_man\"] += pf.get_complexity()\n",
        "    path[\"bestfirst_man\"] += len(pf.get_path())\n",
        "\n",
        "    pf=pathfinder(S,F,map,lambda x,y: 0, euclidean)\n",
        "    complexity[\"bestfirst_euc\"] += pf.get_complexity()\n",
        "    path[\"bestfirst_euc\"] += len(pf.get_path())\n",
        "\n",
        "    pf=pathfinder(S,F,map,lambda x,y: 1, manhattan)\n",
        "    complexity[\"astar_man\"] += pf.get_complexity()\n",
        "    path[\"astar_man\"] += len(pf.get_path())\n",
        "\n",
        "    pf=pathfinder(S,F,map,lambda x,y: 1, euclidean)\n",
        "    complexity[\"astar_euc\"] += pf.get_complexity()\n",
        "    path[\"astar_euc\"] += len(pf.get_path())\n",
        "\n",
        "  average_complexity={k:v/100 for k, v in complexity.items()}\n",
        "  average_length={k:v/100 for k, v in path.items()}\n",
        "\n",
        "  for key,value in average_complexity.items():\n",
        "    expanded_nodes[key].append(value)\n",
        "  for key,value in average_length.items():\n",
        "    shortest_path_len[key].append(value)\n",
        "\n",
        "\n",
        "for map_size in map_sizes:\n",
        "  print(\"map size \" + str(map_size) )\n",
        "  calculations(map_size)\n",
        "\n",
        "\n",
        "\n",
        "\n",
        "\n",
        "### YOUR CODE HERE /\\"
      ]
    },
    {
      "cell_type": "code",
      "source": [
        "algorithms=[]\n",
        "for key, value in expanded_nodes.items():\n",
        "  plt.plot(map_sizes,value)\n",
        "  algorithms.append(key)\n",
        "\n",
        "plt.title(\"Expanded nodes to map size\")\n",
        "plt.xlabel(\"Map size\")\n",
        "plt.ylabel(\"Expanded nodes\")\n",
        "plt.legend(algorithms)\n",
        "plt.grid()"
      ],
      "metadata": {
        "colab": {
          "base_uri": "https://localhost:8080/",
          "height": 472
        },
        "id": "w_2VZf18En68",
        "outputId": "2dc4dcb3-c776-4702-8fd6-6bcd21848b99"
      },
      "execution_count": 33,
      "outputs": [
        {
          "output_type": "display_data",
          "data": {
            "text/plain": [
              "<Figure size 640x480 with 1 Axes>"
            ],
            "image/png": "[encoded data removed]"
          },
          "metadata": {}
        }
      ]
    },
    {
      "cell_type": "code",
      "source": [
        "for key, value in shortest_path_len.items():\n",
        "  plt.plot(map_sizes,value)\n",
        "\n",
        "\n",
        "plt.title(\"Path length to map size\")\n",
        "plt.xlabel(\"Map size\")\n",
        "plt.ylabel(\"Path length\")\n",
        "plt.legend(algorithms)\n",
        "plt.grid()"
      ],
      "metadata": {
        "colab": {
          "base_uri": "https://localhost:8080/",
          "height": 472
        },
        "id": "5rSxD-Sfm4aU",
        "outputId": "5aed5ed0-084f-44b8-e07d-f996b22d3e81"
      },
      "execution_count": 34,
      "outputs": [
        {
          "output_type": "display_data",
          "data": {
            "text/plain": [
              "<Figure size 640x480 with 1 Axes>"
            ],
            "image/png": "[encoded data removed]"
          },
          "metadata": {}
        }
      ]
    },
    {
      "cell_type": "markdown",
      "source": [
        "![expanded.png](data:image/png;base64,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)"
      ],
      "metadata": {
        "id": "ftKUy52eFp4g"
      }
    },
    {
      "cell_type": "markdown",
      "source": [
        "![path length.png](data:image/png;base64,iVBORw0KGgoAAAANSUhEUgAAAjsAAAHHCAYAAABZbpmkAAAAOXRFWHRTb2Z0d2FyZQBNYXRwbG90bGliIHZlcnNpb24zLjcuMSwgaHR0cHM6Ly9tYXRwbG90bGliLm9yZy/bCgiHAAAACXBIWXMAAA9hAAAPYQGoP6dpAACUM0lEQVR4nOzdd1xV9R/H8de9cNlLlKmAC3HvhWmO3CNzlJappGWaaK52miO1zJGWWS4cP820zMyN5p64VzhBcDAUZcO93Ht+f5A3yQUKXMbn+Xjw0HvOued87v1e4M053/P9qhRFURBCCCGEKKLUpi5ACCGEECIvSdgRQgghRJEmYUcIIYQQRZqEHSGEEEIUaRJ2hBBCCFGkSdgRQgghRJEmYUcIIYQQRZqEHSGEEEIUaRJ2hBBCCFGkSdgRoogYP348KpWK27dvP9PzAwICKFu2bO4WlQeWLFmCSqXi6NGjpi6lyGrRogUtWrQwdRlC5BoJO0Lksfu/nO9/WVlZUalSJQIDA4mOjs7x/qZMmcK6detyv9AC5ocffmDJkiW5vt9NmzYxfvz4XN+vEKLgkrAjRD6ZOHEiy5cv5/vvv6dJkybMmzcPf39/UlJScrQfCTvPZ9OmTUyYMCHX91uUbNu2jW3btpm6DCFyjbmpCxCiuOjQoQP169cH4O2336ZkyZLMnDmTP/74g9dff93E1QnxLwsLC1OXIESukjM7QphIq1atAAgLCwNg+vTpNGnShJIlS2JtbU29evX49ddfszxHpVKRnJzM0qVLjZfFAgICsmxz7949AgICcHJywtHRkbfeeivHZ4/uMxgMfPvtt1SrVg0rKyvc3Nx49913uXv3bpbtypYtS+fOndm3bx8NGzbEysqK8uXLs2zZsof2efr0aZo3b461tTVlypThyy+/JCgoCJVKRXh4uHF/586dY/fu3cbX+d8+JOnp6YwaNQoXFxdsbW3p1q0bsbGxT3w9AQEBzJ07FyDLpcX7kpOTGT16NF5eXlhaWuLn58f06dNRFOWp71WLFi2oXr268fXZ2NhQsWJFYxvu3r2bRo0aYW1tjZ+fH9u3b8/y/GvXrvHee+/h5+eHtbU1JUuW5NVXXzW+J/fdvyy6Z88e3n33XUqWLImDgwP9+vV7qF0eJSoqirfeeosyZcpgaWmJh4cHXbt2zXKc//bZKVu2bJb368GvXbt2Gbe7ceMGAwYMwM3NDUtLS6pVq8bixYufWpMQeU3O7AhhIleuXAGgZMmSAMyePZuXX36ZPn36oNVqWbVqFa+++iobNmygU6dOACxfvpy3336bhg0bMmjQIAAqVKiQZb+vvfYa5cqVY+rUqRw/fpyFCxfi6urK119/neMa3333XZYsWcJbb73F8OHDCQsL4/vvv+fEiRPs378fjUZj3Pby5cv07NmTgQMH0r9/fxYvXkxAQAD16tWjWrVqQOYvw5YtW6JSqfjkk0+wtbVl4cKFWFpaZjnut99+y7Bhw7Czs+Ozzz4DwM3NLcs2w4YNo0SJEnzxxReEh4fz7bffEhgYyC+//PLE13Pz5k2Cg4NZvnx5lnWKovDyyy+zc+dOBg4cSO3atdm6dSsffPABN27cYNasWU99v+7evUvnzp3p3bs3r776KvPmzaN3796sWLGCESNGMHjwYN544w2++eYbevbsSWRkJPb29gCEhIRw4MABevfuTZkyZQgPD2fevHm0aNGC8+fPY2Njk+VYgYGBODk5MX78eC5cuMC8efO4du0au3btyhLg/qtHjx6cO3eOYcOGUbZsWWJiYggODiYiIuKxHdS//fZbkpKSsiybNWsWJ0+eNH5+o6Ojady4MSqVisDAQFxcXNi8eTMDBw4kISGBESNGPPX9EyLPKEKIPBUUFKQAyvbt25XY2FglMjJSWbVqlVKyZEnF2tpauX79uqIoipKSkpLleVqtVqlevbrSqlWrLMttbW2V/v37P3ScL774QgGUAQMGZFnerVs3pWTJkk+ts3///oqPj4/x8d69exVAWbFiRZbttmzZ8tByHx8fBVD27NljXBYTE6NYWloqo0ePNi4bNmyYolKplBMnThiX3blzR3F2dlYAJSwszLi8WrVqSvPmzR+q8/772bp1a8VgMBiXjxw5UjEzM1Pu3bv3xNc5dOhQ5VE/+tatW6cAypdffpllec+ePRWVSqVcvnz5iftt3ry5AigrV640LgsNDVUARa1WK4cOHTIu37p1qwIoQUFBxmX/bX9FUZSDBw8qgLJs2TLjsvuvv169eopWqzUunzZtmgIof/zxx2NrvHv3rgIo33zzzVNfy6Pe+/tWr16tAMrEiRONywYOHKh4eHgot2/fzrJt7969FUdHx0e+PiHyi1zGEiKftG7dGhcXF7y8vOjduzd2dnb8/vvvlC5dGgBra2vjtnfv3iU+Pp5mzZpx/PjxHB1n8ODBWR43a9aMO3fukJCQkKP9rFmzBkdHR9q0acPt27eNX/Xq1cPOzo6dO3dm2b5q1ao0a9bM+NjFxQU/Pz+uXr1qXLZlyxb8/f2pXbu2cZmzszN9+vTJUW0AgwYNynIGo1mzZuj1eq5du5bjfUFmx2UzMzOGDx+eZfno0aNRFIXNmzc/dR92dnb07t3b+NjPzw8nJyeqVKlCo0aNjMvv///B9+bB9tfpdNy5c4eKFSvi5OT0yM/AoEGDspxZGzJkCObm5mzatOmx9VlbW2NhYcGuXbuydcnrUc6fP8+AAQPo2rUrn3/+OZB5Vuy3336jS5cuKIqS5fPSrl074uPjc/w5FiI3yWUsIfLJ3LlzqVSpEubm5ri5ueHn54da/e/fGxs2bODLL7/k5MmTpKenG5c/6ZLEo3h7e2d5XKJECSAzQDk4OGR7P5cuXSI+Ph5XV9dHro+JiXnice8f+8FfqteuXcPf3/+h7SpWrJjtuh53vAdf57O4du0anp6exstK91WpUsW4/mnKlCnzUHs5Ojri5eX10LL/1pqamsrUqVMJCgrixo0bWfoJxcfHP3QsX1/fLI/t7Ozw8PB4qI/PgywtLfn6668ZPXo0bm5uNG7cmM6dO9OvXz/c3d2f+voSEhLo3r07pUuXZtmyZcbXGhsby71795g/fz7z589/5HP/+3kRIj9J2BEinzRs2NB4N9Z/7d27l5dffpkXX3yRH374AQ8PDzQaDUFBQaxcuTJHxzEzM3vkciUbnWwfZDAYcHV1ZcWKFY9c7+LikifHza78Pl52PK6m7NQ6bNgwgoKCGDFiBP7+/jg6OqJSqejduzcGgyHXahwxYgRdunRh3bp1bN26lbFjxzJ16lT++usv6tSp88TnBgQEcPPmTY4cOZIlON+v780336R///6PfG7NmjVz7TUIkVMSdoQoAH777TesrKzYunVrls66QUFBD22b0zM9z6pChQps376dF154Icsllufh4+PD5cuXH1r+qGV59Toft18fHx+2b99OYmJilrM7oaGhxvV56ddff6V///7MmDHDuCwtLY179+49cvtLly7RsmVL4+OkpCRu3bpFx44dn3qsChUqMHr0aEaPHs2lS5eoXbs2M2bM4H//+99jn/PVV1+xbt061q5dS+XKlbOsc3Fxwd7eHr1eT+vWrZ96fCHym/TZEaIAMDMzQ6VSodfrjcvCw8MfOXigra3tY38B5qbXXnsNvV7PpEmTHlqXkZHxTDW0a9eOgwcPcvLkSeOyuLi4R549yqvXaWtrC/DQvjt27Iher+f777/PsnzWrFmoVCo6dOiQ67U8yMzM7KGzUt99912Wz8SD5s+fj06nMz6eN28eGRkZT6wzJSWFtLS0LMsqVKiAvb19lkun/7V9+3Y+//xzPvvsM1555ZVH1t6jRw9+++03zp49+9D6pw0JIERekzM7QhQAnTp1YubMmbRv35433niDmJgY5s6dS8WKFTl9+nSWbevVq8f27duZOXMmnp6elCtXLkvn19zSvHlz3n33XaZOncrJkydp27YtGo2GS5cusWbNGmbPnk3Pnj1ztM8PP/yQ//3vf7Rp04Zhw4YZbz339vYmLi4uy1mXevXqMW/ePL788ksqVqyIq6urcWyi51GvXj0Ahg8fTrt27TAzM6N379506dKFli1b8tlnnxEeHk6tWrXYtm0bf/zxByNGjHjoFv/c1rlzZ5YvX46joyNVq1bl4MGDbN++3Xhr939ptVpeeuklXnvtNS5cuMAPP/xA06ZNefnllx97jIsXLxqfU7VqVczNzfn999+Jjo7O0rH6v15//XVcXFzw9fV96OxPmzZtcHNz46uvvmLnzp00atSId955h6pVqxIXF8fx48fZvn07cXFxz/bGCJEbTHYfmBDFxP1bhUNCQp643aJFixRfX1/F0tJSqVy5shIUFGS8nfxBoaGhyosvvqhYW1srgPE29PvbxsbGPvL4D97W/Sj/vfX8vvnz5yv16tVTrK2tFXt7e6VGjRrKhx9+qNy8edO4jY+Pj9KpU6eHnvuoW5hPnDihNGvWTLG0tFTKlCmjTJ06VZkzZ44CKFFRUcbtoqKilE6dOin29vYKYNzP497PnTt3KoCyc+fOJ77OjIwMZdiwYYqLi4uiUqmyvL+JiYnKyJEjFU9PT0Wj0Si+vr7KN998k+UW98dp3ry5Uq1atYeWP+69AZShQ4caH9+9e1d56623lFKlSil2dnZKu3btlNDQUMXHxyfLUAP3X//u3buVQYMGKSVKlFDs7OyUPn36KHfu3Hlijbdv31aGDh2qVK5cWbG1tVUcHR2VRo0aKatXr37otTzYbsBjvx58v6Ojo5WhQ4cqXl5eikajUdzd3ZWXXnpJmT9//lPePSHylkpRTNibTwghyOw0+9NPP5GUlPTYzrwi0/1BHkNCQh7b4V0IkZX02RFC5KvU1NQsj+/cucPy5ctp2rSpBB0hRJ6QPjtCiHzl7+9PixYtqFKlCtHR0SxatIiEhATGjh1r6tKEEEWUhB0hRL7q2LEjv/76K/Pnz0elUlG3bl0WLVrEiy++aOrShBBFlPTZEUIIIUSRJn12hBBCCFGkSdgRQgghRJEmfXbInNfl5s2b2Nvb59tQ/EIIIYR4PoqikJiYiKenZ5aJlf9Lwg5w8+bNh2YlFkIIIUThEBkZSZkyZR67XsIOGCf9i4yMzDKTr3g8nU7Htm3bjFMICNOTNilYpD0KFmmPgiW32iMhIQEvL68sk/c+ioQd/p0F2cHBQcJONul0OmxsbHBwcJAfHAWEtEnBIu1RsEh7FCy53R5P64IiHZSFEEIIUaRJ2BFCCCFEkSZhRwghhBBFmvTZySaDwYBWqzV1GQWGTqfD3NyctLQ09Hq9qcspsDQajUxuKYQQJiZhJxu0Wi1hYWEYDAZTl1JgKIqCu7s7kZGRMjbRUzg5OeHu7i7vkxBCmIiEnadQFIVbt25hZmaGl5fXEwctKk4MBgNJSUnY2dnJe/IYiqKQkpJCTEwMAB4eHiauSAghiicJO0+RkZFBSkoKnp6e2NjYmLqcAuP+ZT0rKysJO09gbW0NQExMDK6urnJJSwghTEB+Sz3F/f4oFhYWJq5EFFb3Q7JOpzNxJUIIUTxJ2Mkm6W8hnpV8doQQwrQk7AghhBCiSJOwU8y0aNGCESNGAFC2bFm+/fZb47r/PlapVKxbty5f6xNCCCFym3RQLsZCQkKwtbV97OPn0aJFC2rXrp0lPAkhhBCmIGGnGHNxcXni47ymKAp6vR5zc/kYCiFEUZWQpuPG3VT83OxRq03Th1EuYxVhycnJ9OvXDzs7Ozw8PJgxY0aW9U+7jPVfX3zxBR4eHpw+fRqAhQsX4ufnh5WVFW5ubvTs2ROAgIAAdu/ezezZs1GpVKhUKsLDw9m1axcqlYrNmzdTr149LC0t2bdvH1euXKFr1664ublhZ2dHgwYN2L59e66/H0IIIXKXoijEJqZzMvIeG0/fYv6eK3zxx1neXhpC+2/3UGP8VmqO30aH2XuJSUw3WZ3yJ3UOKYpCqs400yNYa8xydGfPBx98wO7du/njjz9wdXXl008/5fjx49SuXTtHx1UUheHDh7Nhwwb27t1LxYoVOXLkCB9//DFLly6ladOmxMXFsXfvXgBmz57NxYsXqV69OhMnTgQyzxqFh4cD8PHHHzN9+nTKly9PiRIliIyMpGPHjkyePBlLS0uWLVtGly5duHDhAt7e3jmqVQghRO7J0BuISkjjxt1UbtxL/fffB/6fnvH02QWcbDTEJWtxd7TKh6ofJmEnh1J1eqqO22qSY5+f2A4bi+w1WVJSEosWLeJ///sfL730EgBLly6lTJkyOTpmRkYGb775JidOnGDfvn2ULl0agIiICGxsbOjcuTOOjo74+PhQp04dABwdHbGwsMDGxgZ3d/eH9jlx4kTatGljfOzs7EytWrWMjydNmsTvv//O+vXrCQwMzFG9Qgghsi9Np88aYv7zb1RCGnqD8sR9qFTgam9JaSdrSpew+edfa8r8829pJ2tsLU0bNyTsFFFXrlxBq9XSqFEj4zJnZ2f8/PxytJ+RI0diaWnJoUOHKFWqlHF5mzZt8PLyomLFirRv35727dvTrVu3bI0yXb9+/SyPk5KSGD9+PBs3buTWrVtkZGSQmppKREREjmoVQgiRVXyq7oEAk/LQWZnbSU+f4FpjpsLD0doYYv4bZjwcrbEwL9i9YiTs5JC1xozzE9uZ7Nj5rU2bNvz8889s3bqVPn36GJfb29uze/dujh8/zvbt2xk3bhzjx48nJCQEJyenJ+7zv3d8jRkzhuDgYKZPn07FihWxtramZ8+eMsu8EEI8gaIo3E7SPhBeUowh5vo//yamZTx1PzYWZg8FmdJO1pQpYU1pJxtc7C0xM1HH4twiYSeHVCpVti8lmVKFChXQaDQcPnzY2O/l7t27XLx4kebNm2d7Py+//DJdunThjTfewMzMjN69exvXmZub07p1a9q2bcsXX3yBk5MTf/31F927d8fCwsI41cbT7N+/n4CAALp16wZknum5379HCCGKK4NB4Wb8Iy4x5bC/TAkbzb9BxsnmP2HGGicbTZEf6d2kv7XHjx/PhAkTsizz8/MjNDQUgLS0NEaPHs2qVatIT0+nXbt2/PDDD7i5uRm3j4iIYMiQIezcuRM7Ozv69+/P1KlTi/3tzHZ2dgwcOJAPPviAkiVL4urqymefffZMk3Z269aN5cuX07dvX8zNzenZsycbNmzg77//pk2bNpQsWZJNmzZhMBiMl8nKli3L4cOHCQ8Px87ODmdn58fu39fXl7Vr19KlSxdUKhVjx47FYHj6N7AQQhRVsYnp9F10mNCoxCdup1KBm73VQ2dl7l9m8iwA/WUKApO/A9WqVctym/GDIWXkyJFs3LiRNWvW4OjoSGBgIN27d2f//v1A5iSdnTp1wt3dnQMHDnDr1i369euHRqNhypQp+f5aCppvvvmGpKQkunTpgr29PaNHjyY+Pv6Z9tWzZ08MBgN9+/ZFrVZTqlQp/vzzT77++mvS0tLw9fXl559/plq1akDmpan+/ftTtWpVUlNTCQsLe+y+Z86cyYABA2jSpAmlSpXio48+IiEh4ZnqFEKIwi45PYMBS0IIjUosEv1lCgTFhL744gulVq1aj1x37949RaPRKGvWrDEu+/vvvxVAOXjwoKIoirJp0yZFrVYrUVFRxm3mzZunODg4KOnp6dmuIz4+XgGU+Pj4h9alpqYq58+fV1JTU7O9v8LK3d1dWbBgQba21ev1yt27dxW9Xp/HVRV++fUZ0mq1yrp16xStVpunxxHZI+1RsBSW9tBm6JV+iw4rPh9tUOpM3KZcjU0ydUl5Irfa40m/vx9k8jM7ly5dwtPTEysrK/z9/Zk6dSre3t4cO3YMnU5H69atjdtWrlwZb29vDh48SOPGjTl48CA1atTIclmrXbt2DBkyhHPnzhlvhf6v9PR00tP/Hdzo/lkEnU6HTqfLsq1Op0NRFAwGQ5G9tJKSksL+/fuJjo6mSpUq2XqdiqIY/y2q70tuMRgMKIqCTqfDzCzvOpnf/+z+9zMsTEPao2ApDO2hKAqfrDvH7ouxWGnU/NSnNmUcLQp0zc8qt9oju883adhp1KgRS5Yswc/Pj1u3bjFhwgSaNWvG2bNniYqKwsLC4qE7e9zc3IiKigIgKioqS9C5v/7+useZOnXqQ32FALZt2/bQrdPm5ua4u7uTlJRUZO8OmjdvHt988w1DhgyhWrVqObqElJj45OvJArRaLampqezZs4eMjKffGfG8goOD8/wYIvukPQqWgtwemyLUbL2hRoVC3wo6bp45wM0zpq4qbz1ve6SkpGRrO5OGnQ4dOhj/X7NmTRo1aoSPjw+rV6/G2to6z477ySefMGrUKOPjhIQEvLy8aNu2LQ4ODlm2TUtLIzIyEjs7O6ysTDPyY1776KOP+Oijj3L0HEVRSExMxN7evsj34n9eaWlpWFtb8+KLL+bpZ0in0xEcHEybNm3QaDR5dhyRPdIeBUtBb49VIdfZevA8ABNfrkbvBjkbALawya32yO4f5ya/jPUgJycnKlWqxOXLl2nTpg1arZZ79+5lObsTHR1tHJXX3d2dI0eOZNlHdHS0cd3jWFpaYmlp+dByjUbz0Juu1+tRqVSo1epnupOpqLp/6er+eyMeT61Wo1KpHvn5ygv5dRyRPdIeBUtBbI8df0fzxZ+ZQWd4q4r0bVLOxBXln+dtj+w+t0D9lkpKSuLKlSt4eHhQr149NBoNO3bsMK6/cOECERER+Pv7A+Dv78+ZM2eIiYkxbhMcHIyDgwNVq1bN9/qFEEKInDgRcZehK49jUODVemUY2aaSqUsqkkx6ZmfMmDF06dIFHx8fbt68yRdffIGZmRmvv/46jo6ODBw4kFGjRuHs7IyDgwPDhg3D39+fxo0bA9C2bVuqVq1K3759mTZtGlFRUXz++ecMHTr0kWduhBBCiIIi7HYyA5ceJU1noHklF6Z0ryHdAvKIScPO9evXef3117lz5w4uLi40bdqUQ4cO4eLiAsCsWbNQq9X06NEjy6CC95mZmbFhwwaGDBmCv78/tra29O/f3zjTthBCCFEQxSam03/xEeKStdQo7cgPfeqiMStQF1uKFJOGnVWrVj1xvZWVFXPnzmXu3LmP3cbHx4dNmzbldmlCCCFEnkhOz2Dg0hAi4lLwcrZmcUADGeU4j0mMFEIIIfJJht5A4MrjnL4eTwkbDUvfaoiLvXS7yGsSdoqoFi1aMGLEiHw9pqIoDBo0CGdnZ1QqFSdPnjRJHUIIURApisJnv59l54XMQQMXBTSgvIudqcsqFiTsiBzbtWsXZmZmD82ztWXLFpYsWcKGDRu4desW1atXZ+3atUyaNOm5jqdSqVi3bt1z7UMIIUzt2+2X+OVoJGoVfPd6Xep6lzB1ScWGXCQUueb+sAFNmjQxLnvSbOeQObqwhYVFXpcmhBAmtepIBLN3XAJg0ivVaVPV7SnPELlJzuwUYRkZGQQGBuLo6EipUqUYO3ascU6r9PR0xowZQ+nSpbG1taVRo0bs2rXL+Nxr167RpUsXSpQoga2tLdWqVWPTpk2Eh4fTsmVLAMqWLYuZmRkBAQEEBAQwbNgwIiIiUKlUlC1bFnj4clrZsmWZNGkS/fr1w8HBgUGDBqHVagkMDMTDwwMrKyt8fHyYOnWqcXuAbt26Zdnvk4wfP57atWuzePFivL29sbOz47333kOv1zNt2jTc3d1xdXVl8uTJWZ43c+ZMatSoga2tLV5eXrz33nskJSUZ1y9ZsgQnJye2bt1KlSpVsLOzo3379ty6dSuHLSOEKE7+Co3ms3VnAQhsWZE+jXxMXFHxI2d2ckpRQJe9uThyncYGcjAGw9KlSxk4cCBHjhzh6NGjDBo0CG9vb9555x0CAwM5f/48q1atwtPTk99//5327dtz5swZfH19GTp0KFqtlj179mBra8v58+exs7PDy8uL3377jR49ehASEoKnpye2trYAVKhQgfnz5xMSEvLECS+nT5/OuHHj+OKLLwCYM2cO69evZ/Xq1Xh7exMZGUlkZCQAISEhuLq6EhQURPv27bM9keaVK1fYvHkzW7Zs4cqVK/Ts2ZOrV69SqVIldu/ezYEDBxgwYACtW7emUaNGQOZIx3PmzKFcuXJcvXqV9957jw8//DDLcAcpKSlMnz6d5cuXo1arefPNNxkzZgwrVqzIdrsIIYqPU5H3GLriBHqDQo+6ZRjdVgYNNAUJOzmlS4EpnqY59qc3wcI225t7eXkxa9YsVCoVfn5+nDlzhlmzZtGuXTuCgoKIiIjA0zPztYwZM4YtW7YQFBTElClTiIiIoEePHtSoUQOA8uXLG/d7/9KUi4sL7u7uxuki7O3tMTMze+JUHQCtWrVi9OjRxscRERH4+vrStGlTVCoVPj7//tVzf8wlJyenp+73QQaDgcWLF2Nvb0/VqlVp2bIlFy5cYNOmTajVavz8/Pj666/ZuXOnMez89wzUl19+yeDBg7OEHZ1Ox48//kiFChUACAwMlHGdhBCPFH47mQFLQkjV6Xmxkgtf9ZBBA01Fwk4R1rhx4yzfWP7+/syYMYMzZ86g1+upVCnrXxjp6emULFkSgOHDhzNkyBC2bdtG69at6dGjBzVr1syVuurXr5/lcUBAAG3atMHPz4/27dvTuXNn2rZt+1zHKFu2LPb29sbHbm5umJmZZZnHy83NLctUI9u3b2fq1KmEhoaSkJBARkYGaWlppKSkYGNjA4CNjY0x6AB4eHhk2YcQQgDcTkqnf9AR7iRrqV7aQQYNNDEJOzmlsck8w2KqY+eCpKQkzMzMOHbs2EOXhezsMm+DfPvtt2nXrh0bN25k27ZtTJ06lRkzZjBs2LDnPv79y1731a1bl7CwMDZv3sz27dt57bXXaN26Nb/++uszH+O/k8Pdn4jzv8vuT2gaHh5O586dGTJkCJMnT8bZ2Zl9+/YxcOBAtFqtMew8ah/3+0EJIQRAijaDgUtCuHYnhTIlMgcNtJNBA01K3v2cUqlydCnJlA4fPpzl8aFDh/D19aVOnTro9XpiYmJo1qzZY5/v5eXF4MGDGTx4MJ988gkLFixg2LBhxrun9Hp9rtXq4OBAr1696NWrFz179qR9+/bExcXh7OyMRqPJ1WM9yrFjxzAYDMyYMcN49mf16tV5ekwhRNGTOWjgCU5dj8fJRsPSAQ1xtbcydVnFnpxTK8IiIiIYNWoUFy5c4Oeff+a7777j/fffp1KlSvTp04d+/fqxdu1awsLCOHLkCFOnTmXjxo1AZv+VrVu3EhYWxvHjx9m5cydVqlQBMqfoUKlUbN26ldjY2Cx3LD2LmTNn8vPPPxMaGsrFixdZs2YN7u7uODk5AZmXpHbs2EFUVBR37959rmM9TsWKFdHpdHz33XdcvXqV5cuX8+OPP+bJsYQQRZOiKIz94yx/hcZgaa5mUf8GVJBBAwsECTtFWL9+/UhNTaVhw4YMHTqU999/n0GDBgEQFBREv379GD16NH5+frzyyiuEhITg7e0NZJ61GTp0KFWqVKF9+/ZUqlTJ2FG3dOnSjB8/ngkTJuDh4UFgYOBz1Wlvb8+0adOoX78+DRo0IDw83NiRGGDGjBkEBwfj5eVFnTp1nutYj1OrVi1mzpzJ119/TfXq1VmxYoXx9nchhMiOOTsu8/ORzEED57xeh3o+MmhgQaFSpMMBCQkJODo6Eh8fj4ODQ5Z1aWlphIWFUa5cOays5FTkfQaDgYSEBBwcHLJ0+hUPy6/PkE6nY9OmTXTs2PGhvkUi/0l7FCx53R6rQyL58LfTQOaggX0by1g6T5Jb7fGk398Pkt9SQgghxHPYGRrDJ7+fAeC9FhUk6BRAEnZEoVOtWjXs7Owe+SWD+wkh8tPp6/d4b8Vx9AaF7nVL80E7P1OXJB5B7sYShc6mTZvQ6XSPXOfmJvPNCCHyx7U7/w4a2My3FF91rymDBhZQEnZEofPgCMtCCGEKd5LS6b/4CLeTtFT1cGDem/WwMJeLJQWVtIwQQgiRA6laPQOXHiX8TgqlnaxZ8pYMGljQSdgRQgghsilDb2DYz8c5GXnv30EDHeRO3YJOwo4QQgiRDZmDBp5j+9+ZgwYu7Fefiq4yaGBhIGFHCCGEyIbv/7rMz0ciUKlgdu861C/rbOqSRDZJ2BFCCCGeYs3RSGYEXwRgwsvVaF/d3cQViZyQsFNEtWjRghEjRuTrMRVFYdCgQTg7O6NSqTh58qRJ6hBCiNy060IMH6/NHDRwSIsK9PMva9qCRI5J2BE5tmvXLszMzIiPj8+yfMuWLSxZsoQNGzZw69Ytqlevztq1a5k0adJzHU+lUrFu3brn2ocQQjyLM9fjjYMGdqtTmg9l0MBCSe6VE7nmypUreHh40KRJE+MyZ+cnX9PWarVYWFjkdWlCCJFjEXdSeGvJEVK0eppWLMXXPWTQwMJKzuwUYRkZGQQGBuLo6EipUqUYO3Ys9+d9TU9PZ8yYMZQuXRpbW1saNWrErl27jM+9du0aXbp0oUSJEtja2lKtWjU2bdpEeHg4LVu2BKBs2bKYmZkREBBAQEAAw4YNIyIiApVKRdmyZYGHL6eVLVuWSZMm0a9fPxwcHBg0aBBarZbAwEA8PDywsrLCx8fHOOP4/f1069Yty36f5o8//qBu3bpYWVlRvnx5JkyYQEZGBgDh4eHGy2z33bt3D5VKleU9OHfuHJ07d8bBwQF7e3uaNWvGlStXst8AQohCKy5ZS/+gzEEDq3g4MO/NujJoYCEmZ3ZySFEUUjNSTXJsa3PrHP1VsXTpUgYOHMiRI0c4evQogwYNwtvbm3feeYfAwEDOnz/PqlWr8PT05Pfff6d9+/acOXMGX19fhg4dilarZc+ePdja2nL+/Hns7Ozw8vLit99+o0ePHoSEhODp6YmtrS0AFSpUYP78+YSEhGBmZvbYuqZPn864ceP44osvAJgzZw7r169n9erVeHt7ExkZSWRkJAAhISG4uroSFBRE+/btn7jf+/bu3Uu/fv2YM2eOMaAMGjQIwHjMp7lx4wYvvvgiLVq04K+//sLBwYH9+/cbA5MQoujKHDQwhLDbycZBA+2tZOb6wkzCTg6lZqTSaGUjkxz78BuHsdHYZHt7Ly8vZs2ahUqlws/PjzNnzjBr1izatWtHUFAQEREReHp6AjBmzBi2bNlCUFAQU6ZMISIigh49elCjRg0Aypcvb9zv/UtTLi4uuLu7o1Zn/rVjb2+PmZkZ7u5PvkuhVatWjB492vg4IiICX19fmjZtikqlyjIdhIuLCwBOTk5P3e99EyZM4OOPP6Z///7G2idNmsSHH36Y7bAzd+5cHB0dWbVqFRpN5g+5SpUqZeu5QojCK3PQwBOciLiHo7WGpQMa4CaDBhZ6EnaKsMaNG2c5E+Tv78+MGTM4c+YMer3+oV/e6enplCxZEoDhw4czZMgQtm3bRuvWrenRowc1a9bMlbrq16+f5XFAQABt2rTBz8+P9u3b07lzZ9q2bfvM+z916hT79+9n8uTJxmV6vZ60tDRSUlKytY+TJ0/SrFkzY9ARQhR9iqLwxfpzbP87GgtzNQv716eiq72pyxK5QMJODlmbW3P4jcMmO3ZuSEpKwszMjGPHjj10WcjOLnM00Lfffpt27dqxceNGtm3bxtSpU5kxYwbDhg177uPfv+x1X926dQkLC2Pz5s1s376d1157jdatW/Prr78+0/6TkpKYMGEC3bt3f2idlZWV8UzU/f5LwEOzqFtb5857LYQoPH7YdYUVhzMHDZzTuzYNZNDAIkPCTg6pVKocXUoypcOHs4ayQ4cO4evrS506ddDr9cTExNCsWbPHPt/Ly4vBgwczePBgPvnkExYsWMCwYcOMd0/p9fpcq9XBwYFevXrRq1cvevbsSfv27YmLi8PZ2RmNRpOjY9WtW5cLFy5QsWLFR66/f2ns1q1b1KlTByBLZ2WAmjVrsnTpUnQ6nZzdEaIY+PXYdb7ZegGALzpXpX11DxNXJHKTdC0vwiIiIhg1ahQXLlzg559/5rvvvuP999+nUqVK9OnTh379+rF27VrCwsI4cuQIU6dOZePGjQCMGDGCrVu3EhYWxvHjx9m5cydVqlQBwMfHB5VKxdatW4mNjSUpKem56pw5cyY///wzoaGhXLx4kTVr1uDu7o6TkxOQeUfWjh07iIqK4u7du0/d37hx41i2bBkTJkzg3Llz/P3336xatYrPP/8cyDxr07hxY7766iv+/vtvdu/ebVx3X2BgIAkJCfTu3ZujR49y6dIlli9fzoULF57rtQohCp49F2P5+LfTALzbvDwBL5QzcUUit0nYKcL69etHamoqDRs2ZOjQobz//vvGu5KCgoLo168fo0ePxs/Pj1deeYWQkBC8vb2BzLM2Q4cOpUqVKrRv355KlSrxww8/AFC6dGnGjx/PhAkT8PDwIDAw8LnqtLe3Z9q0adSvX58GDRoQHh7Opk2bjJebZsyYQXBwMF5eXsYzMU/Srl07NmzYwLZt22jQoAGNGzdm1qxZWTo+L168mIyMDOrVq8eIESP48ssvs+yjZMmS/PXXXyQlJdG8eXPq1avHggUL5CyPEEXM2RvxDPnfMTIMCq/U9uSjdpVNXZLIAyrlwY4LxVRCQgKOjo7Ex8fj4OCQZV1aWhphYWGUK1cOKyvpkX+fwWAgISEBBwcHYygRj5ZfnyGdTsemTZvo2LGjhLICQNqjYHlUe0TGpdDthwPcTkrnhYolCQpoKGPp5JPc+v540u/vB0mrCiGEKHbuGgcNTKeyuz3z3qwnQacIk5YVhU61atWws7N75NeKFStMXZ4QooBL02UOGng1NhlPRyuWDmiIgwwaWKTJ3Vii0Nm0adNDt4rf5+bmls/VCCEKE71BYfgvJzgecQ8HK3OWDmgogwYWAxJ2RKHzYEdjIYTILkWBSRtD2Xb+/qCBDfB1k0EDiwMJO0IIIYqF7TdVbIiIRKWCb3vVpmE5GTSwuJA+O0IIIYq8dSdvsiEic8T4cZ2r0rGGDBpYnEjYEUIIUaTtvRTLJ7+fA2DgCz68JYMGFjsSdoQQQhRZZ2/EM3h55qCBdUsa+LBtpac/SRQ50mdHCCFEkRQZl8JbS0JI1uppXK4Er7rGolarTF2WMAE5syOEEKLIuZeiJSDoCLGJmYMG/vBGbWTMwOJLml48kkqlYt26daYuQwghcixNp+ftpUe58s+ggUveaoi9DBpYrEnYEXlKq9WaugQhRDESk5jG0BXHOXrtLg5W5iwZ0BB3Rxk0sLiTsFOEbdmyhaZNm+Lk5ETJkiXp3LkzV65cATJDSGBgIB4eHlhZWeHj48PUqVMBKFu2LADdunVDpVIZH1+5coWuXbvi5uaGg4MDrVq1Yvv27VmOWbZsWSZNmkS/fv1wcHAwzrL+OOHh4ahUKlavXk2zZs2wtramQYMGXLx4kZCQEOrXr4+dnR0dOnQgNjbW+LyQkBDatGlDqVKlcHR0pHnz5hw/fjzLvlUqFQsXLqRbt27Y2Njg6+vL+vXrn+ctFUIUUDGJaUzacJ5mX+9kR2gMFmZq5verTyUZNFAgYSfHFEXBkJJikq+cTlCfnJzMqFGjOHr0KDt27ECtVtOtWzcMBgNz5sxh/fr1rF69mgsXLrBixQpjqAkJCQEgKCiIW7duGR8nJSXRsWNHduzYwbFjx3jppZfo2rUrERERWY47ffp0atWqxYkTJxg7dmy2av3iiy/4/PPPOX78OObm5rzxxht8+OGHzJ49m71793L58mXGjRtn3D4xMZH+/fuzb98+Dh06hK+vLx07diQxMTHLfidMmMBrr73G6dOn6dixI3369CEuLi5H76MQouCKTUznyw3neXHaThbtCyM9w0AdbydWvNOIxuVLmro8UUDI3Vg5pKSmcqFuPZMc2+/4MVQ2NtnevkePHlkeL168GBcXF86fP09ERAS+vr40bdoUlUqVZQoGFxcXAJycnHB3dzcur1WrFrVq1QLAYDDw2WefsXnzZtavX09gYKBxu1atWjF69OgcvbYxY8bQrl07AN5//31ef/11duzYwQsvvADAwIEDWbJkSZZjPGj+/Pk4OTmxe/duOnfubFweEBDA66+/DsCUKVOYM2cOR44coX379jmqTwhRsMQmpjN/zxWWH7pGms4AQG0vJ0a2qcSLvqVQqeSuK/EvCTtF2KVLlxg3bhyHDx/m9u3bGAyZPxAiIiIICAigTZs2+Pn50b59ezp37kzbtm2fuL+kpCTGjx/Pxo0buXXrFhkZGaSmpj50Zqd+/fo5rrVmzZrG/9+fzLNGjRpZlsXExBgfR0dH8/nnn7Nr1y5iYmLQ6/WkpKQ8VMuD+7W1tcXBwSHLfoQQhcvtpHTm77nKsoPhxpBTy8uJka19aV7JRUKOeCQJOzmksrbG7/gxkx07J7p06YKPjw8LFizA09MTg8FA9erV0Wq11K1bl7CwMDZv3sz27dt57bXXaN26Nb/++utj9zdmzBiCg4OZPn065cuXR6/XM2DAgIc6Idva2ub4tWk0/94pcf+H1X+X3Q9rAP379+fOnTvMnj0bHx8fLC0t8ff3f6iWB/fxqP0IIQqH20npLNhzlWUHr5Gq0wNQq4wjI9pUooWEHPEUEnZySKVS5ehSkqncuXOHCxcusGDBApo1awbAvn37smzj4OBAr1696NWrFz179qR9+/bExcXh7OyMRqNBr9dn2X7//v0EBAQY+/3cvHmT8PDw/HpJD9Xyww8/0LFjRwAiIyO5ffu2SWoRQuSdO0npzN97lWUH/hNyWleihZ+EHJE9EnaKqBIlSlCyZEnmz5+Ph4cHERERfPzxx8b1M2fOxMPDgzp16qBWq1mzZg3u7u44OTkBmXdV3e8zY2lpSYkSJfD19WXt2rV06dIFRVH49NNPTXaWxNfXl+XLl1O/fn0SEhL44IMPsM7hmS8hRMEVl6w1Xq5K0WaGnJplHBnR2peWfq4SckSOyN1YRZRarWbVqlUcO3aM6tWrM3LkSL755hvjent7e6ZNm0b9+vVp0KAB4eHhbNq0CbU68yMxY8YMgoOD8fLyok6dOkBmQCpRogRNmjSha9eutGrVirp165rk9S1atIi7d+9St25d+vbty/Dhw3F1dTVJLUKI3BOXrOXrLaE0/fovftx9hRStnhqlHVnUvz5/DH2BVpXdJOiIHFMpOb2fuQhKSEjA0dGR+Ph4HBwcsqxLS0sjLCyMcuXKYWUlA1PdZzAYSEhIwMHBwRiQxKPl12dIp9OxadMmOnbs+FBfJZH/pD1y5m6ylgV7r7L0QDjJ/5zJqV7agREvVeKlKs9/Jkfao2DJrfZ40u/vB8llLCGEECZzN1nLwn1XWbL/35BTzdOBEa0r0ToXQo4QIGFH5LEpU6YwZcqUR65r1qwZmzdvzueKhBAFwb2UzDM5D4acqh4OjGjtS5uqcqlK5K4Cc/3hq6++QqVSMWLECOOytLQ0hg4dSsmSJbGzs6NHjx5ER0dneV5ERASdOnXCxsYGV1dXPvjgAzIyMvK5evE4gwcP5uTJk4/8WrhwoanLE0Lks3spWqZvvUDTr3cyd+cVkrV6qng48FPfemwc3pS21dwl6IhcVyDO7ISEhPDTTz9lGQAOYOTIkWzcuJE1a9bg6OhIYGAg3bt3Z//+/QDo9Xo6deqEu7s7Bw4c4NatW/Tr1w+NRvPYswkifzk7O+Ps7GzqMoQQJhafomPhvqsE7Q8nKT3zD9LK7vaMaF2JtlXdUKsl4Ii8Y/Kwk5SURJ8+fViwYAFffvmlcXl8fDyLFi1i5cqVxqkBgoKCqFKlCocOHaJx48Zs27aN8+fPs337dtzc3KhduzaTJk3io48+Yvz48VhYWJjqZQkhhCAz5Cz6J+QkZgk5vrSt6i4hR+QLk4edoUOH0qlTJ1q3bp0l7Bw7dgydTkfr1q2NyypXroy3tzcHDx6kcePGHDx4kBo1ahinFwBo164dQ4YM4dy5c8Zbpv8rPT2d9PR04+OEhAQgs3e4TqfLsq1Op8uc/NNgkJF3H3D/Jr777414PIPBgKIo6HQ6zMzM8uw49z+7//0MC9Mo7u2RkKoj6MA1lhyMMJ7J8XOzI7BlBdpWcUWtVqHXZ/CfsUvzTHFvj4Imt9oju883adhZtWoVx48fN86q/aCoqCgsLCyMg9zd5+bmRlRUlHGbB4PO/fX31z3O1KlTmTBhwkPLt23bhs1/Rkc2NzfH3d2dpKSkh6YiEDw0y7h4mFarJTU1lT179uRLf7Lg4OA8P4bIvuLWHikZsPuWmt23VKTqM8/aeFgrtPcyUNP5HoZrx9hyzXT1Fbf2KOietz1SUlKytZ3Jwk5kZCTvv/8+wcHB+T5+zSeffMKoUaOMjxMSEvDy8qJt27aPHGcnMjISOzs7GWfnAYqikJiYiL29vXQmfIq0tDSsra158cUX83ycneDgYNq0aSPjiBQAxa09EtN0LDkQQdDBaySmZYb6Sq52BLYsT7sC0CenuLVHQZdb7XH/yszTmCzsHDt2jJiYmCwj8Or1evbs2cP333/P1q1b0Wq13Lt3L8vZnejoaNzd3QFwd3fnyJEjWfZ7/26t+9s8iqWlJZaWlg8t12g0D73per0elUqFWq2WwfMecP/S1f33RjyeWq1GpVI98vOVF/LrOCJ7inp7JKTpCNoXzqJ9V0m4H3Lc7Hj/pUp0qF7w+uQU9fYobJ63PbL7XJOFnZdeeokzZ85kWfbWW29RuXJlPvroI7y8vNBoNOzYsYMePXoAcOHCBSIiIvD39wfA39+fyZMnExMTY5wqIDg4GAcHB6pWrZq/L0gIIYqRxDQdQfvDWbj335Dj62rH+6196Vjdo8CFHFG8mSzs2NvbU7169SzLbG1tKVmypHH5wIEDGTVqFM7Ozjg4ODBs2DD8/f1p3LgxAG3btqVq1ar07duXadOmERUVxeeff87QoUMfeeZGZJ9KpeL333/nlVdeMXUpQogCJDFNx5L94SzcF0Z8ambn0Iqudrz/ki8da3hgJiFHFEAmvxvrSWbNmoVaraZHjx6kp6fTrl07fvjhB+N6MzMzNmzYwJAhQ/D398fW1pb+/fszceJEE1YtHqTVamUIACGKgMQ0HUsPhLNg778hp4KLLe+3rkQnCTmigCtQnS127drFt99+a3xsZWXF3LlziYuLIzk5mbVr1z7UF8fHx4dNmzaRkpJCbGws06dPx9y8QGe4fLNlyxaaNm2Kk5MTJUuWpHPnzly5cgXIDCGBgYF4eHhgZWWFj48PU6dOBaBs2bIAdOvWDZVKZXx85coVunbtipubGw4ODrRq1Yrt27dnOWbZsmWZNGkS/fr1w8HBgUGDBj21zsjISF577TWcnJxwdnama9euhIeHG9e3aNEiy8jaAK+88goBAQHGx+np6cbLn5aWllSsWJFFixbl7A0TQjwkKT2DuTsv02zaTqZvu0h8qo4KLrbM7l2bbSOb83ItTwk6osCTVJBDiqKQoTXNuDLmFuoc3fmUnJzMqFGjqFmzJklJSYwbN45u3bpx8uRJ5syZw/r161m9ejXe3t5ERkYSGRkJZI5o7erqSlBQEO3btzeODZOUlETHjh2ZPHkyGo2GhQsX0rVrVy5cuIC3t7fxuNOnT2fcuHF88cUXT61Rp9PRrl07/P392bt3L+bm5nz55Ze0b9+e06dPZ/usUL9+/Th48CBz5syhVq1ahIWFcfv27Wy/V0KIrJLSM/45k3OVeymZZ3LKu9jy/ku+dK4pAUcULhJ2cihDa2D++7tNcuxBs5ujscz+oHT3O3bft3jxYlxcXDh//jwRERH4+vrStGlTVCoVPj4+xu1cXFwAcHJyynImrVatWtSqVQvIvBvrs88+Y/Pmzaxfv57AwEDjdq1atWL06NHZqvGXX37BYDCwcOFCY5ALCgrCycmJXbt20bZt26fu4+LFi6xevZrg4GDjIJTly5fP1vGFEFklpWew7GA4C/Zc5e79kFPKluEv+dJFzuKIQkrCThF26dIlxo0bx+HDh7l9+7bxdvGIiAgCAgJo06YNfn5+tG/fns6dOz81WCQlJTF+/Hg2btzIrVu3yMjIIDU1lYiIiCzb1a9fP9s1njp1isuXL2Nvb59leVpamvGS29OcPHkSMzMzmjdvnu3jCiGyMhgUFu67yrxdV4whp1wpW4a/VJEuNT0xNytQvR6EyBEJOzlkbqFm0GzT/FI1t8jZD5suXbrg4+PDggUL8PT0xGAwUL16dbRaLXXr1iUsLIzNmzezfft2XnvtNVq3bs2vv/762P2NGTOG4OBgpk+fTvny5dHr9QwYMOChkaVtbW2zXWNSUhL16tVjxYoVD627f4ZJrVYbp6e478Ehwq2trbN9PCHEw3R6Ax+sOcW6kzcBKFvShuEv+fJyLQk5omiQsJNDKpUqR5eSTOXOnTtcuHCBBQsW0KxZMwD27duXZRsHBwd69epFr1696NmzJ+3btycuLg5nZ2c0Gg36/0xas3//fgICAujWrRsGg4GbN29m6Uj8LOrWrcsvv/yCq6vrQ6NX3+fi4sKtW7eMj/V6PWfPnqVly5YA1KhRA4PBwO7du7PMpSaEeLo0nZ5hP58g+Hw05moV41+uRu8GXhJyRJEin+YiqkSJEpQsWZL58+dz+fJl/vrrryxTZMycOZOff/6Z0NBQLl68yJo1a3B3dzeOVl22bFl27NhBVFQUd+/eBcDX15e1a9dy8uRJTp06xTvvvPPck4D26dOHUqVK0bVrV/bu3UtYWBi7du1i+PDhXL9+HcjsA7Rx40Y2btxIaGgoQ4YM4d69e8Z9lC1blv79+zNgwADWrVtn3Mfq1aufqzYhiroUbQZvLz1K8PloLMzVzO9Xjzcb+0jQEUWOfKKLKLVazapVqzh27BjVq1dn5MiRfPPNN8b19vb2TJs2jfr169OgQQPCw8PZtGmTceqHGTNmEBwcjJeXl3H2+JkzZ1KiRAmaNGlC165dadWqVZbpPp6FjY0Ne/bswdvbm+7du1OlShUGDhxIWlqa8UzPgAED6N+/P/369aN58+aUL1/eeFbnvnnz5tGzZ0/ee+89KleuzDvvvENycvJz1SZEURafqqPvoiPsu3wbGwszlrzVgFaV3Z7+RCEKIZXy384QxVBCQgKOjo7Ex8c/ciLQsLAwypUrJxOBPsBgMJCQkICDg4PMjfUU+fUZ0ul0bNq0iY4dO8rcPwVAQW6PO0np9F10hPO3EnCwMmfJgIbU9S5h6rLyVEFuj+Iot9rjSb+/HyR9doQQohiJik+jz8JDXIlNppSdBcsHNqKKx+N/SQhRFMif5CJPTZkyBTs7u0d+dejQwdTlCVGsRNxJ4dWfDnAlNhlPRytWv+svQUcUC3JmR+SpwYMH89prrz1yndwyLkT+uRSdSJ+Fh4lJTKdsSRv+93YjypSwMXVZQuQLCTsiTzk7O+Ps7GzqMoQo1s7eiKfvosPcTdHh52bP8oENcXWQPoii+JCwI4QQRVhIeBwDgkJITM+gVhlHlrzVkBK22ZtzToiiQvrsZJPctCaelXx2hKnsuRhL30WHSUzPoGE5Z/73diMJOiJfKQYDqTtWc2fsAJPWIWd2nuL+jN9arVb6mIhnkpKSAiC3u4p8teVsFMN/PoFWb6CFnwvz+tTD2qLgj/4uCj/FYCB9/wbu/RJE2Nk0Ym3rcs+pGd2P7sSufsun7yAPSNh5CnNzc2xsbIiNjUWj0ciYMv8wGAxotVrS0tLkPXkMRVFISUkhJiYGJycnY3AWIq/9fuI6Y9acRm9Q6FjDnW971cHCXL5PRd5KPxLMvZ8XEH7yHjHWdYlxeZ20yqWM6w+FXqN19ueJzlUSdp5CpVLh4eFBWFgY165dM3U5BYaiKKSmpmJtbY1KpTJ1OQWak5MT7u7upi5DFBPLD11j7LqzAPSsV4avuteQ6R9EntGe3EPCyp8IOxpNjEUdol27ker370jcBtJJKxNLpcZl8G/ay2R1StjJBgsLC3x9fR+a3bs40+l07NmzhxdffFEuzzyBRqORMzoi3/y4+wpfbQ4FIKBJWcZ1ropaLX+MiNylPX+YxBXzuHb4GlFmtYlx7UhyJQ/jegNa0txjKN/Yg7YvNsPexs6E1WaSsJNNarVapot4gJmZGRkZGVhZWUnYEcLEFEVhxraLfL/zMgCBLSsyum0lOesqco3u8ikSV8wlYv9FblGTGJeWJFX0Mq5XyCDF9RY+Dd1o17wJTvYFa7BKCTtCCFGIGQwKEzecZ8mBcAA+7lCZwc0rmLYoUSRkXAslYcV33Nh9hhv66sS6NiahfG/jegU9KSVvUbpBSdq18KeUU8EdU03CjhBCFFJ6g8LHv51mzbHrAEx6pTp9G/uYuCpRmGXcDCNxxWxu7jrOjbQqxLjWJ75cD+N6BQOpTrdwq+9Eu5b+uJVsY8Jqs0/CjhBCFELaDAMjfznJxjO3MFOr+KZnTbrXLWPqskQhpI+9QeLKOdzafpDryZWIcanHvTKdQfVvx/YUh5uUqmdH6xaN8HJrbcJqn42EHSGEKGTSdHoG/+8Yuy7EojFT8d3rdWlfXe74E9lnuBtD4qrvid6yi4iE8sS61OeuZ2sU1b83VKTY3qJEHWtatWxA+dKtTFjt85OwI4QQhUhimo63lx7lcFgcVho1P/WtT/NKLqYuSxQChsS7JP3yPTGbtxNxx5vYUvW44/Y5ise/USDVOhr7OhpatqhPJe/CHXAeJGFHCCEKibvJWgKCjnDqejz2luYsfqsBDcoW3E6hwvQMKYkk/zqP2A2buRbjQWzJetxx/gSDy7/ThqRZxmBTU82LLepQrULRCTgPkrAjhBCFQExiGn0XHuFCdCIlbDQsG9CIGmUcTV2WKICUtBSS1y3k9vo/CL9ZitgS9bhT6kP0zpbGbdItbmNR3UDTF2tSu3LRDDgPkrAjhBAF3PW7Kby58DDhd1JwtbdkxduN8HWzN3VZogBRdFpS/lxM3LrfCItwINapHrGlRqGv/O+cjunmcZhX0+HfrDr1qrYoVlP9SNgRQogC7GpsEm8uPMzN+DTKlLBm5duN8S5pY+qyRAGgZGSQuuV/xK1dRdgVq38CznAyKtsat9Ga3UNVOY0GTSvjX6t4BZwHSdgRQogC6u9bCfRddJjbSVoquNiy4u3GuDvKSO7FmWIwkLZjNXfX/I+wiypi7esR4zIEXZV/z/Tp1IkovonUeaESzeo1lylrkLAjhBAF0omIu/RffISEtAyqejiwbGBDStlZPv2JoshRDAbS9vxB/OolhJ3XEWNXlxiXAWgrOxm3yVAlk1EhnlpNytO84YtozOXX+4Pk3RBCiALmwJXbvL30KClaPfV8SrA4oAGO1jIHXXGjPbmHu0FzCDudRKx1XaJd+5Je+d+77/SqFLQ+cVRrUo5W/m2x1EgYfhwJO0IIUYD8FRrN4P8dR5th4IWKJVnQrz42FvKjujgxJMVz89N3OH3Bgyj3V0n1+3ccJT1ppHvfpnJjb9q80AYrSwk42SHfQUIIUUD8eeomI385SYZBoU1VN757vQ5WGulvUZykbFjC0dnruezxGqnlXAEwoCXNM4aKjT1p07Q5dja2T9mL+C8JO0IIUQD8EhLBx2vPoCjQtbYn01+thcaseN45UxzpY29w6YMhnI1/gegKgQBkqONxaWtBp9Yv4mgnQw08Dwk7QghhYov2hTFpw3kAXm/ozZevVMdMrTJxVSK/3Av6ikO/XOVamUFkuNmgKAb0vjfo+84rODvKwJG5QcKOEEKYiKIofPfXZWYGXwRg0Ivl+aRDZVQqCTrFQUbYeY5/9CkXzLuQULYhAFrLm/gPrE7jmoVvZvGCTMKOEEKYgKIoTN0cyvw9VwEY1aYSw1pVlKBTDCgGAzemf0DIPituegSCSo2ipGH7QhKD3ugtt43nAXlHhRAin+kNCmP/OMvKwxEAjO1clYFNy5m4KpEf0k7sZv/EBYQ5diPdswQA2hJX6D68Iz4epU1cXdElYUcIIfKRTm9gzJpT/HHyJioVfNW9Br0aeJu6LJHHlPQ0/h43nFNXqxHnNgAAA7ep8FopOrZ6x8TVFX0SdoQQIp+k6fQM+/kEweejMVermNWrNl1qeZq6LJHHEv76jV3f7eZGqW4YSlqCkoG6Qjj9A/vIbeT5RMKOEELkgxRtBoOWHWPf5dtYmKv58c26tKrsZuqyRB4yJN7lwAejuZzUkmS3VzKXmYfxYmATalVua9riihkJO0IIkcfiU3UMWBLCsWt3sbEwY2H/+jSpUMrUZYk8dP3nuez/LY7bpd4EO1AZknB+IZHX+r5VbGceNyUJO0IIkYfuJGsZsPQ4528l4GBlzpIBDanrXcLUZYk8orsVxraPp3HDrD26UlUAUNmfo8fHr+NWUgKuqUjYEUKIPHIvHd5YGMLV28mUsrNg+cBGVPFwMHVZIg8oBgOnZk/idIgbiQ6vAqDS36JqbxdavDTMxNUJCTtCCJEHrsWlMPucGXHpyXg6WvG/txtR3sXO1GWJPHDv3BG2Tfmd27YtURzMURm02HhfoPcHg2WizgJCwo4QQuSyS9GJ9FkYQly6Ch9nG1a804gyJWxMXZbIZUpGBjvGfUr4jXqk27cBwEwJpcXIZlSu0t7E1YkHPXPY0Wq1xMTEYDAYsiz39pbxIoQQxdeZ6/H0W3yYuyk6PKwVfn67AZ4SdIqcqzv+YP/iiyTYtwdrMMu4h0fD23R5e7B0QC6Achx2Ll26xIABAzhw4ECW5YqioFKp0Ov1uVacEEIUJkfC4hi4JITE9Axqlnagt0ccLvZyGaMo0SYlsP7jKdxOa4bevh4oBqwtj9JtytuUcJYOyAVVjsNOQEAA5ubmbNiwAQ8PD5nHRQghgD0XYxm0/ChpOgMNyznz4xu12fvXNlOXJXLR4eU/cS5YQ6pNWzAHi/Rr1OrpSMNOH5u6NPEUOQ47J0+e5NixY1SuXDkv6hFCiEJny9kohv98Aq3eQAs/F+b1qYe5yvD0J4pCIe5GGBvG/49EtT/YqDHLSKWE63G6jf8ICwsLU5cnsiHHYadq1arcvn07L2oRQohC59dj1/not9PoDQoda7jzba86WJir0ekk7BR2BoOBjTOmc+vvCugsXgDAJv0ELYe/QNk6Y01cnciJbIWdhIQE4/+//vprPvzwQ6ZMmUKNGjXQaDRZtnVwkDEkhBDFw/w9V5iyKRSAnvXK8FX3GpibSefUoiD06AH2/XCcdIv6YAEWabGUrR5GmzFyyaowylbYcXJyytI3R1EUXnrppSzbSAdlIURxoSgKX20J5afdVwF4p1k5PulQBbVa+jAWdmnpqaz54luS7tTBYFEVlSEDJ8NeOk8ZiINnL1OXJ55RtsLOzp0787oOIYQoFDL0Bj5Ze4Y1x64D8HGHygxuXsHEVYncsHvdr4T+mUaGphGYgW3SRWp3NKP2G5NMXZp4TtkKO82bNzf+PyIiAi8vr4fuwlIUhcjIyNytTgghCpA0nZ5hP58g+Hw0ahV81b0mrzXwMnVZ4jlFxUSxftJKdLraoAFzXSIeNnvo9NN4zGztTV2eyAU57qBcrlw5bt26haura5blcXFxlCtXTi5jCSGKpIQ0HW8vPcqRsDgszNV8/3od2lZzN3VZ4jkYDAbW/LiAuBMeGMxqA1Aifj/NB9WkdMsZpi1O5Koch537fXP+KykpCSsrq1wpSgghCpLYxHT6Lz7C+VsJ2Fuas6B/fRqXL2nqssRzOHX6BPvnHkNR+YIZ2CTfoKL3SZp+/zUqc5lJqajJdouOGjUKAJVKxdixY7Gx+Xf4c71ez+HDh6ldu3aODj5v3jzmzZtHeHg4ANWqVWPcuHF06NABgLS0NEaPHs2qVatIT0+nXbt2/PDDD7i5uRn3ERERwZAhQ9i5cyd2dnb079+fqVOnYi4fViFELoi4k0LfxYe5dieFUnYWLHmrIdVLO5q6LPGMklJSWDN7GbrrfqAuj1qvxS1xK23Hvo5dtb6mLk/kkWwnghMnTgCZZ3bOnDmTZSAlCwsLatWqxZgxY3J08DJlyvDVV1/h6+uLoigsXbqUrl27cuLECapVq8bIkSPZuHEja9aswdHRkcDAQLp3787+/fuBzJDVqVMn3N3dOXDgALdu3aJfv35oNBqmTJmSo1qEEOK//r6VQL/FR4hNTMfL2ZrlAxpRtpStqcsSz+jatXBWfrAV1NVADU53z1Cn8R2qvD8DlcxnVaRlO+zcvyPrrbfeYvbs2bkynk6XLl2yPJ48eTLz5s3j0KFDlClThkWLFrFy5UpatWoFQFBQEFWqVOHQoUM0btyYbdu2cf78ebZv346bmxu1a9dm0qRJfPTRR4wfP15GthRCPLOQ8DgGLAkhMS2Dyu72LBvQEFcHuVRfGF27dYP109djllwD1GCZdhcf/SZazPwMTenypi5P5IMcX+sJCgrKizrQ6/WsWbOG5ORk/P39OXbsGDqdjtatWxu3qVy5Mt7e3hw8eJDGjRtz8OBBatSokeWyVrt27RgyZAjnzp2jTp06jzxWeno66enpxsf3B03U6XTodLo8eX1Fzf33Sd6vgkPaJPf8dSGW4atOkZ5hoJ63Ez+9WQdHa7McvbfSHqany8jgl2WrSTlWCrXaDxQD7jE7adzDBddeP2ZuI+1jErn1/ZHd5+c47HTv3v2Ry1UqFVZWVlSsWJE33ngDPz+/bO3vzJkz+Pv7k5aWhp2dHb///jtVq1bl5MmTWFhY4OTklGV7Nzc3oqKiAIiKisoSdO6vv7/ucaZOncqECRMeWr5t27YsfZHE0wUHB5u6BPEf0ibP50isip8vqzGgoqqTgd7ut9m/89nfU2kP07h+JxbdUQs0Bi9Qg31CGF5mm0jp1Y2j1vawaZOpSxQ8//dHSkpKtrbLcdhxcHBg3bp1ODk5Ua9ePQCOHz/OvXv3aNu2Lb/88gtff/01O3bs4IUXXnjq/vz8/Dh58iTx8fH8+uuv9O/fn927d+e0rBz55JNPjB2uIfPMjpeXF23btpXpLrJJp9MRHBxMmzZtHpoyRJiGtMnzW7w/nBUHLwLQrbYHk1+phuYZp3+Q9jCNiKibbFi6DfPIcmhUaswzUvCK+ZOGQ15kv7aftEcBkVvfHw9OZ/UkOQ477u7uvPHGG3z//feo/+nQZTAYeP/997G3t2fVqlUMHjyYjz76iH379j11fxYWFlSsWBGAevXqERISwuzZs+nVqxdarZZ79+5lObsTHR2Nu7u7sZYjR45k2V90dLRx3eNYWlpiaWn50HKNRiPfBDkk71nBI22Sc4qiMG3rBebtugLA203L8WnH3Jn+Qdojf1yMCGfz8u2YRXhhrqoAKnCNOUKtihfx/f57Msw0sGmTtEcB87ztkd3n5vhPlkWLFjFixAhj0AFQq9UMGzaM+fPno1KpCAwM5OzZszndNZAZnNLT06lXrx4ajYYdO3YY1124cIGIiAj8/f0B8Pf358yZM8TExBi3CQ4OxsHBgapVqz7T8YUQxUuG3sDHv50xBp2P2lfms04yz1VhcebyBWaNX8i2yZcwjyyPSqXB8d5latycS9dxTag0bTEqK+meUNzl+MxORkYGoaGhVKpUKcvy0NBQ4+jJVlZWjxx48L8++eQTOnTogLe3N4mJiaxcuZJdu3axdetWHB0dGThwIKNGjcLZ2RkHBweGDRuGv78/jRs3BqBt27ZUrVqVvn37Mm3aNKKiovj8888ZOnToI8/cCCHEg9J0eob/fIJt/0z/MLV7DXo18DZ1WSIbjp47y56fD2MZ64OFqjyooETc33inbafOwE7YdFkjt5MLoxyHnb59+zJw4EA+/fRTGjRoAEBISAhTpkyhX79+AOzevZtq1ao9dV8xMTH069ePW7du4ejoSM2aNdm6dStt2rQBYNasWajVanr06JFlUMH7zMzM2LBhA0OGDMHf3x9bW1v69+/PxIkTc/qyhBDFTGKajneWHeXQ1czpH+b0rkP76jL9Q0G37/gxjqw+heW9slhSDlRQ6vZpvDN2Uuvdnth0+N3UJYoCKMdhZ9asWbi5uTFt2jRj/xg3NzdGjhzJRx99BGSecWnfvv1T97Vo0aInrreysmLu3LnMnTv3sdv4+PiwSXrVCyFyIDYxnYCgI5y7mYCdpTkL+tXHv4JM/1BQGQwGdh45zMlfL2CV5I0lZUEx4Bp7nLLKHqoP7Yd16z9MXaYowHIcdszMzPjss8/47LPPjL2g/3sHk7e3nAYWQhRMkXEp9F10mPA7KZS0tWDpAJn+oaAyGAxs3rOX0PXXsEopgxXeqAx63KKPUE5zgKoj38Wq2YemLlMUAs81gZTcpi2EKExCoxLot+gIMYnplClhzfKBjSgn0z8UOHq9nj937OLqxigs0z2wogxqgw73WwepYHMEv0/fx7LRZ6YuUxQiOQ470dHRjBkzhh07dhATE4OiKFnW3++kLIQQBcnRf6Z/SEjLwM/NnmUDG+Im0z8UKFqdjt+3BHNzWwIWOlcs8UCtT8fz5l58HU9RYcKHWNYdb+oyRSGU47ATEBBAREQEY8eOxcPDI1t3XQkhhCn9FRrNeyuOk6YzUM+nBIv7N8DRRsZaKSjS0tP5dcNWYnemY5FREgusMMtIpcyNnVRy+ZuyX32GRQ2Z3Fk8uxyHnX379rF3715q166dB+UIIUTu+v3EdcasOY3eoNDSz4Uf+tTD2sLM1GUJICklmdV/bCNhr4LG4IQFdmh0SZS5sQM/z6t4zxqPpnI9U5cpioAchx0vL6+HLl0JIURBtGhfGJM2nAegW53STOtZ85mnfxC5515iAqt/20bqYQ3miiMawCL9HmVubKdKuRuUnvslmgo1TF2mKEJyHHa+/fZbPv74Y3766SfKli2bByUJIcTzURSF6dsuMHdn5qjIA5uW47Ncmv5BPLuYu3f49ddgMo7bYaY4Yw5Ypd3B68Y2qlS6g8fCrzD3rvTU/QiRUzkOO7169SIlJYUKFSpgY2Pz0LwUcXFxuVacEELklN6g8Pm6M/x8JBKAD9r58V6LCtK/0IRuxESxds1fcMYJNa6YATYp0Xjd2ELVGmm4TvkKc89ypi5TFGHPdGZHCCEKojSdnhGrTrLlXBRqFUzuVoPXG8q4X6Zy9UYk69fsxiy0FGoyR6e2S7qO182tVKsHpaZ/hZmrl4mrFMVBjsNO//7986IOIYR4LolpOgYtO8bBq3ewMFMz5/XatK/uYeqyiqXQ8KtsXLMfyytuaPAEwCEhHO+bm6naxAbnOTMwc5apOUT+eaZBBa9cuUJQUBBXrlxh9uzZuLq6snnzZry9vbM1J5YQQuSm20mZ0z+cvZGArYUZC/rVp0nFUqYuq9g5fTGUbb8ewSrCAytKA+B07yLeUZup0twV53k/onaUaTlE/stx2Nm9ezcdOnTghRdeYM+ePUyePBlXV1dOnTrFokWL+PXXX/OiTiGEeKTIuBT6LT5C2O1kStpasOSthtQoI9M/5KeQs2fY9dsJrG95Yk0ZAJzvnMM7ditV2vrgtHAZajtpE2E6OQ47H3/8MV9++SWjRo3C3t7euLxVq1Z8//33uVqcEEI8yYWoRPotPkx0QjqlnaxZPrAh5V3sTF1WsbHnaAiH/vgb29gy2PwTclxiT+JzewuVOlfFKfAXVNYyHYcwvRyHnTNnzrBy5cqHlru6unL79u1cKUoIIZ7m2LU4Biw5Snyqjkpudiwb0Ah3R5n+Ia8ZDAb+OnSI439ewfZuaWwpA4oBt5hj+Nzdhm+3+ji+uw6VlY2pSxXCKMdhx8nJiVu3blGuXNbbBE+cOEHp0qVzrTAhhHicnRdiGPK/Y6TpDNT1dmJxQAOcbCxMXVaRZjAY2LR7D+c338A2wQNbSqMyZOAefZiy8dup0Ls5DgM3o9JIO4iCJ8dhp3fv3nz00UesWbMGlUqFwWBg//79jBkzhn79+uVFjUIIYbTuxA3GrDlFhkGhhZ8L82T6hzyl1+tZF/wXV4NvY5Pshi0eqPVaPG8doGzKTsr1aYd9/x2ozJ/pfhch8kWOP51Tpkxh6NCheHl5odfrqVq1Knq9njfeeIPPP/88L2oUQggAgvaHMeHPzOkfXqntyTev1pLpH/KIVqdj7eZgrv+VhHVaKWxww0yfTukbeyiXthuft7pj12c3KrW8/6Lgy3HYsbCwYMGCBYwdO5azZ8+SlJREnTp18PX1zYv6hBACRVGYse0i3++8DMBbL5RlbKeqMv1DHkhNS2PNhm3E7tFipXXGGivMdSmUubGLcvr9eL/9Brav7pOQIwqVZz7v6O3tjbe3jEwqhMhbeoPC2D/OsvJwBABj2lZiaMuKMv1DLou5e4f1m3aTcFCFZYYjVoBGm4jX9R2UVx2hzJCB2Lw8TUKOKJSyFXZGjRqV7R3OnDnzmYsRQogHpWfoGfnLSTadiUKlgi9fqU6fRj6mLqvI0Ov1/HX4MCd2XcU6wgU1TlgClul38Y7YTnmrE3iOHIpNhzmmLlWI55KtsHPixIls7Uz+0hJC5Jak9AwGLTvKgSuZ0z9827s2HWvI9A+5IfzmdTZvOUjKSRVWWmds/5nSwS7pOqVv7KG83Tk8PhmJdet5Jq5UiNyRrbCzc+fOvK5DCCGM7iSlExAUwpkb8dhamDG/X31ekOkfnku6Lp3Nu/Zxcc9NbGI9UFESK8AsIxX36KN43N6Hl58K54mBWDVbaOpyhchVcq+gEKJAuX43hX6LjnD1djLOthYseasBNcs4mbqsQuvM5Qv8teUYynlbNAZ7bI1zVl3CI+oAPnYXcXm5PXZv/CpTOogiS8KOEKLAuBidSL9FR4hKSKO0kzXLBjakgkz/kGPxSYls2L6HW/visE4qjTmZM4xbaBNwjzpE6eRD+LxYDofJY9BUqGHiaoXIexJ2hBAFwvGIu7wVFEJ8qg5fVzuWDWyIh6O1qcsqNAwGA4dOn+LQltNowl1QY401pUExUOrOWdxvH6BC+URKjn4Lq5ZT5K4qUaxI2BFCmNyuCzEM+d9xUnV66ng7ESTTP2Rb9J3bbNy8m/jDWix0bljiBYB1aiwetw7gZXUG7y4tsHt9gVymEsWWhB0hhEn9cfIGo1dnTv/QvJIL896si42F/Gh6Er1ez/aDBzm/JRRNrBcqVQksALVei0vsSdyTD+LXyBmn8WPQlKtm6nKFMLln+oly6dIldu7cSUxMDAaDIcu6cePG5UphQoiib8n+MCZsOI+iwMu1PJn+ai0szOXyyuNcvR7Jtj92oj1rg5nijAXlQQV2iRG4xx6gYplbeA7vj1WLD+UylRAPyHHYWbBgAUOGDKFUqVK4u7tnGVtHpVJJ2BFCPJWiKMwMvsh3f2VO/xDQpCzjOsv0D4+Slp7Oph27iAyOxDylLKjKYAaYZ6TgGh2Cp+YkVTo1wO71Gaht7E1drhAFUo7DzpdffsnkyZP56KOP8qIeIUQRl6E38OnvZ1h99DoAo9pUYlgrmf7hv05fDGXfml0YIjxQqewx/+csjtPdi7gkHaB6HQtcPxuFebkJpi5ViAIvx2Hn7t27vPrqq3lRixCiiEvV6glceZwdoTGoVTClWw16N5Q59u6LT0pk4+8buXMwFbXBB6iESgUW6fdwvX2Isq7hVBryOlYvLpHLVELkQI7Dzquvvsq2bdsYPHhwXtQjhCii7iZrGbA0hBMR97A0V/P9G3VpU9XN1GWZnMFgYP+RI5xZG4JyrwKoXVEDKkWP852zuKqOUbudH05vjJXLVEI8o2yFnTlz/p0ErmLFiowdO5ZDhw5Ro0YNNBpNlm2HDx+euxUKIQq963dT6Lf4CFdjk3G01rA4oD71fJxNXZZJ3body9blv5H8tz2oPYBqoAbrlGhKJRykcrV0yn86EnOfkaYuVYhCL1thZ9asWVke29nZsXv3bnbv3p1luUqlkrAjhMji71sJ9F98hJjEdDwdrVg2sCEVXYvnGQpdRgY7Nm8kbGsEBp0fqCqBOvOW8ZJxx/EocZF6A7pi/eK3cplKiFyUrbATFhaW13UIIYqgg1fuMGjZURLTM/Bzs2fJgAbFclTkS5cvsnfJn6RH+2AwcwaqgQrsE69RQn+Uui098ew3ApW1ralLFaJIynGfnYkTJzJmzBhsbGyyLE9NTeWbb76RW8+FEABsOnOLEatOotUbaFjWmQX96uNoo3n6E4uI1PQ0bp46xaKNN9GrfEFVB8zAXJdMiYQQylWMo86nwzH3fsvUpQpR5OU47EyYMIHBgwc/FHZSUlKYMGGChB0hBMsOhvPF+nMoCrSv5s63vWtjpTEzdVn54vi+vzixJgRtchUM5k3hn6tRDvEXKGl7Fv83WlHipYmmLVKIYibHYUdRlEeOh3Hq1CmcnYt3h0MhijtFUZi+7QJzd14B4M3G3kx4uTpmRXywwLu3Ywj+YTH3wl3RWZQFGoA5WKTfxVEbQrUmdlQdMFIuUwlhItkOOyVKlEClUqFSqahUqVKWwKPX60lKSpLb0YUoxnR6A5+uPcOaY5mDBY5uU4nAIj5YoF6vZ80XX3E3ujYGs4ZgASqDHvukM7h6XkffyJc2b0566K5VIUT+ynbY+fbbb1EUhQEDBjBhwgQcHf+dPdfCwoKyZcvi7++fJ0UKIQq2FG0GQ1ccZ+eF2GIzWOClkH3s/uEM6Zb+YAZWqVE4WJyiQbe6lO04Cp1Ox6ZNm0xdphCCHISd/v37A1CuXDmaNGkif6kIIQCIS9YyYEkIJyPvYaVR8/3rdWldhAcLNBgM/D5hCrE36qC39Mucadx8J12//wSN/RumLk8I8Qg57rPTvHlz4//T0tLQarVZ1js4ODx/VUKIQiEyLoX+QZmDBTrZaFjUvwH1fEqYuqw8E3biIH/NOUaaZRMwB+uUqzToYk6NV782dWlCiCfIcdhJSUnhww8/ZPXq1dy5c+eh9Xq9PlcKE0IUbOdvJhAQlDlYYGkna5YOaFBkBws0GAysnzSZqMja6C2rojLoKGm2m25zP8LC3vHpOxBCmFSOh+j84IMP+Ouvv5g3bx6WlpYsXLiQCRMm4OnpybJly/KiRiFEAXPgym16/XSQmMR0/Nzs+W1IkyIbdCJPh7B0wGxu3HoBvbktVqkR+Le6Tq95UyToCFFI5PjMzp9//smyZcto0aIFb731Fs2aNaNixYr4+PiwYsUK+vTpkxd1CiEKiI2nbzHyl38GCyz3z2CB1kWzD9+GSZO4EV6TDKtaqAx6nNR76D5nJFaOMsyGEIVJjsNOXFwc5cuXBzL758TFxQHQtGlThgwZkrvVCSEKlCX7w5iw4TyKAh2quzOrV9EcLDAq9CRbvgom2eoF0IBl2g1qtk6j4ZuTTF2aEOIZ5DjslC9fnrCwMLy9valcuTKrV6+mYcOG/Pnnnzg5OeVBiUIIU1MUhW+2XuCHXZmDBfZt7MP4l6sVycECt06dxLVL1dBZ1QPFgCP76D5rKDYlXExdmhDiGeU47Lz11lucOnWK5s2b8/HHH9OlSxe+//57dDodM2fOzIsahRAmpNMb+Pi3M/x2PHOwwDFtKzG0ZdEbLDDm4mk2T9lEktULYAEWaVFUbZnIC/3Hm7o0IcRzynHYGTlypPH/rVu3JjQ0lGPHjlGxYkVq1qyZq8UJIUwrRZvBeyuOs+tCLGZqFVO71eC1Bl6mLivXbZ82mbC//dBaNQTFgD0HeeWbt3Fw8TB1aUKIXJDtsGMwGPjmm29Yv349Wq2Wl156iS+++AIfHx98fHzyskYhhAnEJWt5a0kIp/4ZLHDuG3V5qUrRGiww7spZNk5cR4J1E7AETXosfk3jaD5wrKlLE0LkomyHncmTJzN+/Hhat26NtbU1s2fPJiYmhsWLF+dlfUIIE4iMS6H/4iNcvZ05WODigAbU9S5agwXumj6Zy2crkm7dBABbwyFemdofJ/fSJq5MCJHbsh12li1bxg8//MC7774LwPbt2+nUqRMLFy5Erc7xcD1CiALq3M14AoJCiDUOFtiQiq52pi4r18SHhbJh/CruWTUFKzUabRzlG0fTetCnpi5NCJFHsh12IiIi6Nixo/Fx69atUalU3Lx5kzJlyuRJcUKI/HXg8m0GLT9GUnoGld3tWTqgIW4OVqYuK9fsmzWZ0JPlSbd+EQBrw1G6Tu5NSY+iPWmpEMVdtsNORkYGVlZZf+hpNBp0Ol2uFyWEyH8bTt9k1C+n0OoNNCrnzPwiNFhgUsQl/hy7lDirFmCtxlx3D+96N+nw3oemLk0IkQ+yHXYURSEgIABLS0vjsrS0NAYPHoytra1x2dq1a3O3QiFEngvaH8bEfwYL7FjDnZmvFZ3BAg/PmcrZo2VIs2kFgKX+BF2+6Iabd3cTVyaEyC/ZDjv9+/d/aNmbb76Zq8UIIfKXoih8veUCP+7OHCywn78PX3QpGoMFpty4yoZPF3DbshWKjRlmGYmUrnWNLsNGm7o0IUQ+y3bYCQoKyvWDT506lbVr1xIaGoq1tTVNmjTh66+/xs/Pz7hNWloao0ePZtWqVaSnp9OuXTt++OEH3Nz+vQU2IiKCIUOGsHPnTuzs7Ojfvz9Tp07F3DzHwwgJUWzo9AY++u00a4/fAOCDdn6816JCkRgs8Njcrzl9yI0U2zYAWOjP0PHzTpQu29XElQkhTMGkt1Ht3r2boUOHcujQIYKDg9HpdLRt25bk5GTjNiNHjuTPP/9kzZo17N69m5s3b9K9+7+nn/V6PZ06dUKr1XLgwAGWLl3KkiVLGDdunClekhCFQnJ6Bm8vPcra4zcwU6uY1rNmkRgVOfXGVdb0/4DDp2qTYuuNOiMZT7/TDPxpGKXLVjR1eUIIEzHpqY8tW7ZkebxkyRJcXV05duwYL774IvHx8SxatIiVK1fSqlXm9fagoCCqVKnCoUOHaNy4Mdu2beP8+fNs374dNzc3ateuzaRJk/joo48YP348FhYWpnhpQhRYd5LSGbAkhFPX47HSqPmhT11aVS78gwWe+nEaJ/aVJNmuAwAa/XnaffwSPhW7mLgyIYSpFagBcuLj4wFwdnYG4NixY+h0Olq3bm3cpnLlynh7e3Pw4EEADh48SI0aNbJc1mrXrh0JCQmcO3cuH6sXouCLuJNCzx8Pcup6PCVsNPz8TuNCH3S0URGs7T+KA8dqkmxXDrU+FdeKp3n7p/fwqVjF1OUJIQqAAtOpxWAwMGLECF544QWqV68OQFRUFBYWFg/Npu7m5kZUVJRxmweDzv3199c9Snp6Ounp6cbHCQkJAOh0OrmVPpvuv0/yfhUcT2uTczcTeHv5cW4naSntZMXifvUo72JbqNswdPEsju9xJMm+MwDm+ou0GNGY8pXaotfr0ev1JqtNvkcKFmmPgiW32iO7zy8wYWfo0KGcPXuWffv25fmxpk6dyoQJEx5avm3bNmxsbPL8+EVJcHCwqUsQ//GoNrkQr2LRBTXpehWeNgrvVkgiNGQ3oSaoLzeYJ94hbfNRYm26oLe3RK1Ph1KHcG1Yh9DL1wi9fM3UJRrJ90jBIu1RsDxve6SkpGRruwIRdgIDA9mwYQN79uzJMhqzu7s7Wq2We/fuZTm7Ex0djbu7u3GbI0eOZNlfdHS0cd2jfPLJJ4waNcr4OCEhAS8vL9q2bYuDg0NuvawiTafTERwcTJs2bdBoisbAc4Xd49pkw+lbLDhyFp1eoVG5Esx7ozb2VoW3zS4v/ZajO2xIcOwJgJn+Ck2H1sav2ucmriwr+R4pWKQ9Cpbcao/7V2aexqRhR1EUhg0bxu+//86uXbsoV65clvX16tVDo9GwY8cOevToAcCFCxeIiIjA398fAH9/fyZPnkxMTAyurq5AZlJ0cHCgatWqjzyupaVllsER79NoNPJNkEPynhU8D7bJ4n2ZgwUCdKrhwcxetbA0L5yDBepibrD1gylc13RE72iNyqDFoezfvP7RcMzMCu5rku+RgkXao2B53vbI7nNNGnaGDh3KypUr+eOPP7C3tzf2sXF0dMTa2hpHR0cGDhzIqFGjcHZ2xsHBgWHDhuHv70/jxo0BaNu2LVWrVqVv375MmzaNqKgoPv/8c4YOHfrIQCNEcWAwKHy9NZSfdl8FIKBJWcZ1roq6kA4WeGXJLA5uURPvlPlHj1ofzgtDa1Cz9kgTVyaEKAxMGnbmzZsHQIsWLbIsDwoKIiAgAIBZs2ahVqvp0aNHlkEF7zMzM2PDhg0MGTIEf39/bG1t6d+/PxMnTsyvlyFEgaLTG/ho7SnWnsgcLPDD9n4MaV44BwvU3b5J8JhJRJp1JMPJFpVBh43Xefp8MgyNDBoqhMgmk1/GehorKyvmzp3L3LlzH7uNj48PmzZtys3ShCiU0vXw7v9OsPfyHczUKr7qXoNX63uZuqxnEr58Ngc2ZHC3xKsAqPWRNHqnEnUbytkcIUTOyJ9GQhQRd5LS+e6cGZHJd7DWmPHDm3Vp6edq6rJyTB8XxfbR47im6oSuhD0oeqw9ztLns/ew1MilaSFEzknYEaIIiLiTQt9FIUQmqyhho2FxQAPqeJcwdVk5dn3l9+xbl8wd594AqPQ3qfeWD42ayNkcIcSzk7AjRCF39kY8AUEh3E5Kx9lSYdU7Dank4WTqsnLEcDeGnaM+4Sqd0Do7gWLAwu0sb346GGsrK1OXJ4Qo5CTsCFGI7bt0m3eXHyVZq6eyuz1vlL5LuVK2pi4rR26s+oF9v8Zxu1QfAFT6aGr2c6NpsxGmLUwIUWQUqLmxhBDZ98fJG7y15AjJWj1NKpRk5cD6OBaieW/1MZHsGhDA5i2u3C7VBBQDZiXP0m/2yzRt1srU5QkhihA5syNEIbRw71W+3Pg3AJ1qejDztVqoFYOJq8oew73bnJj0CZci/LhTsh8AKv1tqvQuQcuXhpu4OiFEUSRhR4hCRKc38OWG8yw9mDn304ODBep0BTvsGFISOTvlU/4OLc3tkr2gpBoUA2rnv3njswAc7exNXaIQooiSsCNEIRGbmM7QFcc5Eh4HwEftKzO4efkCP1igkp5G6IzPOXPMkdulXkYp9c/UDpahNHnnBepUb23aAoUQRZ6EHSEKgVOR9xj8v2Pcik/DztKcWb1q06aqm6nLeiIlI4MrcydyYi/EOrdBcflnDhvzi9QLqEvj+u+ZtkAhRLEhYUeIAm7N0Ug+W3cWbYaB8i62zO9bn4qudqYu67EUg4FrQdM5uvkesSVexFDqn17TqivUeKMSLzYbbNoChRDFjoQdIQqo//bPaV3FjZm9auFgVXBnbL6x+kcOrblKrGML9KXuj49zjUrdPGjT7h2T1iaEKL4k7AhRAP23f86I1r4Mb+VbYGctj9m0gn1LjxFr14qMkpUAUBmu49PJgQ5d+qNWyygXQgjTkbAjRAFTmPrnxO3ZwJ4fg4mxaoWuRGcAVPooPFupeLnXmxJyhBAFgoQdIQqQwtI/J/H4Tv6atZYY85ZoHboCoNLH4tI4hVf690VjLj9ahBAFh/xEEqIAKCz9c1JCj/PX14uJVl4kzbYbAOqMOJxq36H7uwEyK7kQokCSsCOEiRWG/jnpkRfZMWkOUWkvkGrTHQB1Rjz2la/TI/AdmaxTCFGgSdgRwoQKev8cXcwN/pr4FTfjG5Ji2x1sQK1PwtbnKt1GvY29TcG7xCaEEP8lYUcIEynI/XMy4u+we8IkImNqkWzXDWxBrU/ByuMCr4weSAnHl01dohBCZJuEHSHyWUHun6OkJrNn0jjCr/mRZP8y2IFKn46V81k6jemHm0tnU5cohBA5JmFHiHxUUPvnKDotB74ez5XzpUl06AT2oDLosLA7TfvRvShTuoNJ6xNCiOchYUeIfFIQ++coBgMh307iwlEnEhxagwOoDBlYWJ3mpRFdKFe+nUnrE0KI3CBhR4h8UND65ygGA6cWzODsbhXxDs3AAVAMWJidolngS1SuPsZktQkhRG6TsCNEHiqI/XPOr/yR4xvvEm/XABwyRzi24BSNBjakZsPRJqtLCCHyioQdIfJIQeufc+mP/3FkTTjxNo1Q7M0A0OjPUqdPZRq0GGmSmoQQIj9I2BEiDxSk/jnhO//kQNAx4q38Mdh5AqDJ+Jvq3UvTpONwk9QkhBD5ScKOELmsoPTPuXHkL3b/sJN4TRMMNi8CoNFeplJ7W1q8NjTf6xFCCFORsCNELiko/XNunzvK7u82cE/VBL1VSwA02nDKNTfwUt+3ZSZyIUSxI2FHiFzw3/45I1tXYlirivnaPyc+LJTEP/axXtWMDM1LAGi01ynTIIH2774nIUcIUWxJ2BHiOT3YP8f+n/45rfOxf07irWtsmfwjd1MaobPIHPxPkx6FW7WbdB45EjMzs3yrRQghCiIJO0I8hwf751RwsWV+v/pUcMmf/jmpd2+zaeJM7tyrh86yDViARnubkmUv0+XjMVhYWORLHUIIUdBJ2BHiGTyqf86sXrWwz4f+OdrkJDZN+orY6BpoLVuDJZhr71LC4zxmtf14+ZUP0GhMP8+WEEIUFBJ2hMghU/bP2fHtNMJPuJNm3Soz5OgScHQ+RefPhmFp+zKbNm3K8xqEEKKwkbAjRA6Yqn/O2Y1rCPnlBik29cEazDJScLA7SseJg3ByfQUAnU6X53UIIURhJGFHiGwyRf+c6NDTbJu+jkR1YxSbkqDosTMcoe0HL+Ph1zlPjy2EEEWFhB0hnsIU/XPSEu+xftwM7iY0IEPTFADrtHPU7elO7c6f5dlxhRCiKJKwI8QT5Hf/HMVgYNuMr4k85026VUvQgEXaLXzq3KLt+zITuRBCPAsJO0I8Rn73zznx+wpOrLtHqnUjsAJzXSLOzsd4eeZHWNrY5tlxhRCiqJOwI8QjrD4ayef51D/n5tmjBM/aSpJ5Q7D2QGXIwJ5DtPvsVVzLd82TYwohRHEiYUeIB+j0BiZtOM+yfOifk3ovjj/Gf8u9pIboNf4A2KSdpmGfclRrMy7XjyeEEMWVhB0h/pFf/XP0GRlsmTaNm5fKo7VsAeZgmRpJhYZ3aDl0VK4eSwghhIQdIQA4GXmPwcuPEZWQt/1zjvyyhDOb0kmzbvzPyMfxuLieoPOsj7Gwtsn14wkhhJCwI0S+9M+JOHmQv+bsJllTH6zVqPVa7NUH6Ti+L87e3XL1WEIIIbKSsCOKrfzon5N4J5o/x/9AfFojDBYNAbBNO06T/lWp1HJCrh1HCCHE40nYEcVSXvfP0WdksHHqV0SF+aGzaA5mYJUaRqUXkmg2SMbLEUKI/CRhRxQ7ed0/Z/+KhYRugzTrJmABGu1d3DxO0WncZ5hbWubacYQQQmSPhB1RrORl/5zLh/ew96cjpFjUBWtQ69NxNDtAp0kDcSzdI1eOIYQQIuck7IhiIU2nZ+KG86w8HAHkbv+cezE32TBhAYnaRhgs6gJgl3aEZu/Up/wLk557/0IIIZ6PhB1R5F2OSSRw5QlCoxJRqeD9l3wZ3sr3ufvnZOh0rP/yK2Ijq5Fh0QzMwDrlMlVb6mj81se5VL0QQojnJWFHFFmKorDm2HW++OMcqTo9pewsmNWrNs18XZ5737uDfuLSbgvSrV4AC7BIv42H9zk6fPYZZhYWuVC9EEKI3CJhRxRJSekZfP77GdadvAlA04qlmNmrFq72Vs+139D9Oziw6DSpFrXACswyUnGyOECnrwZj7/ZabpQuhBAil0nYEUXO2RvxDPv5BGG3kzFTqxjVphJDmld4rstWt29eY9OXy0jKaIhiUQsUAw7ph2n+XlO8G07OxeqFEELkNgk7oshQFIWlB8KZsikUrd6Ap6MVc16vQ/2yzs+8T61Wyx8TvybuVg0yNC+AGmySQ6nZzpx6b36Wi9ULIYTIKxJ2RJFwL0XLh7+eZtv5aCDzbqvpr9bEyebZ+89snz+XsIMOaC1fAA1YpkVTpnwobT4di5m5fOsIIURhIT+xRaF37Focw38+yY17qViYqfmkY2UCmpRFpXq2y1Zndm7iyLLLpFlWz5ysU5eMs9UBOs8cibXz67lcvRBCiLwmYUcUWgaDwrzdV5gZfBG9QaFsSRu+f6Mu1Us7PtP+oiMusXnKalIMDVEsq6My6HHQHeSl91vjUXtqLlcvhBAiv0jYEYVSbGI6o1afZO+l2wB0re3J5G41sLPM+Uc6LTWZdRNnci+2Fnpzf1CDbfIZ6nS2o1avcblduhBCiHwmYUcUOnsvxTLyl1PcTkrHWmPGhK7VeLVemRxftjIYDGz98XsiQ0qhs3wBzMEq9QY+fld56eOxqNTqPHoFQggh8pNJf5rv2bOHLl264OnpiUqlYt26dVnWK4rCuHHj8PDwwNramtatW3Pp0qUs28TFxdGnTx8cHBxwcnJi4MCBJCUl5eOrEPklQ2/gm62h9Ft8hNtJ6fi52bM+8AVeq++V46BzfOsfLB74I1dPV0dn6Y65NhEPzTb6fNuB1p9+IUFHCCGKEJP+RE9OTqZWrVrMnTv3keunTZvGnDlz+PHHHzl8+DC2tra0a9eOtLQ04zZ9+vTh3LlzBAcHs2HDBvbs2cOgQYPy6yWIfHLjXiq95x9i7s4rKAq83tCbPwJfwNfNPkf7uX75b4Le/YqDa21Jt6yMyqCjRPouuo3ypPt3X2FVolQevQIhhBCmYtLLWB06dKBDhw6PXKcoCt9++y2ff/45Xbt2BWDZsmW4ubmxbt06evfuzd9//82WLVsICQmhfv36AHz33Xd07NiR6dOn4+npmW+vReSdbeei+ODX08Sn6rC3NGdqjxp0rpmztk1NTub3CTOJj6uLwbwhAPZJJ6nfoxRVu03Mi7KFEEIUEAW2z05YWBhRUVG0bt3auMzR0ZFGjRpx8OBBevfuzcGDB3FycjIGHYDWrVujVqs5fPgw3bp1e+S+09PTSU9PNz5OSEgAQKfTodPp8ugVFS3336e8fL/SMwx8vfUiyw9lzlRes7QDs16ribezTbaPazAY2DZvLrdOe6KzyOyXY50SQbmqEbww8iNUanWRafP8aBORfdIeBYu0R8GSW+2R3ecX2LATFRUFgJubW5blbm5uxnVRUVG4urpmWW9ubo6zs7Nxm0eZOnUqEyZMeGj5tm3bsLGxed7Si5Xg4OA82W9MKiy9ZMb15My+OC09DHQuE8fZQ7s4m819JFw5R9oZZ7SWtcECNNp47M3/wqZTExKsarF5y5Y8qd3U8qpNxLOR9ihYpD0Kludtj5SUlGxtV2DDTl765JNPGDVqlPFxQkICXl5etG3bFgcHBxNWVnjodDqCg4Np06YNGo0mV/e9/tQtvl1/nmStnhI2Gr7uXp2Wftmfqfz6pXPs/HYrqaqGYKlGZdDhpNvLS2NewbnSzFyttSDJyzYROSftUbBIexQsudUe96/MPE2BDTvu7u4AREdH4+HhYVweHR1N7dq1jdvExMRkeV5GRgZxcXHG5z+KpaUllpaWDy3XaDTyTZBDufmepWgzGL/+HKuPXgegYTlnZveujYejdfaen5TA7+NnkxBfF4NZAwDsk47RqFdp/Lp8mSs1FgbyOS5YpD0KFmmPguV52yO7zy2wYadcuXK4u7uzY8cOY7hJSEjg8OHDDBkyBAB/f3/u3bvHsWPHqFevHgB//fUXBoOBRo0amap08QxCoxIIXHmCyzFJqFQwvJUvw1/yxSwbM5UbDAY2zv6WW2dKZ/bLMQPr5HB8a9+i6chP5DZyIYQo5kwadpKSkrh8+bLxcVhYGCdPnsTZ2Rlvb29GjBjBl19+ia+vL+XKlWPs2LF4enryyiuvAFClShXat2/PO++8w48//ohOpyMwMJDevXvLnViFhKIorDwSwcQ/z5OeYcDV3pJve9emSYXs3QJ+5M9fObX2zgP9cu7h7niYjtM/w9xOLkkKIYQwcdg5evQoLVu2ND6+34+mf//+LFmyhA8//JDk5GQGDRrEvXv3aNq0KVu2bMHKysr4nBUrVhAYGMhLL72EWq2mR48ezJkzJ99fi8i5hDQdn6w9w8bTtwBoXsmFGa/VopTdw5cY/ysi9DTbZ24hVVUXLJ1R67U46ffS7uNeOFfqntelCyGEKERMGnZatGiBoiiPXa9SqZg4cSITJz5+HBRnZ2dWrlyZF+WJPHQq8h7Dfj5BRFwK5moVH7b34+2m5VE/5bJVUmI86ybMITG+HgazzCEHHJKO0uh1Hyp1mpwfpQshhChkCmyfHVE0GQwKi/aF8fWWUDIMCmVKWPPd63Wo413iKc8zsGHWLKLOeRn75dgkh+FbN5oX3v9Y+uUIIYR4LAk7It/EJWsZvfokOy/EAtCxhjtTu9fE0frJvekPrfuFM3/Eo7WsAxZgkX4XtxJHpF+OEEKIbJGwI/LFoat3eH/VCaIT0rEwVzOuc1X6NPJ+4gSeYedPsPPb7aSq6oClC2q9lhKGvbT99HWcfXvkY/VCCCEKMwk7Ik/pDQrf/XWJOTsuYVCgvIst379el6qejz8jk3gvjj8mziUxsT4Gs8whBRySQvDvU56KHaRfjhBCiJyRsCPyTHRCGu+vOsGhq3EA9KxXholdq2Fj8eiPncFg4M8ZM4j6uxwZxn45V6lUP5Ymwz6SfjlCCCGeiYQdkSd2Xohh9OpTxCVrsbEwY3K36nSrU+ax2x/4fRXn1iehtaz3T7+cONxLhtBx5ljMbOzysXIhhBBFjYQdkau0GQamb7vA/D1XAajq4cD3b9ShvMujA8vV00fZ9d0uUs3qgqUran06zspe2o19E6fyPfOxciGEEEWVhB2RayLjUgj8+QSnIu8B0N/fh086VsFKY/bQtgl37/DHxB9ISqqPwawuAA7JR2jS15cKbafkZ9lCCCGKOAk7IldsOnOLj347TWJaBg5W5kzrWYv21R+ejNVgMLD+m+lEXyj/QL+cK/g1vEuTYR+boHIhhBBFnYQd8VzSdHrGbwhlxeEIAOp6OzHn9TqUKWHz0LZ716wgdFMaWsv6//TLuYNHqWN0mPm59MsRQgiRZyTsiGcWnQqv/nSY0OgkAIa0qMCoNpXQmGW9a+ryycPs/n4faeZ1wJJ/+uXsof0XATiWfdUUpQshhChGJOyIHFMUhd+O32D6aTO0hiRK2Vkw87XavFjJJct29+7Esn7iTySn1MdgXgcUAw4pIbwQUJXyL001UfVCCCGKGwk7IkeS0jMYu+4sv5+4AahoUt6Zb3vXwdXh35no9Xo9f0ybQezlCmRomvzTL+cyVRrH03joJ6YrXgghRLEkYUdk27mb8QSuPEHY7WTUKuhQRs+M/vWwsrQwbrN39TJCN2dk9svRgEXabTzdj9N+1jjMrB/uxyOEEELkNQk74qkURWHZwWtM3vg3Wr0BD0crZr5ag5hzBzFTZ85tdenEIfbM3W/sl2OWkUYJ1V46TBqAg9drJn4FQgghijMJO+KJouLT+Oz3M+wIjQGgdRVXvulZCzsLFZvOZfbL2Tx1MUmp9VGM/XKO0GxATcq2lH45QgghTE/CjngkRVFYFRLJlI1/k5iegcZMxScdqvDWC2VRqVSkpqRwe99B1q7XZ/bLUYNN8iWqNU2m4bufmrp8IYQQwkjCjnhIxJ0UPl57mgNX7gBQ28uJaT1rUsnNHoDdK5dwMVhBa9kWNGCZFktpj5O0nf0FZpZWT9q1EEIIke8k7AgjvUFhyYFwpm+9QKpOj5VGzZi2frz1QjnM1CouhOxj348hpGlq/dMvJxVn9V46fjkIuzK9TF2+EEII8UgSdgQAl2MS+fDX0xyPuAdA4/LOfNW9JmVL2XI35hbrv1xEcloDFE0tUAw4phzGvr6Kju9NQqPRmLZ4IYQQ4gkk7BRzOr2B+XuuMnv7JbR6A3aW5nzSsTKvN/AmI0PHmvFTiIusauyXY5t8gWovplM74EM2bdpk6vKFEEKIp5KwU4ydvRHPh7+e5vytBABa+rkwuVsNPJ2s2bZgHuEH7NBZNv6nX04MpT1P03b2OMwsrdDpdCauXgghhMgeCTvFUJpOz3d/XeLH3VfRGxScbDSM61yVbnVKc2rHRjatDCfdoipYgrkumZKafXScOhQbj96mLl0IIYTIMQk7xcyxa3f58NdTXIlNBqBjDXcmvFyd9KjLLBm8nBTqg0VVVAY9jun7aRnYAs8GX5u4aiGEEOLZSdgpJlK0GXyz9QJLDoSjKFDKzpIvX6lGUy8r/hj/NQnx9TCYNwLALukUdbvYU6PXeNMWLYQQQuQCCTvFwP7Lt/l47Wki41IB6FG3DJ919GPv97NZebEcOoumYA7WKRGUqxZJiw8+Q6VWm7hqIYQQIndI2CnCEtJ0TN30Nz8fiQTA09GKKd1rYH5iE2sDj5Ju1QAsQJN+F7cSIXSa/inmdg4mrloIIYTIXRJ2iqgdf0fz2e9niUpIA6BvYx96usRwbNpyUjV1wArU+nRKKPtoP7YPTuV7mLhiIYQQIm9I2Cli4pK1TPjzHP9v796joir7PYB/ZxiYAeUm5AAhBEWJUgpihpj1BgqFLBPt4qEi6dRS8Q2kpakZZnlBXWlZFOl7qrW6kb5hKiddEihGIQLihVC0FDEVERQHuQ4zz/mjnBOBviQwe9h+P2vNWrCfZ8/8fH5L5suezd5bD54DANzhYofFDw7Cuc+24Ef9/RDWf9yss7kIofH3wffh5RJXTERE1LcYdmRCCIH/PXIeS7b+jLrGNigVQPwYD/gVbsMvG0fCYB36x806KzD84Xbc/8JCqUsmIiIyC4YdGajRtWDxt2XYVX4BAHD34AH4b0MxrmytR636wT8uClgNzzuOYcKixbCysZG4YiIiIvNh2OnHhBDYXPIblmWVQ9fSDpVSgbluVVAfMOKiJuiPiwJehYtdAaJWzIXtoP+SumQiIiKzY9jpp85casKiLUfww4laAECYYx1Cfz2L5rrRaNUooTDq4dj+E8KTo6ENWClxtURERNJh2OlnjEaBz/adxqqdx9DUZoCLshGz6sugr3sAzSpPAMDAplKMftITwyYtlbhaIiIi6THs9CMnL17Fq98cRlHlZcDYjsSWQgy4GoRWm4cBK8C2qRJ+o2vx4D/nS10qERGRxWDY6QfaDUb8K/8U1mYfR1u7ETHN+zDsii9aNeHQ2wA2rZeg1R7EY++8BpXGVupyiYiILArDjoU7el6H+f8+jCNnryC4tRyRl63QqvkHWjWAsr0FztY/4rFlL8Lh9mlSl0pERGSRGHYsVGu7AWm7f8UHu3/BbW3VWFBXBaP1WLRqVIAwwr61EA/NCoX3GF4UkIiI6EYYdizQwTP1mP/vQzh97iIS6otgK0JhUN8BALBrKseIx2wR9PRr0hZJRETUTzDsWJDmNgPWZlfgf344iWeu7MUTLYFoU0fAAEDdfA5ewyoxYd4i3pGciIjob2DYsRD7TtZhwTeHcfeZPCy6okWrbSTa1IBK3wAXx/2IXj0PagcnqcskIiLqdxh2JNbQoseqncdQunc3Yusa0aYZh1bbPy4KKH5CxKIn4XrnZKnLJCIi6rcYdiS0p6IGqRl7EH36EG63Goc2WzUAYEBzCULihuKeR3hRQCIiop5i2JFAfVMb3txSCve8zYhpHwu9TRiMADTNv2LouGaEvjhP6hKJiIhkg2HHzHYcOY+f/vUehl25G62ax/64KGAt3LzL8diiRbwjORERUS9j2DGTmoYWpL+3AR7HBNzswtGqAazam+GkKUD0sgQMcH1S6hKJiIhkiWGnjwkhsGn799Bl/gRXm7FotbMChAH2+kI8kjQBnvctk7pEIiIiWWPY6UO/nP4NOcvfhzCOg0HzIADAtrkMQTG3YeTkxRJXR0REdGtg2Okjp46WYffqn9GunggoAXXzb/AOvIAJSTz5mIiIyJwYdvqIj38ArIy7oGqzgaPLAcSsWwgbWzupyyIiIrrlMOz0ofH/HAOnwW5w9ZoidSlERES3LIadPnRXcKjUJRAREd3yeEdJIiIikjWGHSIiIpI1hh0iIiKSNYYdIiIikjWGHSIiIpI12YSdtLQ03HHHHdBoNBgzZgz2798vdUlERERkAWQRdr7++mskJydjyZIlOHDgAEaMGIGIiAjU1NRIXRoRERFJTBZhZ+3atXjxxRcxY8YMDBs2DOnp6bCzs8PHH38sdWlEREQksX5/UcG2tjaUlJRg4cKFpm1KpRLh4eEoKCjocp/W1la0traavtfpdAAAvV4PvV7ftwXLxLV14npZDvbEsrAfloX9sCy91Y/u7t/vw05tbS0MBgO0Wm2H7VqtFseOHetyn5UrV2Lp0qWdtu/atQt2drx/1d+RnZ0tdQn0F+yJZWE/LAv7YVl62o+mpqZuzev3YedmLFy4EMnJyabvdTodhgwZgokTJ8LBwUHCyvoPvV6P7OxsTJgwAdbW1lKXQ2BPLA37YVnYD8vSW/249snMf9Lvw46rqyusrKxw4cKFDtsvXLgANze3LvdRq9VQq9WdtltbW/M/wd/ENbM87IllYT8sC/thWXraj+7u2+9PULaxscGoUaOQk5Nj2mY0GpGTk4OQkBAJKyMiIiJL0O+P7ABAcnIy4uLiEBwcjPvvvx/vvPMOGhsbMWPGjG7tL4QA0P3DYfT7IcimpibodDr+lmQh2BPLwn5YFvbDsvRWP669b197H78eWYSdp556ChcvXkRKSgqqq6sxcuRI7Ny5s9NJy9fT0NAAABgyZEhflklERER9oKGhAY6OjtcdV4j/FIduAUajEefOnYO9vT0UCoXU5fQL107qPnPmDE/qthDsiWVhPywL+2FZeqsfQgg0NDTAw8MDSuX1z8yRxZGdnlIqlfD09JS6jH7JwcGBPzgsDHtiWdgPy8J+WJbe6MeNjuhc0+9PUCYiIiK6EYYdIiIikjWGHboparUaS5Ys6fJ6RSQN9sSysB+Whf2wLObuB09QJiIiIlnjkR0iIiKSNYYdIiIikjWGHSIiIpI1hh0iIiKSNYYduqGVK1di9OjRsLe3x+DBg/H444+joqKiw5yWlhYkJCTAxcUFAwcOxNSpUzvdhZ56X2pqKhQKBZKSkkzb2AvzO3v2LJ555hm4uLjA1tYW9957L4qLi03jQgikpKTA3d0dtra2CA8Px4kTJySsWL4MBgNef/11+Pj4wNbWFnfeeSfeeuutDvdNYj/6zt69exEdHQ0PDw8oFAp8++23Hca7s/aXLl1CbGwsHBwc4OTkhBdeeAFXr17tcW0MO3RDeXl5SEhIwL59+5CdnQ29Xo+JEyeisbHRNGfu3LnYvn07Nm/ejLy8PJw7dw4xMTESVi1/RUVF+Oijj3Dfffd12M5emNfly5cRGhoKa2tr7NixA+Xl5Xj77bfh7OxsmrN69WqsX78e6enpKCwsxIABAxAREYGWlhYJK5enVatW4cMPP8T777+Po0ePYtWqVVi9ejXee+890xz2o+80NjZixIgRSEtL63K8O2sfGxuLn3/+GdnZ2cjKysLevXvx0ksv9bw4QfQ31NTUCAAiLy9PCCFEfX29sLa2Fps3bzbNOXr0qAAgCgoKpCpT1hoaGoSfn5/Izs4WDz30kEhMTBRCsBdSePXVV8W4ceOuO240GoWbm5tYs2aNaVt9fb1Qq9Xiq6++MkeJt5SoqCgRHx/fYVtMTIyIjY0VQrAf5gRAbNmyxfR9d9a+vLxcABBFRUWmOTt27BAKhUKcPXu2R/XwyA79LVeuXAEADBo0CABQUlICvV6P8PBw05yhQ4fCy8sLBQUFktQodwkJCYiKiuqw5gB7IYVt27YhODgYTzzxBAYPHozAwEBs3LjRNH7q1ClUV1d36ImjoyPGjBnDnvSBsWPHIicnB8ePHwcAHDp0CPn5+Xj00UcBsB9S6s7aFxQUwMnJCcHBwaY54eHhUCqVKCws7NHr80ag1G1GoxFJSUkIDQ1FQEAAAKC6uho2NjZwcnLqMFer1aK6ulqCKuUtIyMDBw4cQFFRUacx9sL8Tp48iQ8//BDJyclYtGgRioqK8PLLL8PGxgZxcXGmdddqtR32Y0/6xoIFC6DT6TB06FBYWVnBYDBg+fLliI2NBQD2Q0LdWfvq6moMHjy4w7hKpcKgQYN63B+GHeq2hIQElJWVIT8/X+pSbklnzpxBYmIisrOzodFopC6H8PsvAMHBwVixYgUAIDAwEGVlZUhPT0dcXJzE1d16Nm3ahC+++AJffvklhg8fjoMHDyIpKQkeHh7sxy2OH2NRt8yZMwdZWVnYvXs3PD09Tdvd3NzQ1taG+vr6DvMvXLgANzc3M1cpbyUlJaipqUFQUBBUKhVUKhXy8vKwfv16qFQqaLVa9sLM3N3dMWzYsA7b/P39UVVVBQCmdf/rX8SxJ31j3rx5WLBgAZ5++mnce++9ePbZZzF37lysXLkSAPshpe6svZubG2pqajqMt7e349KlSz3uD8MO3ZAQAnPmzMGWLVuQm5sLHx+fDuOjRo2CtbU1cnJyTNsqKipQVVWFkJAQc5cra2FhYThy5AgOHjxoegQHByM2Ntb0NXthXqGhoZ0uxXD8+HF4e3sDAHx8fODm5tahJzqdDoWFhexJH2hqaoJS2fFtzcrKCkajEQD7IaXurH1ISAjq6+tRUlJimpObmwuj0YgxY8b0rIAend5Msjdr1izh6Ogo9uzZI86fP296NDU1mebMnDlTeHl5idzcXFFcXCxCQkJESEiIhFXfOv7811hCsBfmtn//fqFSqcTy5cvFiRMnxBdffCHs7OzE559/bpqTmpoqnJycxNatW8Xhw4fF5MmThY+Pj2hubpawcnmKi4sTt99+u8jKyhKnTp0SmZmZwtXVVcyfP980h/3oOw0NDaK0tFSUlpYKAGLt2rWitLRUnD59WgjRvbWPjIwUgYGBorCwUOTn5ws/Pz8xffr0HtfGsEM3BKDLxyeffGKa09zcLGbPni2cnZ2FnZ2dmDJlijh//rx0Rd9C/hp22Avz2759uwgICBBqtVoMHTpUbNiwocO40WgUr7/+utBqtUKtVouwsDBRUVEhUbXyptPpRGJiovDy8hIajUb4+vqK1157TbS2tprmsB99Z/fu3V2+X8TFxQkhurf2dXV1Yvr06WLgwIHCwcFBzJgxQzQ0NPS4NoUQf7q0JBEREZHM8JwdIiIikjWGHSIiIpI1hh0iIiKSNYYdIiIikjWGHSIiIpI1hh0iIiKSNYYdIiIikjWGHSKiP3n44YeRlJQkdRlE1IsYdojIbJ5//nkoFArMnDmz01hCQgIUCgWef/558xf2J5mZmXjrrbckrYGIehfDDhGZ1ZAhQ5CRkYHm5mbTtpaWFnz55Zfw8vKSsLLfDRo0CPb29lKXQUS9iGGHiMwqKCgIQ4YMQWZmpmlbZmYmvLy8EBgY2GHuzp07MW7cODg5OcHFxQWTJk3Cr7/+ahqvrKyEQqFARkYGxo4dC41Gg4CAAOTl5d2whg8++AB+fn7QaDTQarWYNm2aaezPH2Pt2bMHCoWi0+PPR5+2bt2KoKAgaDQa+Pr6YunSpWhvb+/BChFRb2PYISKzi4+PxyeffGL6/uOPP8aMGTM6zWtsbERycjKKi4uRk5MDpVKJKVOmwGg0dpg3b948vPLKKygtLUVISAiio6NRV1fX5WsXFxfj5ZdfxptvvomKigrs3LkT48eP73Lu2LFjcf78edMjNzcXGo3GNP+HH37Ac889h8TERJSXl+Ojjz7Cp59+iuXLl9/s0hBRX+jxrUSJiLopLi5OTJ48WdTU1Ai1Wi0qKytFZWWl0Gg04uLFi2Ly5MmmOyR35eLFiwKAOHLkiBBCiFOnTgkAIjU11TRHr9cLT09PsWrVqi6f45tvvhEODg5Cp9N1Of7XO8lfU1tbK3x9fcXs2bNN28LCwsSKFSs6zPvss8+Eu7v7df8NRGR+KqnDFhHdem677TZERUXh008/hRACUVFRcHV17TTvxIkTSElJQWFhIWpra01HdKqqqhAQEGCaFxISYvpapVIhODgYR48e7fK1J0yYAG9vb/j6+iIyMhKRkZGYMmUK7OzsrluvXq/H1KlT4e3tjXfffde0/dChQ/jxxx87HMkxGAxoaWlBU1PTDZ+TiMyHYYeIJBEfH485c+YAANLS0rqcEx0dDW9vb2zcuBEeHh4wGo0ICAhAW1vbTb+uvb09Dhw4gD179mDXrl1ISUnBG2+8gaKiIjg5OXW5z6xZs3DmzBns378fKtX//9i8evUqli5dipiYmE77aDSam66RiHoXz9khIklERkaira0Ner0eERERncbr6upQUVGBxYsXIywsDP7+/rh8+XKXz7Vv3z7T1+3t7SgpKYG/v/91X1ulUiE8PByrV6/G4cOHUVlZidzc3C7nrl27Fps2bcLWrVvh4uLSYSwoKAgVFRW46667Oj2USv54JbIUPLJDRJKwsrIyfdRkZWXVadzZ2RkuLi7YsGED3N3dUVVVhQULFnT5XGlpafDz84O/vz/WrVuHy5cvIz4+vsu5WVlZOHnyJMaPHw9nZ2d89913MBqNuOeeezrN/f777zF//nykpaXB1dUV1dXVAABbW1s4OjoiJSUFkyZNgpeXF6ZNmwalUolDhw6hrKwMy5Ytu9mlIaJexl89iEgyDg4OcHBw6HJMqVQiIyMDJSUlCAgIwNy5c7FmzZou56ampiI1NRUjRoxAfn4+tm3b1uU5QADg5OSEzMxMPPLII/D390d6ejq++uorDB8+vNPc/Px8GAwGzJw5E+7u7qZHYmIiACAiIgJZWVnYtWsXRo8ejQceeADr1q2Dt7f3Ta4IEfUFhRBCSF0EEdHNqKyshI+PD0pLSzFy5EipyyEiC8UjO0RERCRrDDtEREQka/wYi4iIiGSNR3aIiIhI1hh2iIiISNYYdoiIiEjWGHaIiIhI1hh2iIiISNYYdoiIiEjWGHaIiIhI1hh2iIiISNYYdoiIiEjW/g9eOdnyLB/8kwAAAABJRU5ErkJggg==)"
      ],
      "metadata": {
        "id": "ARXrEC78GVkL"
      }
    },
    {
      "cell_type": "markdown",
      "source": [
        "Από τα παραπάνω διαγράμματα παρατηρούμε οτι ο dijkstra  έχει εκθετική αύξηση και την χειρότερη επίδοση το όποίο είναι αναμενόμενο αφού εξερευνά όλα τα πιθανά μονπάτια.Επίσης παρατηρούμε οτι συνολικά ο βέλτιστος αλγόριθμος για το συγκεκριμένο πρόβλημα είναι ο A* αφού συνδυάζει καλύτερη επίδοση και εύρεση βέλτιστου μονοπατιού."
      ],
      "metadata": {
        "id": "qvFtMB8YKVNt"
      }
    },
    {
      "cell_type": "code",
      "source": [],
      "metadata": {
        "id": "XeZD8DHLFm7g"
      },
      "execution_count": null,
      "outputs": []
    },
    {
      "cell_type": "markdown",
      "metadata": {
        "id": "ohQLtf7cN9nk"
      },
      "source": [
        "## Μερος 4"
      ]
    },
    {
      "cell_type": "markdown",
      "metadata": {
        "id": "eVNusFgt6wW7"
      },
      "source": [
        "Πρώτα, σας δίνεται αυτούσιος ο κώδικας του φαντάσματος. Το φάντασμα μας κυνηγάει τρέχοντας Α* με στόχο τη θέση μας."
      ]
    },
    {
      "cell_type": "code",
      "execution_count": 14,
      "metadata": {
        "id": "X0xzy3gpOYAr"
      },
      "outputs": [],
      "source": [
        "class Agent:\n",
        "  def __init__(self,S,grid,color, name = \"\"):\n",
        "    self.agent_name = name\n",
        "    self.location = S\n",
        "    self.color=color\n",
        "    self.maze = grid\n",
        "    self.maze.agents.append(self)\n",
        "    self.maze.grid[S]=1\n",
        "    self.path=[]\n",
        "\n",
        "  def find_path(self,F):\n",
        "    c = lambda x,y: 1\n",
        "    h = euclidean\n",
        "    pf = pathfinder(self.location, F, self.maze, c, h, visualize=False)\n",
        "    self.path = pf.path\n",
        "\n",
        "\n",
        "  def move(self):\n",
        "    if len(self.path)<1:\n",
        "      return\n",
        "    if self.location==self.path[0] and len(self.path)>1:\n",
        "      self.location=self.path[1]\n",
        "      self.path = self.path[2:]\n",
        "    else:\n",
        "      self.location=self.path[0]\n",
        "      self.path=self.path[1:]\n",
        "\n",
        "  def move_to(self, loc):\n",
        "    self.location = loc"
      ]
    },
    {
      "cell_type": "markdown",
      "metadata": {
        "id": "WwwV4mcF6-i7"
      },
      "source": [
        "Στη συνέχεια, δίνεται ο κώδικας για τον agent που τρέχει να ξεφύγει. Ο ABagent τρέχει ΑΒ με σκοπό να φτάσει στον τερματισμό χωρίς να τον πιάσει το φάντασμα. Καλείστε να συμπληρώσετε τα σημεία που παραλείπονται. Δώστε ιδιαίτερη προσοχή στην ευριστική συνάρτηση. Εξηγείστε τις επιλογές σας, όπως περιγράφεται παραπάνω."
      ]
    },
    {
      "cell_type": "code",
      "execution_count": 32,
      "metadata": {
        "id": "BcdukaOPNXg1"
      },
      "outputs": [],
      "source": [
        "class ABagent:\n",
        "  def __init__(self, S, grid, color, name = \"\"):\n",
        "    self.agent_name = name\n",
        "    self.location = S\n",
        "    self.color=color\n",
        "    self.maze = grid\n",
        "    self.maze.agents.append(self)\n",
        "    self.maze.grid[S]=1\n",
        "    self.path=[]\n",
        "\n",
        "  def get_best_action(self, ghosts, depth = 3):\n",
        "      best_action = None\n",
        "      best_score = float(\"-inf\") #you can use this for debugging\n",
        "      alpha = float(\"-inf\")\n",
        "      beta = float(\"inf\")\n",
        "\n",
        "      best_score, best_action = self.alpha_beta_agent(self.maze, self.location, ghosts, depth, alpha, beta, True)\n",
        "\n",
        "      return best_action\n",
        "\n",
        "  def alpha_beta_agent(self, maze, agent_pos, ghost_positions, depth, alpha, beta, maximizing_player=True):\n",
        "      if depth == 0 or self.is_win(maze, agent_pos) or self.is_lose(agent_pos, ghost_positions):\n",
        "          # Return the heuristic value if we've reached the maximum depth or the game is over\n",
        "          return self.heuristic_AB(map, agent_pos, ghost_positions), agent_pos\n",
        "\n",
        "      if maximizing_player:\n",
        "          # Agent is the maximizing player\n",
        "          best_score = float(\"-inf\")\n",
        "          best_action = None\n",
        "          for successor_state in maze.adjacent_no_walls(agent_pos):\n",
        "              score, _ = self.alpha_beta_agent(maze, successor_state, ghost_positions, depth - 1, alpha, beta, False)\n",
        "              if score > best_score:\n",
        "                  best_score = score\n",
        "                  best_action = successor_state\n",
        "              alpha = max(alpha, score)\n",
        "              if beta <= alpha:\n",
        "                  break\n",
        "          return best_score, best_action\n",
        "      else:\n",
        "          # Ghosts are the minimizing players\n",
        "          ### YOUR CODE HERE \\/\n",
        "          best_score = float(\"inf\")\n",
        "          best_action = None\n",
        "          for successor_state in maze.adjacent_no_walls(ghost_positions):\n",
        "              score, _ = self.alpha_beta_agent(maze, agent_pos, successor_state, depth - 1, alpha, beta, False)\n",
        "              if score < best_score:\n",
        "                  best_score = score\n",
        "                  best_action = successor_state\n",
        "              beta = min(beta, score)\n",
        "              if beta >= alpha:\n",
        "                  break\n",
        "          return best_score, best_action\n",
        "          ### YOUR CODE HERE /\\\n",
        "\n",
        "\n",
        "  def is_win(self, maze, agent):\n",
        "      ### YOUR CODE HERE \\/\n",
        "      return agent.location == maze.F\n",
        "      ### YOUR CODE HERE /\\\n",
        "\n",
        "  def is_lose(self, agent, ghosts):\n",
        "      ### YOUR CODE HERE \\/\n",
        "      return agent == ghosts\n",
        "      ### YOUR CODE HERE /\\\n",
        "\n",
        "  def heuristic_AB(self, map, agent_pos, ghost_positions):\n",
        "      ### YOUR CODE HERE \\/\n",
        "      if manhattan(agent_pos, ghost_positions) < 8: # ghost is close\n",
        "        if ghost_positions[0] > agent_pos[0]: ## Ghost on the right\n",
        "          if ghost_positions[1] > agent_pos[1]: ## Ghost top-right\n",
        "            temp_goal = (agent_pos[0]-ghost_positions[0],agent_pos[1]-ghost_positions[1]) ## Look for path bottom-left\n",
        "          else:  ## Ghost bottom-right\n",
        "            temp_goal = (agent_pos[0]-ghost_positions[0],ghost_positions[1]-agent_pos[1]) ## Look for path top-left\n",
        "        else: ## Ghost on the left\n",
        "          if ghost_positions[1] > agent_pos[1]: ## Ghost top-left\n",
        "            temp_goal = (agent_pos[0]-ghost_positions[0],agent_pos[1]-ghost_positions[1]) ## Look for path bottom-right\n",
        "          else:  ## Ghost bottom-left\n",
        "            temp_goal = (agent_pos[0]-ghost_positions[0],agent_pos[1]-ghost_positions[1]) ## Look for path top-right\n",
        "        return manhattan(agent_pos,temp_goal) + manhattan(agent_pos,map.F)\n",
        "      else:\n",
        "        return manhattan(agent_pos,map.F) + manhattan(agent_pos,ghost_positions)\n",
        "      ### YOUR CODE HERE /\\\n",
        "\n",
        "  def move_to(self, loc):\n",
        "    self.location = loc"
      ]
    },
    {
      "cell_type": "markdown",
      "metadata": {
        "id": "ZcvY0Qt48F_A"
      },
      "source": [
        "Φτιάχνουμε αραιό χάρτη και ορίζουμε τους agents."
      ]
    },
    {
      "cell_type": "code",
      "execution_count": 16,
      "metadata": {
        "id": "QKsDcfnOO2wv",
        "colab": {
          "base_uri": "https://localhost:8080/",
          "height": 406
        },
        "outputId": "3e3c0d1c-44e6-4589-9dc4-c1bdddee33c5"
      },
      "outputs": [
        {
          "output_type": "display_data",
          "data": {
            "text/plain": [
              "<Figure size 640x480 with 1 Axes>"
            ],
            "image/png": "[encoded data removed]"
          },
          "metadata": {}
        }
      ],
      "source": [
        "#create a sparse map with many paths, like the one below\n",
        "map = Maze(33, (1,1), (31,31), threshold=0.3)\n",
        "map.draw_map()"
      ]
    },
    {
      "cell_type": "code",
      "execution_count": 17,
      "metadata": {
        "id": "-UwdSvWaO2ww",
        "colab": {
          "base_uri": "https://localhost:8080/",
          "height": 406
        },
        "outputId": "1a8601c0-c521-45c5-a181-10d74232c818"
      },
      "outputs": [
        {
          "output_type": "display_data",
          "data": {
            "text/plain": [
              "<Figure size 640x480 with 1 Axes>"
            ],
            "image/png": "[encoded data removed]"
          },
          "metadata": {}
        }
      ],
      "source": [
        "x, y = np.random.choice(range(1, 31)), np.random.choice(range(1, 31))\n",
        "ghost = (Agent((x, y), map, [255,30,10], \"ghost\"))\n",
        "\n",
        "a1 = ABagent((2,1), map,[30,10,255], \"agentAB\")\n",
        "\n",
        "map.draw_map()"
      ]
    },
    {
      "cell_type": "markdown",
      "metadata": {
        "id": "kLq7O7mU8MWK"
      },
      "source": [
        "Παρακάτω, υλοποιείται το κυνηγητό. Ενδεικτικά ορίζουμε την παράμετρο depth του ΑΒ ίση με 5.\n",
        "\n",
        "Προσοχή: όπως σημειώνεται, μπορούμε να κάνουμε τους παίκτες να τρέχουν με διαφορετικές ταχύτητες. Είναι προτιμητέο να κρατήσετε την ταχύτητα ίση (όπως παρακάτω). Διαφορετικά, θα χρειαστεί να τροποποιήσετε τον αλγόριθμο ΑΒ.\n",
        "\n",
        "Μετρείστε το χρόνο εκτέλεσης και παρουσιάστε παραδείγματα. Γιατί ο αλγόριθμος σας δουλεύει;"
      ]
    },
    {
      "cell_type": "code",
      "execution_count": 24,
      "metadata": {
        "id": "V2UHHj_7O2ww",
        "colab": {
          "base_uri": "https://localhost:8080/"
        },
        "outputId": "843e0f0b-e303-4b58-eed6-9bbb73495d5f"
      },
      "outputs": [
        {
          "output_type": "stream",
          "name": "stdout",
          "text": [
            "Lose\n"
          ]
        }
      ],
      "source": [
        "vis=visualization((1,1),(31,30))\n",
        "\n",
        "visited = [a1.location] #HINT: this might be helpful to you\n",
        "\n",
        "for i in range(100):\n",
        "  if a1.location==(31,31):\n",
        "    print(\"Win\")\n",
        "    break\n",
        "\n",
        "  if a1.location == ghost.location:\n",
        "    print(\"Lose\")\n",
        "    break\n",
        "\n",
        "  if i%1==0: #controls agent speed\n",
        "    best_move = a1.get_best_action(ghost.location, 5)\n",
        "    a1.move_to(best_move)\n",
        "    visited.append(a1.location)\n",
        "\n",
        "  if i%1==0: #controls ghost speed\n",
        "    ghost.find_path(a1.location)\n",
        "    ghost.move()\n",
        "\n",
        "  im = map.draw_map(return_image=True)\n",
        "  vis.images.append(im)"
      ]
    },
    {
      "cell_type": "code",
      "execution_count": 29,
      "metadata": {
        "id": "BwWXUxSFZKLc",
        "colab": {
          "base_uri": "https://localhost:8080/",
          "height": 573
        },
        "outputId": "4e4aefde-a333-4b20-e837-01233578372e"
      },
      "outputs": [
        {
          "output_type": "execute_result",
          "data": {
            "text/plain": [
              "<IPython.core.display.HTML object>"
            ],
            "text/html": [
              "\n",
              "<link rel=\"stylesheet\"\n",
              "href=\"https://maxcdn.bootstrapcdn.com/font-awesome/4.4.0/css/font-awesome.min.css\">\n",
              "<script language=\"javascript\">\n",
              "  function isInternetExplorer() {\n",
              "    ua = navigator.userAgent;\n",
              "    /* MSIE used to detect old browsers and Trident used to newer ones*/\n",
              "    return ua.indexOf(\"MSIE \") > -1 || ua.indexOf(\"Trident/\") > -1;\n",
              "  }\n",
              "\n",
              "  /* Define the Animation class */\n",
              "  function Animation(frames, img_id, slider_id, interval, loop_select_id){\n",
              "    this.img_id = img_id;\n",
              "    this.slider_id = slider_id;\n",
              "    this.loop_select_id = loop_select_id;\n",
              "    this.interval = interval;\n",
              "    this.current_frame = 0;\n",
              "    this.direction = 0;\n",
              "    this.timer = null;\n",
              "    this.frames = new Array(frames.length);\n",
              "\n",
              "    for (var i=0; i<frames.length; i++)\n",
              "    {\n",
              "     this.frames[i] = new Image();\n",
              "     this.frames[i].src = frames[i];\n",
              "    }\n",
              "    var slider = document.getElementById(this.slider_id);\n",
              "    slider.max = this.frames.length - 1;\n",
              "    if (isInternetExplorer()) {\n",
              "        // switch from oninput to onchange because IE <= 11 does not conform\n",
              "        // with W3C specification. It ignores oninput and onchange behaves\n",
              "        // like oninput. In contrast, Microsoft Edge behaves correctly.\n",
              "        slider.setAttribute('onchange', slider.getAttribute('oninput'));\n",
              "        slider.setAttribute('oninput', null);\n",
              "    }\n",
              "    this.set_frame(this.current_frame);\n",
              "  }\n",
              "\n",
              "  Animation.prototype.get_loop_state = function(){\n",
              "    var button_group = document[this.loop_select_id].state;\n",
              "    for (var i = 0; i < button_group.length; i++) {\n",
              "        var button = button_group[i];\n",
              "        if (button.checked) {\n",
              "            return button.value;\n",
              "        }\n",
              "    }\n",
              "    return undefined;\n",
              "  }\n",
              "\n",
              "  Animation.prototype.set_frame = function(frame){\n",
              "    this.current_frame = frame;\n",
              "    document.getElementById(this.img_id).src =\n",
              "            this.frames[this.current_frame].src;\n",
              "    document.getElementById(this.slider_id).value = this.current_frame;\n",
              "  }\n",
              "\n",
              "  Animation.prototype.next_frame = function()\n",
              "  {\n",
              "    this.set_frame(Math.min(this.frames.length - 1, this.current_frame + 1));\n",
              "  }\n",
              "\n",
              "  Animation.prototype.previous_frame = function()\n",
              "  {\n",
              "    this.set_frame(Math.max(0, this.current_frame - 1));\n",
              "  }\n",
              "\n",
              "  Animation.prototype.first_frame = function()\n",
              "  {\n",
              "    this.set_frame(0);\n",
              "  }\n",
              "\n",
              "  Animation.prototype.last_frame = function()\n",
              "  {\n",
              "    this.set_frame(this.frames.length - 1);\n",
              "  }\n",
              "\n",
              "  Animation.prototype.slower = function()\n",
              "  {\n",
              "    this.interval /= 0.7;\n",
              "    if(this.direction > 0){this.play_animation();}\n",
              "    else if(this.direction < 0){this.reverse_animation();}\n",
              "  }\n",
              "\n",
              "  Animation.prototype.faster = function()\n",
              "  {\n",
              "    this.interval *= 0.7;\n",
              "    if(this.direction > 0){this.play_animation();}\n",
              "    else if(this.direction < 0){this.reverse_animation();}\n",
              "  }\n",
              "\n",
              "  Animation.prototype.anim_step_forward = function()\n",
              "  {\n",
              "    this.current_frame += 1;\n",
              "    if(this.current_frame < this.frames.length){\n",
              "      this.set_frame(this.current_frame);\n",
              "    }else{\n",
              "      var loop_state = this.get_loop_state();\n",
              "      if(loop_state == \"loop\"){\n",
              "        this.first_frame();\n",
              "      }else if(loop_state == \"reflect\"){\n",
              "        this.last_frame();\n",
              "        this.reverse_animation();\n",
              "      }else{\n",
              "        this.pause_animation();\n",
              "        this.last_frame();\n",
              "      }\n",
              "    }\n",
              "  }\n",
              "\n",
              "  Animation.prototype.anim_step_reverse = function()\n",
              "  {\n",
              "    this.current_frame -= 1;\n",
              "    if(this.current_frame >= 0){\n",
              "      this.set_frame(this.current_frame);\n",
              "    }else{\n",
              "      var loop_state = this.get_loop_state();\n",
              "      if(loop_state == \"loop\"){\n",
              "        this.last_frame();\n",
              "      }else if(loop_state == \"reflect\"){\n",
              "        this.first_frame();\n",
              "        this.play_animation();\n",
              "      }else{\n",
              "        this.pause_animation();\n",
              "        this.first_frame();\n",
              "      }\n",
              "    }\n",
              "  }\n",
              "\n",
              "  Animation.prototype.pause_animation = function()\n",
              "  {\n",
              "    this.direction = 0;\n",
              "    if (this.timer){\n",
              "      clearInterval(this.timer);\n",
              "      this.timer = null;\n",
              "    }\n",
              "  }\n",
              "\n",
              "  Animation.prototype.play_animation = function()\n",
              "  {\n",
              "    this.pause_animation();\n",
              "    this.direction = 1;\n",
              "    var t = this;\n",
              "    if (!this.timer) this.timer = setInterval(function() {\n",
              "        t.anim_step_forward();\n",
              "    }, this.interval);\n",
              "  }\n",
              "\n",
              "  Animation.prototype.reverse_animation = function()\n",
              "  {\n",
              "    this.pause_animation();\n",
              "    this.direction = -1;\n",
              "    var t = this;\n",
              "    if (!this.timer) this.timer = setInterval(function() {\n",
              "        t.anim_step_reverse();\n",
              "    }, this.interval);\n",
              "  }\n",
              "</script>\n",
              "\n",
              "<style>\n",
              ".animation {\n",
              "    display: inline-block;\n",
              "    text-align: center;\n",
              "}\n",
              "input[type=range].anim-slider {\n",
              "    width: 374px;\n",
              "    margin-left: auto;\n",
              "    margin-right: auto;\n",
              "}\n",
              ".anim-buttons {\n",
              "    margin: 8px 0px;\n",
              "}\n",
              ".anim-buttons button {\n",
              "    padding: 0;\n",
              "    width: 36px;\n",
              "}\n",
              ".anim-state label {\n",
              "    margin-right: 8px;\n",
              "}\n",
              ".anim-state input {\n",
              "    margin: 0;\n",
              "    vertical-align: middle;\n",
              "}\n",
              "</style>\n",
              "\n",
              "<div class=\"animation\">\n",
              "  <img id=\"_anim_img7c2ebe4ae63640ac840169a41a1fe5a3\">\n",
              "  <div class=\"anim-controls\">\n",
              "    <input id=\"_anim_slider7c2ebe4ae63640ac840169a41a1fe5a3\" type=\"range\" class=\"anim-slider\"\n",
              "           name=\"points\" min=\"0\" max=\"1\" step=\"1\" value=\"0\"\n",
              "           oninput=\"anim7c2ebe4ae63640ac840169a41a1fe5a3.set_frame(parseInt(this.value));\">\n",
              "    <div class=\"anim-buttons\">\n",
              "      <button title=\"Decrease speed\" aria-label=\"Decrease speed\" onclick=\"anim7c2ebe4ae63640ac840169a41a1fe5a3.slower()\">\n",
              "          <i class=\"fa fa-minus\"></i></button>\n",
              "      <button title=\"First frame\" aria-label=\"First frame\" onclick=\"anim7c2ebe4ae63640ac840169a41a1fe5a3.first_frame()\">\n",
              "        <i class=\"fa fa-fast-backward\"></i></button>\n",
              "      <button title=\"Previous frame\" aria-label=\"Previous frame\" onclick=\"anim7c2ebe4ae63640ac840169a41a1fe5a3.previous_frame()\">\n",
              "          <i class=\"fa fa-step-backward\"></i></button>\n",
              "      <button title=\"Play backwards\" aria-label=\"Play backwards\" onclick=\"anim7c2ebe4ae63640ac840169a41a1fe5a3.reverse_animation()\">\n",
              "          <i class=\"fa fa-play fa-flip-horizontal\"></i></button>\n",
              "      <button title=\"Pause\" aria-label=\"Pause\" onclick=\"anim7c2ebe4ae63640ac840169a41a1fe5a3.pause_animation()\">\n",
              "          <i class=\"fa fa-pause\"></i></button>\n",
              "      <button title=\"Play\" aria-label=\"Play\" onclick=\"anim7c2ebe4ae63640ac840169a41a1fe5a3.play_animation()\">\n",
              "          <i class=\"fa fa-play\"></i></button>\n",
              "      <button title=\"Next frame\" aria-label=\"Next frame\" onclick=\"anim7c2ebe4ae63640ac840169a41a1fe5a3.next_frame()\">\n",
              "          <i class=\"fa fa-step-forward\"></i></button>\n",
              "      <button title=\"Last frame\" aria-label=\"Last frame\" onclick=\"anim7c2ebe4ae63640ac840169a41a1fe5a3.last_frame()\">\n",
              "          <i class=\"fa fa-fast-forward\"></i></button>\n",
              "      <button title=\"Increase speed\" aria-label=\"Increase speed\" onclick=\"anim7c2ebe4ae63640ac840169a41a1fe5a3.faster()\">\n",
              "          <i class=\"fa fa-plus\"></i></button>\n",
              "    </div>\n",
              "    <form title=\"Repetition mode\" aria-label=\"Repetition mode\" action=\"#n\" name=\"_anim_loop_select7c2ebe4ae63640ac840169a41a1fe5a3\"\n",
              "          class=\"anim-state\">\n",
              "      <input type=\"radio\" name=\"state\" value=\"once\" id=\"_anim_radio1_7c2ebe4ae63640ac840169a41a1fe5a3\"\n",
              "             >\n",
              "      <label for=\"_anim_radio1_7c2ebe4ae63640ac840169a41a1fe5a3\">Once</label>\n",
              "      <input type=\"radio\" name=\"state\" value=\"loop\" id=\"_anim_radio2_7c2ebe4ae63640ac840169a41a1fe5a3\"\n",
              "             checked>\n",
              "      <label for=\"_anim_radio2_7c2ebe4ae63640ac840169a41a1fe5a3\">Loop</label>\n",
              "      <input type=\"radio\" name=\"state\" value=\"reflect\" id=\"_anim_radio3_7c2ebe4ae63640ac840169a41a1fe5a3\"\n",
              "             >\n",
              "      <label for=\"_anim_radio3_7c2ebe4ae63640ac840169a41a1fe5a3\">Reflect</label>\n",
              "    </form>\n",
              "  </div>\n",
              "</div>\n",
              "\n",
              "\n",
              "<script language=\"javascript\">\n",
              "  /* Instantiate the Animation class. */\n",
              "  /* The IDs given should match those used in the template above. */\n",
              "  (function() {\n",
              "    var img_id = \"_anim_img7c2ebe4ae63640ac840169a41a1fe5a3\";\n",
              "    var slider_id = \"_anim_slider7c2ebe4ae63640ac840169a41a1fe5a3\";\n",
              "    var loop_select_id = \"_anim_loop_select7c2ebe4ae63640ac840169a41a1fe5a3\";\n",
              "    var frames = new Array(4);\n",
              "    \n",
              "  frames[0] = \"data:image/png;base64,iVBORw0KGgoAAAANSUhEUgAAAoAAAAHgCAYAAAA10dzkAAAAOXRFWHRTb2Z0d2FyZQBNYXRwbG90\\\n",
              "bGliIHZlcnNpb24zLjcuMSwgaHR0cHM6Ly9tYXRwbG90bGliLm9yZy/bCgiHAAAACXBIWXMAAA9h\\\n",
              "AAAPYQGoP6dpAAAMCElEQVR4nO3dMY7kyBFA0aZQ59AhxpOn4+oY68nTHaSLcA0JGGwDCxVrEMXM\\\n",
              "+u/ZjUSAZDU+0onjPM/zCwCAjL/cPQAAAO8lAAEAYgQgAECMAAQAiBGAAAAxAhAAIEYAAgDECEAA\\\n",
              "gBgBCAAQIwABAGIEIABAjAAEAIgRgAAAMQIQACBGAAIAxAhAAIAYAQgAECMAAQBiBCAAQIwABACI\\\n",
              "EYAAADECEAAgRgACAMQIQACAGAEIABAjAAEAYgQgAECMAAQAiBGAAAAxAhAAIEYAAgDECEAAgBgB\\\n",
              "CAAQIwABAGIEIABAjAAEAIgRgAAAMQIQACBGAAIAxAhAAIAYAQgAECMAAQBiBCAAQIwABACIEYAA\\\n",
              "ADECEAAgRgACAMQIQACAGAEIABAjAAEAYgQgAECMAAQAiBGAAAAxAhAAIEYAAgDECEAAgBgBCAAQ\\\n",
              "87h7APZ1HMfdIwDwC87zvHsEbuIGEAAgRgACAMQIQACAGAEIABAjAAEAYgQgAECMAAQAiBGAAAAx\\\n",
              "AhAAIMYmEF737+f/9Mc///703/7rb79dHgUAeJ4bQACAGAEIABAjAAEAYgQgAECMAAQAiBGAAAAx\\\n",
              "AhAAIEYAAgDECEAAgBgBCAAQc5zned49BHs6/nPcPQIAv+D8qwSocgMIABAjAAEAYgQgAECMAAQA\\\n",
              "iBGAAAAxAhAAIEYAAgDECEAAgBgBCAAQIwABAGIEIABAjF3AvOw4nt8F7DNbj/cHn8lvm2e4AQQA\\\n",
              "iBGAAAAxAhAAIEYAAgDECEAAgBgBCAAQIwABAGIEIABAjAAEAIgRgAAAMY+7B4Dvrqwx+vq6tspo\\\n",
              "akXS5OqlHdc67facP/2bm7Tjs/j0meEZbgABAGIEIABAjAAEAIgRgAAAMQIQACBGAAIAxAhAAIAY\\\n",
              "AQgAECMAAQBiBCAAQMxx2i/Di6xI4t12XIsH7+Z3wjPcAAIAxAhAAIAYAQgAECMAAQBiBCAAQIwA\\\n",
              "BACIEYAAADECEAAgRgACAMQIQACAmMfdA8A7rbC+7urqJTPPm1w/6P29du6OrLxkJ24AAQBiBCAA\\\n",
              "QIwABACIEYAAADECEAAgRgACAMQIQACAGAEIABAjAAEAYgQgAEDMcdovw4t2W/fFH+24Sgz4//z+\\\n",
              "eIYbQACAGAEIABAjAAEAYgQgAECMAAQAiBGAAAAxAhAAIEYAAgDECEAAgBgBCAAQIwABAGIedw8A\\\n",
              "313ZY/n1dW2X5dSOzE/fq3v1nUxZ4f1Nnr3CuVfPnuL9vX42PMMNIABAjAAEAIgRgAAAMQIQACBG\\\n",
              "AAIAxAhAAIAYAQgAECMAAQBiBCAAQIwABACIOU77ZXiRFUkA61lhfSTrcwMIABAjAAEAYgQgAECM\\\n",
              "AAQAiBGAAAAxAhAAIEYAAgDECEAAgBgBCAAQIwABAGIedw8A77TC+rqrq5fM/Nq5k1Z4zp7Fa+dO\\\n",
              "nr3KzPAMN4AAADECEAAgRgACAMQIQACAGAEIABAjAAEAYgQgAECMAAQAiBGAAAAxAhAAIOY47Zfh\\\n",
              "RZOrxOCdrOV6D/8zftpxfR2fxQ0gAECMAAQAiBGAAAAxAhAAIEYAAgDECEAAgBgBCAAQIwABAGIE\\\n",
              "IABAjAAEAIgRgAAAMY+7B4Dvru7InDK1e3PSKvtCp87eccfpjs9ihec8+Zta5TnDndwAAgDECEAA\\\n",
              "gBgBCAAQIwABAGIEIABAjAAEAIgRgAAAMQIQACBGAAIAxAhAAIAYq+BYzuQ6pan1UlZA/dHU89jt\\\n",
              "3MmzzfzTKqsYr/A/g7u5AQQAiBGAAAAxAhAAIEYAAgDECEAAgBgBCAAQIwABAGIEIABAjAAEAIgR\\\n",
              "gAAAMVbBsZyra51WWKl0Zear8+645mrqeaxw7uTZK5w7efbkzCuY/K3u+DxYmxtAAIAYAQgAECMA\\\n",
              "AQBiBCAAQIwABACIEYAAADECEAAgRgACAMQIQACAGAEIABBznPbL8KId1zpZcQWsYMf1g3wWN4AA\\\n",
              "ADECEAAgRgACAMQIQACAGAEIABAjAAEAYgQgAECMAAQAiBGAAAAxAhAAIOZx9wDw3eSKpB3tuL7u\\\n",
              "6jucMPUsJs+enHnKjs9ihZnhbm4AAQBiBCAAQIwABACIEYAAADECEAAgRgACAMQIQACAGAEIABAj\\\n",
              "AAEAYgQgAECMAAQAiDlOywt5kR2ZAOvxv5lnuAEEAIgRgAAAMQIQACBGAAIAxAhAAIAYAQgAECMA\\\n",
              "AQBiBCAAQIwABACIEYAAADGPuweA766sMfr6urbKaGpF0uTqpRVmnrTCc/bNveds39xr5149G57h\\\n",
              "BhAAIEYAAgDECEAAgBgBCAAQIwABAGIEIABAjAAEAIgRgAAAMQIQACBGAAIAxByn/TK8yIokPoVv\\\n",
              "jk8yuSaQz+EGEAAgRgACAMQIQACAGAEIABAjAAEAYgQgAECMAAQAiBGAAAAxAhAAIEYAAgDEPO4e\\\n",
              "AN7p6sqvCVdXL62wcq8w85Qdn8Vuv5PJVX4rPIuvr3W+Zz6HG0AAgBgBCAAQIwABAGIEIABAjAAE\\\n",
              "AIgRgAAAMQIQACBGAAIAxAhAAIAYAQgAEHOc9svwoh3XcgH38T/jp1XW1336c+bPuQEEAIgRgAAA\\\n",
              "MQIQACBGAAIAxAhAAIAYAQgAECMAAQBiBCAAQIwABACIEYAAADECEAAg5nH3APDdjjsyJ3dvmnmt\\\n",
              "cyfPXuHc6bMnrPL+YCduAAEAYgQgAECMAAQAiBGAAAAxAhAAIEYAAgDECEAAgBgBCAAQIwABAGIE\\\n",
              "IABAzHGusMeHLe22Lor38W3wTpOr4Hbk98cz3AACAMQIQACAGAEIABAjAAEAYgQgAECMAAQAiBGA\\\n",
              "AAAxAhAAIEYAAgDECEAAgJjH3QPAd5NrnaZWJE2uXrr6PD7ZCu9v+uwJk9/cKr+TK6beySrfHDzD\\\n",
              "DSAAQIwABACIEYAAADECEAAgRgACAMQIQACAGAEIABAjAAEAYgQgAECMAAQAiLEKjuXsuPJocuap\\\n",
              "s1dZy3XF1Bw7vr9Juz3nHdfGwd3cAAIAxAhAAIAYAQgAECMAAQBiBCAAQIwABACIEYAAADECEAAg\\\n",
              "RgACAMQIQACAGKvgWM6Oq5cm16rtuLJthXd45VmsMO/X19zMq3xzK5x79Wz4VG4AAQBiBCAAQIwA\\\n",
              "BACIEYAAADECEAAgRgACAMQIQACAGAEIABAjAAEAYgQgAECMAAQAiLELmOXsuKdzcuaps1d5zivM\\\n",
              "scIMV/nm5s+FT+YGEAAgRgACAMQIQACAGAEIABAjAAEAYgQgAECMAAQAiBGAAAAxAhAAIEYAAgDE\\\n",
              "WAXHWxzHMXb2lTVQk3M86+raqisz7/YsrlrlWUydvcK5k2evcC7wX24AAQBiBCAAQIwABACIEYAA\\\n",
              "ADECEAAgRgACAMQIQACAGAEIABAjAAEAYgQgAEDMcV7dEQT/M7mKCrjPbr/tyVV+O9rt/XEPN4AA\\\n",
              "ADECEAAgRgACAMQIQACAGAEIABAjAAEAYgQgAECMAAQAiBGAAAAxAhAAIOZx9wDw3dW1TlOurEia\\\n",
              "XL00dbaZXzt38uzJmVew44qyVd7fKs+Dz+EGEAAgRgACAMQIQACAGAEIABAjAAEAYgQgAECMAAQA\\\n",
              "iBGAAAAxAhAAIEYAAgDECEAAgBi7gFnOjjsvJ2eeOtvM8+dOnu138h5TM//jx4+Rc+FZbgABAGIE\\\n",
              "IABAjAAEAIgRgAAAMQIQACBGAAIAxAhAAIAYAQgAECMAAQBiBCAAQMxx7ribhyUcx3H3CAD8AgnQ\\\n",
              "5QYQACBGAAIAxAhAAIAYAQgAECMAAQBiBCAAQIwABACIEYAAADECEAAgRgACAMQ87h6AfVkhBAB7\\\n",
              "cgMIABAjAAEAYgQgAECMAAQAiBGAAAAxAhAAIEYAAgDECEAAgBgBCAAQIwABAGIEIABAjAAEAIgR\\\n",
              "gAAAMQIQACBGAAIAxAhAAIAYAQgAECMAAQBiBCAAQIwABACIEYAAADECEAAgRgACAMQIQACAGAEI\\\n",
              "ABAjAAEAYgQgAECMAAQAiBGAAAAxAhAAIEYAAgDECEAAgBgBCAAQIwABAGIEIABAjAAEAIgRgAAA\\\n",
              "MQIQACBGAAIAxAhAAIAYAQgAECMAAQBiBCAAQIwABACIEYAAADECEAAgRgACAMQIQACAGAEIABAj\\\n",
              "AAEAYgQgAECMAAQAiPkdFOYKZeZ5PvsAAAAASUVORK5CYII=\\\n",
              "\"\n",
              "  frames[1] = \"data:image/png;base64,iVBORw0KGgoAAAANSUhEUgAAAoAAAAHgCAYAAAA10dzkAAAAOXRFWHRTb2Z0d2FyZQBNYXRwbG90\\\n",
              "bGliIHZlcnNpb24zLjcuMSwgaHR0cHM6Ly9tYXRwbG90bGliLm9yZy/bCgiHAAAACXBIWXMAAA9h\\\n",
              "AAAPYQGoP6dpAAAMHUlEQVR4nO3d0Y3ryBFAUdFQHs5hI3AWTnGzcAQOwpHQHzbwsAMYFrUosVv3\\\n",
              "nO9Bo0BSg4v+qeM8z/MBAEDGX+4eAACAzxKAAAAxAhAAIEYAAgDECEAAgBgBCAAQIwABAGIEIABA\\\n",
              "jAAEAIgRgAAAMQIQACBGAAIAxAhAAIAYAQgAECMAAQBiBCAAQIwABACIEYAAADECEAAgRgACAMQI\\\n",
              "QACAGAEIABAjAAEAYgQgAECMAAQAiBGAAAAxAhAAIEYAAgDECEAAgBgBCAAQIwABAGIEIABAjAAE\\\n",
              "AIgRgAAAMQIQACBGAAIAxAhAAIAYAQgAECMAAQBiBCAAQIwABACIEYAAADECEAAgRgACAMQIQACA\\\n",
              "GAEIABAjAAEAYgQgAECMAAQAiBGAAAAxAhAAIEYAAgDECEAAgBgBCAAQIwABAGIEIABAjAAEAIh5\\\n",
              "3j0A+zqO4+4RAPgTzvO8ewRu4gYQACBGAAIAxAhAAIAYAQgAECMAAQBiBCAAQIwABACIEYAAADEC\\\n",
              "EAAgxiYQPuK33//28t/+8+//mBsE4MvZ0sQr3AACAMQIQACAGAEIABAjAAEAYgQgAECMAAQAiBGA\\\n",
              "AAAxAhAAIEYAAgDECEAAgJjjPM/z7iHY06V1Q/+6cPBfr81x5RO+MvMK506evcrMU6aexeTZkzPv\\\n",
              "Zsdn8e3fHN/FDSAAQIwABACIEYAAADECEAAgRgACAMQIQACAGAEIABAjAAEAYgQgAECMAAQAiBGA\\\n",
              "AAAxdgHzNvsm9+b9wXfy2+YVbgABAGIEIABAjAAEAIgRgAAAMQIQACBGAAIAxAhAAIAYAQgAECMA\\\n",
              "AQBiBCAAQMzz7gHgpytrjB6Pa6uMplYkTa5e2nGt027P+du/uUk7Potvnxle4QYQACBGAAIAxAhA\\\n",
              "AIAYAQgAECMAAQBiBCAAQIwABACIEYAAADECEAAgRgACAMQcp/0yvMmKJD5tx7V48Gl+J7zCDSAA\\\n",
              "QIwABACIEYAAADECEAAgRgACAMQIQACAGAEIABAjAAEAYgQgAECMAAQAiHnePQB80grr666uXjLz\\\n",
              "vMn1g97fe+fuyMpLduIGEAAgRgACAMQIQACAGAEIABAjAAEAYgQgAECMAAQAiBGAAAAxAhAAIEYA\\\n",
              "AgDEHKf9Mrxpt3Vf/NGOq8SA/8/vj1e4AQQAiBGAAAAxAhAAIEYAAgDECEAAgBgBCAAQIwABAGIE\\\n",
              "IABAjAAEAIgRgAAAMQIQACDmefcA8NOVPZaPx7VdllM7Mr99r+7VdzJlhfc3efYK5149e4r39/7Z\\\n",
              "8Ao3gAAAMQIQACBGAAIAxAhAAIAYAQgAECMAAQBiBCAAQIwABACIEYAAADECEAAg5jjtl+FNViQB\\\n",
              "rGeF9ZGszw0gAECMAAQAiBGAAAAxAhAAIEYAAgDECEAAgBgBCAAQIwABAGIEIABAjAAEAIh53j0A\\\n",
              "fNIK6+uurl4y83vnTlrhOXsW7507efYqM8Mr3AACAMQIQACAGAEIABAjAAEAYgQgAECMAAQAiBGA\\\n",
              "AAAxAhAAIEYAAgDECEAAgJjjtF+GN02uEoNPspbrM/zP+GXH9XV8FzeAAAAxAhAAIEYAAgDECEAA\\\n",
              "gBgBCAAQIwABAGIEIABAjAAEAIgRgAAAMQIQACBGAAIAxDzvHgB+urojc8rU7s1Jq+wLnTp7xx2n\\\n",
              "Oz6LFZ7z5G9qlecMd3IDCAAQIwABAGIEIABAjAAEAIgRgAAAMQIQACBGAAIAxAhAAIAYAQgAECMA\\\n",
              "AQBirIJjOZPrlKbWS1kB9UdTz2O3cyfPNvMvq6xivML/DO7mBhAAIEYAAgDECEAAgBgBCAAQIwAB\\\n",
              "AGIEIABAjAAEAIgRgAAAMQIQACBGAAIAxFgFx3KurnVaYaXSlZmvzrvjmqup57HCuZNnr3Du5NmT\\\n",
              "M69g8re64/NgbW4AAQBiBCAAQIwABACIEYAAADECEAAgRgACAMQIQACAGAEIABAjAAEAYgQgAEDM\\\n",
              "cdovw5t2XOtkxRWwgh3XD/Jd3AACAMQIQACAGAEIABAjAAEAYgQgAECMAAQAiBGAAAAxAhAAIEYA\\\n",
              "AgDECEAAgJjn3QPAT5Mrkna04/q6q+9wwtSzmDx7cuYpOz6LFWaGu7kBBACIEYAAADECEAAgRgAC\\\n",
              "AMQIQACAGAEIABAjAAEAYgQgAECMAAQAiBGAAAAxAhAAIOY4LS/kTXZkAqzH/2Ze4QYQACBGAAIA\\\n",
              "xAhAAIAYAQgAECMAAQBiBCAAQIwABACIEYAAADECEAAgRgACAMQ87x4AfrqyxujxuLbKaGpF0uTq\\\n",
              "pRVmnrTCc/bNfeZs39x75149G17hBhAAIEYAAgDECEAAgBgBCAAQIwABAGIEIABAjAAEAIgRgAAA\\\n",
              "MQIQACBGAAIAxByn/TK8yYokvoVvjm8yuSaQ7+EGEAAgRgACAMQIQACAGAEIABAjAAEAYgQgAECM\\\n",
              "AAQAiBGAAAAxAhAAIEYAAgDEPO8eAD7p6sqvCVdXL62wcq8w85Qdn8Vuv5PJVX4rPIvHY53vme/h\\\n",
              "BhAAIEYAAgDECEAAgBgBCAAQIwABAGIEIABAjAAEAIgRgAAAMQIQACBGAAIAxByn/TK8ace1XMB9\\\n",
              "/M/4ZZX1dd/+nPnf3AACAMQIQACAGAEIABAjAAEAYgQgAECMAAQAiBGAAAAxAhAAIEYAAgDECEAA\\\n",
              "gBgBCAAQ87x7APhpxx2Zk7s3zbzWuZNnr3Du9NkTVnl/sBM3gAAAMQIQACBGAAIAxAhAAIAYAQgA\\\n",
              "ECMAAQBiBCAAQIwABACIEYAAADECEAAg5jhX2OPDlnZbF8Xn+Db4pMlVcDvy++MVbgABAGIEIABA\\\n",
              "jAAEAIgRgAAAMQIQACBGAAIAxAhAAIAYAQgAECMAAQBiBCAAQMzz7gHgp8m1TlMrkiZXL119Ht9s\\\n",
              "hfc3ffaEyW9uld/JFVPvZJVvDl7hBhAAIEYAAgDECEAAgBgBCAAQIwABAGIEIABAjAAEAIgRgAAA\\\n",
              "MQIQACBGAAIAxFgFx3J2XHk0OfPU2aus5bpiao4d39+k3Z7zjmvj4G5uAAEAYgQgAECMAAQAiBGA\\\n",
              "AAAxAhAAIEYAAgDECEAAgBgBCAAQIwABAGIEIABAjFVwLGfH1UuTa9V2XNm2wju88ixWmPfxmJt5\\\n",
              "lW9uhXOvng3fyg0gAECMAAQAiBGAAAAxAhAAIEYAAgDECEAAgBgBCAAQIwABAGIEIABAjAAEAIgR\\\n",
              "gAAAMXYBs5wd93ROzjx19irPeYU5VpjhKt/c/LnwzdwAAgDECEAAgBgBCAAQIwABAGIEIABAjAAE\\\n",
              "AIgRgAAAMQIQACBGAAIAxAhAAIAYq+D4iOM4xs6+sgZqco5XXV1bdWXm3Z7FVas8i6mzVzh38uwV\\\n",
              "zgX+ww0gAECMAAQAiBGAAAAxAhAAIEYAAgDECEAAgBgBCAAQIwABAGIEIABAjAAEAIg5zqs7guC/\\\n",
              "JldRAffZ7bc9ucpvR7u9P+7hBhAAIEYAAgDECEAAgBgBCAAQIwABAGIEIABAjAAEAIgRgAAAMQIQ\\\n",
              "ACBGAAIAxDzvHgB+urrWacqVFUmTq5emzjbze+dOnj058wp2XFG2yvtb5XnwPdwAAgDECEAAgBgB\\\n",
              "CAAQIwABAGIEIABAjAAEAIgRgAAAMQIQACBGAAIAxAhAAIAYAQgAEGMXMMvZcefl5MxTZ5t5/tzJ\\\n",
              "s/1OPmNq5t9/+23kXHiVG0AAgBgBCAAQIwABAGIEIABAjAAEAIgRgAAAMQIQACBGAAIAxAhAAIAY\\\n",
              "AQgAEHOcO+7mYQnHcdw9AgB/ggTocgMIABAjAAEAYgQgAECMAAQAiBGAAAAxAhAAIEYAAgDECEAA\\\n",
              "gBgBCAAQIwABAGKedw/AvqwQAoA9uQEEAIgRgAAAMQIQACBGAAIAxAhAAIAYAQgAECMAAQBiBCAA\\\n",
              "QIwABACIEYAAADECEAAgRgACAMQIQACAGAEIABAjAAEAYgQgAECMAAQAiBGAAAAxAhAAIEYAAgDE\\\n",
              "CEAAgBgBCAAQIwABAGIEIABAjAAEAIgRgAAAMQIQACBGAAIAxAhAAIAYAQgAECMAAQBiBCAAQIwA\\\n",
              "BACIEYAAADECEAAgRgACAMQIQACAGAEIABAjAAEAYgQgAECMAAQAiBGAAAAxAhAAIEYAAgDECEAA\\\n",
              "gBgBCAAQIwABAGIEIABAjAAEAIgRgAAAMQIQACBGAAIAxPwbr6ErhIiDHSUAAAAASUVORK5CYII=\\\n",
              "\"\n",
              "  frames[2] = \"data:image/png;base64,iVBORw0KGgoAAAANSUhEUgAAAoAAAAHgCAYAAAA10dzkAAAAOXRFWHRTb2Z0d2FyZQBNYXRwbG90\\\n",
              "bGliIHZlcnNpb24zLjcuMSwgaHR0cHM6Ly9tYXRwbG90bGliLm9yZy/bCgiHAAAACXBIWXMAAA9h\\\n",
              "AAAPYQGoP6dpAAAMEElEQVR4nO3d0Y3ryBFAUdFQRC8CZ+EUNwtH4JjoDxt42AEMi1qU2K17zveg\\\n",
              "USCpwUX/1HGe5/kAACDjb3cPAADAZwlAAIAYAQgAECMAAQBiBCAAQIwABACIEYAAADECEAAgRgAC\\\n",
              "AMQIQACAGAEIABAjAAEAYgQgAECMAAQAiBGAAAAxAhAAIEYAAgDECEAAgBgBCAAQIwABAGIEIABA\\\n",
              "jAAEAIgRgAAAMQIQACBGAAIAxAhAAIAYAQgAECMAAQBiBCAAQIwABACIEYAAADECEAAgRgACAMQI\\\n",
              "QACAGAEIABAjAAEAYgQgAECMAAQAiBGAAAAxAhAAIEYAAgDECEAAgBgBCAAQIwABAGIEIABAjAAE\\\n",
              "AIgRgAAAMQIQACBGAAIAxAhAAIAYAQgAECMAAQBiBCAAQIwABACIEYAAADECEAAgRgACAMQ87x6A\\\n",
              "fR3HcfcIAPwF53nePQI3cQMIABAjAAEAYgQgAECMAAQAiBGAAAAxAhAAIEYAAgDECEAAgBgBCAAQ\\\n",
              "YxMIH/Hrj7+//Lf/+sc/5wYB+HK2NPEKN4AAADECEAAgRgACAMQIQACAGAEIABAjAAEAYgQgAECM\\\n",
              "AAQAiBGAAAAxAhAAIOY4z/O8ewj2dGXd0JXP7Ooao6mzVzh38uxVZp7im9vbjs/i2785vosbQACA\\\n",
              "GAEIABAjAAEAYgQgAECMAAQAiBGAAAAxAhAAIEYAAgDECEAAgBgBCAAQIwABAGLsAuZt9k3uzfuD\\\n",
              "7+S3zSvcAAIAxAhAAIAYAQgAECMAAQBiBCAAQIwABACIEYAAADECEAAgRgACAMQIQACAmOfdA8BP\\\n",
              "V9YYPR7XVhlNrUiaXL2041qn3Z7zt39zk3Z8Ft8+M7zCDSAAQIwABACIEYAAADECEAAgRgACAMQI\\\n",
              "QACAGAEIABAjAAEAYgQgAECMAAQAiDlO+2V4kxVJfNqOa/Hg0/xOeIUbQACAGAEIABAjAAEAYgQg\\\n",
              "AECMAAQAiBGAAAAxAhAAIEYAAgDECEAAgBgBCAAQ87x7APikFdbXXV29ZOZ5k+sHvb/3zt2RlZfs\\\n",
              "xA0gAECMAAQAiBGAAAAxAhAAIEYAAgDECEAAgBgBCAAQIwABAGIEIABAjAAEAIg5TvtleNNu6774\\\n",
              "sx1XiQH/n98fr3ADCAAQIwABAGIEIABAjAAEAIgRgAAAMQIQACBGAAIAxAhAAIAYAQgAECMAAQBi\\\n",
              "BCAAQMzz7gHgpyt7LB+Pa7ssp3Zkfvte3avvZMoK72/y7BXOvXr2FO/v/bPhFW4AAQBiBCAAQIwA\\\n",
              "BACIEYAAADECEAAgRgACAMQIQACAGAEIABAjAAEAYgQgAEDMcdovw5usSAJYzwrrI1mfG0AAgBgB\\\n",
              "CAAQIwABAGIEIABAjAAEAIgRgAAAMQIQACBGAAIAxAhAAIAYAQgAEPO8ewD4pBXW111dvWTm986d\\\n",
              "tMJz9izeO3fy7FVmhle4AQQAiBGAAAAxAhAAIEYAAgDECEAAgBgBCAAQIwABAGIEIABAjAAEAIgR\\\n",
              "gAAAMcdpvwxvmlwlBp9kLddn+J/x247r6/gubgABAGIEIABAjAAEAIgRgAAAMQIQACBGAAIAxAhA\\\n",
              "AIAYAQgAECMAAQBiBCAAQIwABACIed49APx0dUfmlKndm5NW2Rc6dfaOO053fBYrPOfJ39Qqzxnu\\\n",
              "5AYQACBGAAIAxAhAAIAYAQgAECMAAQBiBCAAQIwABACIEYAAADECEAAgRgACAMRYBcdyJtcpTa2X\\\n",
              "sgLqz6aex27nTp5t5t9WWcV4hf8Z3M0NIABAjAAEAIgRgAAAMQIQACBGAAIAxAhAAIAYAQgAECMA\\\n",
              "AQBiBCAAQIwABACIsQqO5Vxd67TCSqUrM1+dd8c1V1PPY4VzJ89e4dzJsydnXsHkb3XH58Ha3AAC\\\n",
              "AMQIQACAGAEIABAjAAEAYgQgAECMAAQAiBGAAAAxAhAAIEYAAgDECEAAgJjjtF+GN+241smKK2AF\\\n",
              "O64f5Lu4AQQAiBGAAAAxAhAAIEYAAgDECEAAgBgBCAAQIwABAGIEIABAjAAEAIgRgAAAMc+7B4Cf\\\n",
              "Jlck7WjH9XVX3+GEqWcxefbkzFN2fBYrzAx3cwMIABAjAAEAYgQgAECMAAQAiBGAAAAxAhAAIEYA\\\n",
              "AgDECEAAgBgBCAAQIwABAGIEIABAzHFaXsib7MgEWI//zbzCDSAAQIwABACIEYAAADECEAAgRgAC\\\n",
              "AMQIQACAGAEIABAjAAEAYgQgAECMAAQAiHnePQD8dGWN0eNxbZXR1IqkydVLK8w8aYXn7Jv7zNm+\\\n",
              "uffOvXo2vMINIABAjAAEAIgRgAAAMQIQACBGAAIAxAhAAIAYAQgAECMAAQBiBCAAQIwABACIOU77\\\n",
              "ZXiTFUl8C98c32RyTSDfww0gAECMAAQAiBGAAAAxAhAAIEYAAgDECEAAgBgBCAAQIwABAGIEIABA\\\n",
              "jAAEAIh53j0AfNLVlV8Trq5eWmHlXmHmKTs+i91+J5Or/FZ4Fo/HOt8z38MNIABAjAAEAIgRgAAA\\\n",
              "MQIQACBGAAIAxAhAAIAYAQgAECMAAQBiBCAAQIwABACIOU77ZXjTjmu5gPv4n/HbKuvrvv0587+5\\\n",
              "AQQAiBGAAAAxAhAAIEYAAgDECEAAgBgBCAAQIwABAGIEIABAjAAEAIgRgAAAMQIQACDmefcA8NOO\\\n",
              "OzInd2+aea1zJ89e4dzpsyes8v5gJ24AAQBiBCAAQIwABACIEYAAADECEAAgRgACAMQIQACAGAEI\\\n",
              "ABAjAAEAYgQgAEDMca6wx4ct7bYuis/xbfBJk6vgduT3xyvcAAIAxAhAAIAYAQgAECMAAQBiBCAA\\\n",
              "QIwABACIEYAAADECEAAgRgACAMQIQACAmOfdA8BPk2udplYkTa5euvo8vtkK72/67AmT39wqv5Mr\\\n",
              "pt7JKt8cvMINIABAjAAEAIgRgAAAMQIQACBGAAIAxAhAAIAYAQgAECMAAQBiBCAAQIwABACIsQqO\\\n",
              "5ey48mhy5qmzV1nLdcXUHDu+v0m7Pecd18bB3dwAAgDECEAAgBgBCAAQIwABAGIEIABAjAAEAIgR\\\n",
              "gAAAMQIQACBGAAIAxAhAAIAYq+BYzo6rlybXqu24sm2Fd3jlWaww7+MxN/Mq39wK5149G76VG0AA\\\n",
              "gBgBCAAQIwABAGIEIABAjAAEAIgRgAAAMQIQACBGAAIAxAhAAIAYAQgAECMAAQBi7AJmOTvu6Zyc\\\n",
              "eersVZ7zCnOsMMNVvrn5c+GbuQEEAIgRgAAAMQIQACBGAAIAxAhAAIAYAQgAECMAAQBiBCAAQIwA\\\n",
              "BACIEYAAADFWwfERx3GMnX1lDdTkHK+6urbqysy7PYurVnkWU2evcO7k2SucC/yHG0AAgBgBCAAQ\\\n",
              "IwABAGIEIABAjAAEAIgRgAAAMQIQACBGAAIAxAhAAIAYAQgAEHOcV3cEwX9NrqIC7rPbb3tyld+O\\\n",
              "dnt/3MMNIABAjAAEAIgRgAAAMQIQACBGAAIAxAhAAIAYAQgAECMAAQBiBCAAQIwABACIed49APx0\\\n",
              "da3TlCsrkiZXL02dbeb3zp08e3LmFey4omyV97fK8+B7uAEEAIgRgAAAMQIQACBGAAIAxAhAAIAY\\\n",
              "AQgAECMAAQBiBCAAQIwABACIEYAAADECEAAgxi5glrPjzsvJmafONvP8uZNn+518xtTMf/z6NXIu\\\n",
              "vMoNIABAjAAEAIgRgAAAMQIQACBGAAIAxAhAAIAYAQgAECMAAQBiBCAAQIwABACIOc4dd/OwhOM4\\\n",
              "7h4BgL9AAnS5AQQAiBGAAAAxAhAAIEYAAgDECEAAgBgBCAAQIwABAGIEIABAjAAEAIgRgAAAMc+7\\\n",
              "B2BfVggBwJ7cAAIAxAhAAIAYAQgAECMAAQBiBCAAQIwABACIEYAAADECEAAgRgACAMQIQACAGAEI\\\n",
              "ABAjAAEAYgQgAECMAAQAiBGAAAAxAhAAIEYAAgDECEAAgBgBCAAQIwABAGIEIABAjAAEAIgRgAAA\\\n",
              "MQIQACBGAAIAxAhAAIAYAQgAECMAAQBiBCAAQIwABACIEYAAADECEAAgRgACAMQIQACAGAEIABAj\\\n",
              "AAEAYgQgAECMAAQAiBGAAAAxAhAAIEYAAgDECEAAgBgBCAAQIwABAGIEIABAjAAEAIgRgAAAMQIQ\\\n",
              "ACBGAAIAxAhAAIAYAQgAECMAAQBi/g3YXS2Es5ovfAAAAABJRU5ErkJggg==\\\n",
              "\"\n",
              "  frames[3] = \"data:image/png;base64,iVBORw0KGgoAAAANSUhEUgAAAoAAAAHgCAYAAAA10dzkAAAAOXRFWHRTb2Z0d2FyZQBNYXRwbG90\\\n",
              "bGliIHZlcnNpb24zLjcuMSwgaHR0cHM6Ly9tYXRwbG90bGliLm9yZy/bCgiHAAAACXBIWXMAAA9h\\\n",
              "AAAPYQGoP6dpAAAMGklEQVR4nO3d0Y3ryBFAUdFQRBuBs3A6G85m4QgcE/1hAw87gGFRixK7dc/5\\\n",
              "HjQKJDW46J86zvM8HwAAZPzt7gEAAPgsAQgAECMAAQBiBCAAQIwABACIEYAAADECEAAgRgACAMQI\\\n",
              "QACAGAEIABAjAAEAYgQgAECMAAQAiBGAAAAxAhAAIEYAAgDECEAAgBgBCAAQIwABAGIEIABAjAAE\\\n",
              "AIgRgAAAMQIQACBGAAIAxAhAAIAYAQgAECMAAQBiBCAAQIwABACIEYAAADECEAAgRgACAMQIQACA\\\n",
              "GAEIABAjAAEAYgQgAECMAAQAiBGAAAAxAhAAIEYAAgDECEAAgBgBCAAQIwABAGIEIABAjAAEAIgR\\\n",
              "gAAAMQIQACBGAAIAxAhAAIAYAQgAECMAAQBiBCAAQIwABACIEYAAADECEAAgRgACAMQIQACAmOfd\\\n",
              "A7Cv4zjuHgGAv+A8z7tH4CZuAAEAYgQgAECMAAQAiBGAAAAxAhAAIEYAAgDECEAAgBgBCAAQIwAB\\\n",
              "AGJsAuEjfvvj7y//7b/+8c+5QQC+nC1NvMINIABAjAAEAIgRgAAAMQIQACBGAAIAxAhAAIAYAQgA\\\n",
              "ECMAAQBiBCAAQIwABACIOc7zPO8egj1dWzf0+9DfPh5XPuErM69w7uTZq8w8ZepZTJ49OfNudnwW\\\n",
              "3/7N8V3cAAIAxAhAAIAYAQgAECMAAQBiBCAAQIwABACIEYAAADECEAAgRgACAMQIQACAGAEIABBj\\\n",
              "FzBvs29yb94ffCe/bV7hBhAAIEYAAgDECEAAgBgBCAAQIwABAGIEIABAjAAEAIgRgAAAMQIQACBG\\\n",
              "AAIAxDzvHgB+urLG6PG4tspoakXS5OqlHdc67facv/2bm7Tjs/j2meEVbgABAGIEIABAjAAEAIgR\\\n",
              "gAAAMQIQACBGAAIAxAhAAIAYAQgAECMAAQBiBCAAQMxx2i/Dm6xI4tN2XIsHn+Z3wivcAAIAxAhA\\\n",
              "AIAYAQgAECMAAQBiBCAAQIwABACIEYAAADECEAAgRgACAMQIQACAmOfdA8AnrbC+7urqJTPPm1w/\\\n",
              "6P29d+6OrLxkJ24AAQBiBCAAQIwABACIEYAAADECEAAgRgACAMQIQACAGAEIABAjAAEAYgQgAEDM\\\n",
              "cdovw5t2W/fFn+24Sgz4//z+eIUbQACAGAEIABAjAAEAYgQgAECMAAQAiBGAAAAxAhAAIEYAAgDE\\\n",
              "CEAAgBgBCAAQIwABAGKedw8AP13ZY/l4XNtlObUj89v36l59J1NWeH+TZ69w7tWzp3h/758Nr3AD\\\n",
              "CAAQIwABAGIEIABAjAAEAIgRgAAAMQIQACBGAAIAxAhAAIAYAQgAECMAAQBijtN+Gd5kRRLAelZY\\\n",
              "H8n63AACAMQIQACAGAEIABAjAAEAYgQgAECMAAQAiBGAAAAxAhAAIEYAAgDECEAAgJjn3QPAJ62w\\\n",
              "vu7q6iUzv3fupBWes2fx3rmTZ68yM7zCDSAAQIwABACIEYAAADECEAAgRgACAMQIQACAGAEIABAj\\\n",
              "AAEAYgQgAECMAAQAiDlO+2V40+QqMfgka7k+w/+MX3ZcX8d3cQMIABAjAAEAYgQgAECMAAQAiBGA\\\n",
              "AAAxAhAAIEYAAgDECEAAgBgBCAAQIwABAGIEIABAzPPuAeCnqzsyp0zt3py0yr7QqbN33HG647NY\\\n",
              "4TlP/qZWec5wJzeAAAAxAhAAIEYAAgDECEAAgBgBCAAQIwABAGIEIABAjAAEAIgRgAAAMQIQACDG\\\n",
              "KjiWM7lOaWq9lBVQfzb1PHY7d/JsM/+yyirGK/zP4G5uAAEAYgQgAECMAAQAiBGAAAAxAhAAIEYA\\\n",
              "AgDECEAAgBgBCAAQIwABAGIEIABAjFVwLOfqWqcVVipdmfnqvDuuuZp6HiucO3n2CudOnj058wom\\\n",
              "f6s7Pg/W5gYQACBGAAIAxAhAAIAYAQgAECMAAQBiBCAAQIwABACIEYAAADECEAAgRgACAMQcp/0y\\\n",
              "vGnHtU5WXAEr2HH9IN/FDSAAQIwABACIEYAAADECEAAgRgACAMQIQACAGAEIABAjAAEAYgQgAECM\\\n",
              "AAQAiHnePQD8NLkiaUc7rq+7+g4nTD2LybMnZ56y47NYYWa4mxtAAIAYAQgAECMAAQBiBCAAQIwA\\\n",
              "BACIEYAAADECEAAgRgACAMQIQACAGAEIABAjAAEAYo7T8kLeZEcmwHr8b+YVbgABAGIEIABAjAAE\\\n",
              "AIgRgAAAMQIQACBGAAIAxAhAAIAYAQgAECMAAQBiBCAAQMzz7gHgpytrjB6Pa6uMplYkTa5eWmHm\\\n",
              "SSs8Z9/cZ872zb137tWz4RVuAAEAYgQgAECMAAQAiBGAAAAxAhAAIEYAAgDECEAAgBgBCAAQIwAB\\\n",
              "AGIEIABAzHHaL8ObrEjiW/jm+CaTawL5Hm4AAQBiBCAAQIwABACIEYAAADECEAAgRgACAMQIQACA\\\n",
              "GAEIABAjAAEAYgQgAEDM8+4B4JOurvyacHX10gor9wozT9nxWez2O5lc5bfCs3g81vme+R5uAAEA\\\n",
              "YgQgAECMAAQAiBGAAAAxAhAAIEYAAgDECEAAgBgBCAAQIwABAGIEIABAzHHaL8ObdlzLBdzH/4xf\\\n",
              "Vllf9+3Pmf/NDSAAQIwABACIEYAAADECEAAgRgACAMQIQACAGAEIABAjAAEAYgQgAECMAAQAiBGA\\\n",
              "AAAxz7sHgJ923JE5uXvTzGudO3n2CudOnz1hlfcHO3EDCAAQIwABAGIEIABAjAAEAIgRgAAAMQIQ\\\n",
              "ACBGAAIAxAhAAIAYAQgAECMAAQBijnOFPT5sabd1UXyOb4NPmlwFtyO/P17hBhAAIEYAAgDECEAA\\\n",
              "gBgBCAAQIwABAGIEIABAjAAEAIgRgAAAMQIQACBGAAIAxDzvHgB+mlzrNLUiaXL10tXn8c1WeH/T\\\n",
              "Z0+Y/OZW+Z1cMfVOVvnm4BVuAAEAYgQgAECMAAQAiBGAAAAxAhAAIEYAAgDECEAAgBgBCAAQIwAB\\\n",
              "AGIEIABAjFVwLGfHlUeTM0+dvcparium5tjx/U3a7TnvuDYO7uYGEAAgRgACAMQIQACAGAEIABAj\\\n",
              "AAEAYgQgAECMAAQAiBGAAAAxAhAAIEYAAgDEWAXHcnZcvTS5Vm3HlW0rvMMrz2KFeR+PuZlX+eZW\\\n",
              "OPfq2fCt3AACAMQIQACAGAEIABAjAAEAYgQgAECMAAQAiBGAAAAxAhAAIEYAAgDECEAAgBgBCAAQ\\\n",
              "Yxcwy9lxT+fkzFNnr/KcV5hjhRmu8s3NnwvfzA0gAECMAAQAiBGAAAAxAhAAIEYAAgDECEAAgBgB\\\n",
              "CAAQIwABAGIEIABAjAAEAIixCo6POI5j7Owra6Am53jV1bVVV2be7VlctcqzmDp7hXMnz17hXOA/\\\n",
              "3AACAMQIQACAGAEIABAjAAEAYgQgAECMAAQAiBGAAAAxAhAAIEYAAgDECEAAgJjjvLojCP5rchUV\\\n",
              "cJ/dftuTq/x2tNv74x5uAAEAYgQgAECMAAQAiBGAAAAxAhAAIEYAAgDECEAAgBgBCAAQIwABAGIE\\\n",
              "IABAzPPuAeCnq2udplxZkTS5emnqbDO/d+7k2ZMzr2DHFWWrvL9Vngffww0gAECMAAQAiBGAAAAx\\\n",
              "AhAAIEYAAgDECEAAgBgBCAAQIwABAGIEIABAjAAEAIgRgAAAMXYBs5wdd15Ozjx1tpnnz5082+/k\\\n",
              "M6Zm/uO330bOhVe5AQQAiBGAAAAxAhAAIEYAAgDECEAAgBgBCAAQIwABAGIEIABAjAAEAIgRgAAA\\\n",
              "Mce5424elnAcx90jAPAXSIAuN4AAADECEAAgRgACAMQIQACAGAEIABAjAAEAYgQgAECMAAQAiBGA\\\n",
              "AAAxAhAAIOZ59wDsywohANiTG0AAgBgBCAAQIwABAGIEIABAjAAEAIgRgAAAMQIQACBGAAIAxAhA\\\n",
              "AIAYAQgAECMAAQBiBCAAQIwABACIEYAAADECEAAgRgACAMQIQACAGAEIABAjAAEAYgQgAECMAAQA\\\n",
              "iBGAAAAxAhAAIEYAAgDECEAAgBgBCAAQIwABAGIEIABAjAAEAIgRgAAAMQIQACBGAAIAxAhAAIAY\\\n",
              "AQgAECMAAQBiBCAAQIwABACIEYAAADECEAAgRgACAMQIQACAGAEIABAjAAEAYgQgAECMAAQAiBGA\\\n",
              "AAAxAhAAIEYAAgDECEAAgBgBCAAQIwABAGIEIABAzL8BnfUrhBiHAogAAAAASUVORK5CYII=\\\n",
              "\"\n",
              "\n",
              "\n",
              "    /* set a timeout to make sure all the above elements are created before\n",
              "       the object is initialized. */\n",
              "    setTimeout(function() {\n",
              "        anim7c2ebe4ae63640ac840169a41a1fe5a3 = new Animation(frames, img_id, slider_id, 32.0,\n",
              "                                 loop_select_id);\n",
              "    }, 0);\n",
              "  })()\n",
              "</script>\n"
            ]
          },
          "metadata": {},
          "execution_count": 29
        }
      ],
      "source": [
        "vis.draw_step(map, [], visited)\n",
        "vis.create_gif(fps=1)\n",
        "vis.show_gif()"
      ]
    },
    {
      "cell_type": "markdown",
      "metadata": {
        "id": "8o3F5sGT1YNm"
      },
      "source": [
        "## Μέρος 5: Bonus\n",
        "\n",
        "Υπενθυμίζεται ότι το output των κελιών που σχηματίζετε διατηρείται για περιορισμένο χρονικό διάστημα στο notebook, γι αυτό καλείστε να αποθηκεύσετε τη φωτογραφία (το πραγματοποιεί η συνάρτηση draw()) και να τη μεταφέρετε στο ανάλογο markdown."
      ]
    },
    {
      "cell_type": "code",
      "execution_count": null,
      "metadata": {
        "id": "k58iY7EPSa_m"
      },
      "outputs": [],
      "source": [
        "from IPython.display import HTML, Image\n",
        "from google.colab.output import eval_js\n",
        "from base64 import b64decode\n",
        "import PIL\n",
        "\n",
        "\n",
        "canvas_html = \"\"\"\n",
        "<canvas width=301 height=301></canvas>\n",
        "<br>\n",
        "\n",
        "<button id = \"start\" style=\"background-color: #008000\">Start</button>\n",
        "<button id = \"end\" style=\"background-color: #800000\">End</button>\n",
        "<button id = \"finish\">Finish</button>\n",
        "<script>\n",
        "\n",
        "var canvas = document.querySelector('canvas')\n",
        "var ctx = canvas.getContext('2d')\n",
        "\n",
        "for (var x = 0.5; x < 301; x += 20) {\n",
        "  ctx.moveTo(x, 0);\n",
        "  ctx.lineTo(x, 300);\n",
        "}\n",
        "\n",
        "for (var y = 0.5; y < 301; y += 20) {\n",
        "  ctx.moveTo(0, y);\n",
        "  ctx.lineTo(300, y);\n",
        "}\n",
        "\n",
        "ctx.strokeStyle = \"#000\";\n",
        "ctx.stroke();\n",
        "\n",
        "var button = document.getElementById('finish')\n",
        "var start_button = document.getElementById('start')\n",
        "var end_button = document.getElementById('end')\n",
        "\n",
        "\n",
        "start_button.onclick = ()=>{\n",
        "    ctx.fillStyle=\"#008000\";\n",
        "  }\n",
        "\n",
        "end_button.onclick = ()=>{\n",
        "    ctx.fillStyle=\"#800000\";\n",
        "  }\n",
        "\n",
        "\n",
        "var mouse = {x: 0, y: 0}\n",
        "canvas.addEventListener('mousemove', function(e) {\n",
        "  mouse.x = e.pageX - this.offsetLeft\n",
        "  mouse.y = e.pageY - this.offsetTop\n",
        "})\n",
        "\n",
        "function getMousePos(canvas, evt) {\n",
        "        var rect = canvas.getBoundingClientRect();\n",
        "        return {\n",
        "          x: evt.x - rect.left,\n",
        "          y: evt.y - rect.top\n",
        "        };\n",
        "      }\n",
        "\n",
        "function getNearestSquare(position) {\n",
        "    var x = position.x;\n",
        "    var y = position.y;\n",
        "\n",
        "    if (x < 0 || y < 0) return null;\n",
        "    x = (Math.floor(x / 20) * 20) + 0.5\n",
        "    y = (Math.floor(y / 20) * 20) + 0.5\n",
        "    return {x: x, y: y};\n",
        "}\n",
        "\n",
        "function containsObject(obj, list) {\n",
        "    var i;\n",
        "    for (i = 0; i < list.length; i++) {\n",
        "        if (list[i].x === obj.x && list[i].y == obj.y) {\n",
        "            return i;\n",
        "        }\n",
        "    }\n",
        "    return -1;\n",
        "}\n",
        "\n",
        "borders = []\n",
        "\n",
        "canvas.onmousedown = ()=>{\n",
        "    var pos = getNearestSquare(getMousePos(canvas, mouse));\n",
        "    if (pos != null) {\n",
        "        index = containsObject(pos, borders)\n",
        "        if (index != -1){\n",
        "            borders.splice(index, 1)\n",
        "            ctx.clearRect(pos.x + 1, pos.y, 19, 19)\n",
        "        }\n",
        "        else{\n",
        "            ctx.fillRect(pos.x+1,pos.y+1,18,18);\n",
        "            borders.push(pos)\n",
        "        }\n",
        "        ctx.fillStyle=\"#000000\";\n",
        "    }\n",
        "}\n",
        "var data = new Promise(resolve=>{\n",
        "  button.onclick = ()=>{\n",
        "    resolve(canvas.toDataURL('image/png'))\n",
        "  }\n",
        "})\n",
        "</script>\n",
        "\"\"\"\n",
        "\n",
        "def draw(filename='drawing.png'):\n",
        "  display(HTML(canvas_html))\n",
        "  data = eval_js(\"data\")\n",
        "  print (data)\n",
        "  binary = b64decode(data.split(',')[1])\n",
        "  with open(filename, 'wb') as f:\n",
        "    f.write(binary)\n",
        "  return len(binary)\n",
        "\n",
        "\n",
        "draw()"
      ]
    },
    {
      "cell_type": "code",
      "execution_count": null,
      "metadata": {
        "id": "D8fS2Z9Xg4fS"
      },
      "outputs": [],
      "source": [
        "def find_points(image_array, pixels):\n",
        "    points = []\n",
        "    for grid_i, i in enumerate(range (10, image_array.shape[0]-10, 20)):\n",
        "        for grid_j, j in enumerate(range (10, image_array.shape[1]-10, 20)):\n",
        "            if np.array_equal(image_array[i][j], pixels):\n",
        "                points.append([grid_i+1, grid_j+1])\n",
        "    return points\n",
        "\n",
        "def draw_grid(fname='/content/drawing.png'):\n",
        "    N = 17\n",
        "    image = PIL.Image.open(fname)\n",
        "    image_array = np.round(np.array(image)/255)\n",
        "\n",
        "    start_x, start_y = find_points(image_array, [0,1,0,1])[0]\n",
        "    end_x, end_y = find_points(image_array, [1, 0, 0, 1])[0]\n",
        "    walls = find_points(image_array, [0, 0, 0, 1])\n",
        "    new_grid = Maze(N, (start_x, start_y), (end_x, end_y))\n",
        "\n",
        "    for i in range(N):\n",
        "        for j in range(N):\n",
        "            if [i, j] in walls:\n",
        "                new_grid.grid[i,j] = 0\n",
        "            else:\n",
        "                new_grid.grid[i, j] = 1\n",
        "\n",
        "    g = new_grid\n",
        "    g.draw_map()\n",
        "    return g\n",
        "\n",
        "g = draw_grid()"
      ]
    },
    {
      "cell_type": "code",
      "execution_count": null,
      "metadata": {
        "id": "O41WKWFvzXk7"
      },
      "outputs": [],
      "source": [
        "pf = pathfinder(g.S, g.F, g, lambda x, y: 1, lambda x, y: 0)\n",
        "g.draw_map(pf.get_path())"
      ]
    },
    {
      "cell_type": "code",
      "execution_count": null,
      "metadata": {
        "id": "WY8URi132WP2"
      },
      "outputs": [],
      "source": [
        "pf.vis.show_gif()"
      ]
    },
    {
      "cell_type": "markdown",
      "metadata": {
        "id": "tprNeqaPIdlW"
      },
      "source": [
        "### 5.1.  "
      ]
    },
    {
      "cell_type": "code",
      "execution_count": null,
      "metadata": {
        "id": "vF3u1cCeIo9H"
      },
      "outputs": [],
      "source": [
        "draw(filename='5.1.png')"
      ]
    },
    {
      "cell_type": "markdown",
      "metadata": {
        "id": "QjwsOf63Ir7V"
      },
      "source": [
        "#### Εισάγετε εδώ την φωτογραφία όπως αυτή προέκυψε από την εκτέλεση και αλληλεπίδραση με το παραπάνω κελί.  \n",
        "\n",
        "\n",
        "#### Εισάγετε εδώ το σχολιασμό σας    \n",
        "\n",
        "\n",
        "\n",
        "(Υπενθύμιση: για τον Hill Climbing δε χρειάζετει να τρέξετε το χάρτη που σχηματίσατε)"
      ]
    },
    {
      "cell_type": "markdown",
      "metadata": {
        "id": "CxyUgnTaIhHa"
      },
      "source": [
        "### 5.2.  "
      ]
    },
    {
      "cell_type": "code",
      "execution_count": null,
      "metadata": {
        "id": "ZT1RxaUJJBok"
      },
      "outputs": [],
      "source": [
        "draw(filename='5.2.png')"
      ]
    },
    {
      "cell_type": "markdown",
      "metadata": {
        "id": "2whQnhT7JGbR"
      },
      "source": [
        "#### Εισάγετε εδώ την φωτογραφία όπως αυτή προέκυψε από την εκτέλεση και αλληλεπίδραση με το παραπάνω κελί.  \n",
        "\n",
        "\n",
        "#### Εισάγετε εδώ το σχολιασμό σας"
      ]
    },
    {
      "cell_type": "code",
      "execution_count": null,
      "metadata": {
        "id": "mSCwE_MZ9Ewa"
      },
      "outputs": [],
      "source": [
        "g = draw_grid()"
      ]
    },
    {
      "cell_type": "code",
      "execution_count": null,
      "metadata": {
        "id": "a-M664IJ9GR-"
      },
      "outputs": [],
      "source": [
        "pf = pathfinder(g.S, g.F, g, c, h)   # change arguments to choose the appropriate pathfinding algorithm and cost/heuristic (if applicable)\n",
        "g.draw_map(pf.get_path())"
      ]
    },
    {
      "cell_type": "code",
      "execution_count": null,
      "metadata": {
        "id": "ZCb5j2Ul_uCo"
      },
      "outputs": [],
      "source": [
        "pf.vis.show_gif()"
      ]
    },
    {
      "cell_type": "markdown",
      "metadata": {
        "id": "rqqmkt3U_9q1"
      },
      "source": [
        "### 5.3."
      ]
    },
    {
      "cell_type": "code",
      "execution_count": null,
      "metadata": {
        "id": "UwqILZmBJjJ-"
      },
      "outputs": [],
      "source": [
        "draw(filename='5.3.png')"
      ]
    },
    {
      "cell_type": "markdown",
      "metadata": {
        "id": "-A3mBvHiJoQq"
      },
      "source": [
        "#### Εισάγετε εδώ την φωτογραφία όπως αυτή προέκυψε από την εκτέλεση και αλληλεπίδραση με το παραπάνω κελί.  \n",
        "\n",
        "\n",
        "#### Εισάγετε εδώ το σχολιασμό σας"
      ]
    },
    {
      "cell_type": "code",
      "execution_count": null,
      "metadata": {
        "id": "apabzO95ACov"
      },
      "outputs": [],
      "source": [
        "g = draw_grid()"
      ]
    },
    {
      "cell_type": "code",
      "execution_count": null,
      "metadata": {
        "id": "V1s5kFo5ADsb"
      },
      "outputs": [],
      "source": [
        "pf = pathfinder(g.S, g.F, g, c, h)   # change arguments to choose the appropriate pathfinding algorithm and cost/heuristic (if applicable)\n",
        "g.draw_map(pf.get_path())"
      ]
    },
    {
      "cell_type": "code",
      "execution_count": null,
      "metadata": {
        "id": "gdTJbRpmAD0X"
      },
      "outputs": [],
      "source": [
        "pf.vis.show_gif()"
      ]
    },
    {
      "cell_type": "markdown",
      "metadata": {
        "id": "x41xMK-VAGHp"
      },
      "source": [
        "### 5.4.  "
      ]
    },
    {
      "cell_type": "code",
      "execution_count": null,
      "metadata": {
        "id": "ndh3zuH4Jjyo"
      },
      "outputs": [],
      "source": [
        "draw(filename='5.4.png')"
      ]
    },
    {
      "cell_type": "markdown",
      "metadata": {
        "id": "UOEI0BCCJqFz"
      },
      "source": [
        "#### Εισάγετε εδώ την φωτογραφία όπως αυτή προέκυψε από την εκτέλεση και αλληλεπίδραση με το παραπάνω κελί.  \n",
        "\n",
        "\n",
        "#### Εισάγετε εδώ το σχολιασμό σας"
      ]
    },
    {
      "cell_type": "code",
      "execution_count": null,
      "metadata": {
        "id": "ixRxVVOwAK8K"
      },
      "outputs": [],
      "source": [
        "g = draw_grid()"
      ]
    },
    {
      "cell_type": "code",
      "execution_count": null,
      "metadata": {
        "id": "3Qrz7mawALUY"
      },
      "outputs": [],
      "source": [
        "pf = pathfinder(g.S, g.F, g, c, h)   # change arguments to choose the appropriate pathfinding algorithm and cost/heuristic (if applicable)\n",
        "g.draw_map(pf.get_path())"
      ]
    },
    {
      "cell_type": "code",
      "execution_count": null,
      "metadata": {
        "id": "5ze26bEaALcm"
      },
      "outputs": [],
      "source": [
        "pf.vis.show_gif()"
      ]
    },
    {
      "cell_type": "markdown",
      "metadata": {
        "id": "KcKfD8ylAOpb"
      },
      "source": [
        "### 5.5  "
      ]
    },
    {
      "cell_type": "code",
      "execution_count": null,
      "metadata": {
        "id": "tzK7U4PfJkIC"
      },
      "outputs": [],
      "source": [
        "draw(filename='5.5.png')"
      ]
    },
    {
      "cell_type": "markdown",
      "metadata": {
        "id": "gudt2lGiJrW0"
      },
      "source": [
        "#### Εισάγετε εδώ την φωτογραφία όπως αυτή προέκυψε από την εκτέλεση και αλληλεπίδραση με το παραπάνω κελί.  \n",
        "\n",
        "\n",
        "#### Εισάγετε εδώ το σχολιασμό σας"
      ]
    },
    {
      "cell_type": "code",
      "execution_count": null,
      "metadata": {
        "id": "zT3sxMjVARhy"
      },
      "outputs": [],
      "source": [
        "g = draw_grid()"
      ]
    },
    {
      "cell_type": "code",
      "execution_count": null,
      "metadata": {
        "id": "CVET3yUWATTB"
      },
      "outputs": [],
      "source": [
        "pf = pathfinder(g.S, g.F, g, c, h)   # change arguments to choose the appropriate pathfinding algorithm and cost/heuristic (if applicable)\n",
        "g.draw_map(pf.get_path())"
      ]
    },
    {
      "cell_type": "code",
      "execution_count": null,
      "metadata": {
        "id": "I6uV-Co-_qj4"
      },
      "outputs": [],
      "source": [
        "pf.vis.show_gif()"
      ]
    }
  ],
  "metadata": {
    "colab": {
      "collapsed_sections": [
        "k4B8EEBhClt2",
        "HTjP864PLeRW"
      ],
      "provenance": []
    },
    "kernelspec": {
      "display_name": "Python 3",
      "name": "python3"
    }
  },
  "nbformat": 4,
  "nbformat_minor": 0
}